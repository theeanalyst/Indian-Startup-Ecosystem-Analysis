{
 "cells": [
  {
   "cell_type": "markdown",
   "metadata": {},
   "source": [
    "## Introduction\n",
    "We seek to analyse funding received by startups in India. The aim is to prescribe the best course of action for a startup looking into the Indian business ecosystem."
   ]
  },
  {
   "cell_type": "code",
   "execution_count": 1,
   "metadata": {},
   "outputs": [],
   "source": [
    "import pyodbc \n",
    "import numpy as np\n",
    "from dotenv import dotenv_values\n",
    "import pandas as pd\n",
    "import re\n",
    "import seaborn as sns\n",
    "import matplotlib.pyplot as plt\n",
    "import scipy.stats as stats\n",
    "import squarify\n",
    "import warnings \n",
    "\n",
    "warnings.filterwarnings('ignore')"
   ]
  },
  {
   "cell_type": "code",
   "execution_count": 2,
   "metadata": {},
   "outputs": [],
   "source": [
    "# Load environment variables from .env file into a dictionary\n",
    "environment_variables = dotenv_values('.env')\n",
    "\n",
    "# Get the values for the credentials you set in the '.env' file\n",
    "database = environment_variables.get(\"DATABASE\")\n",
    "server = environment_variables.get(\"SERVER\")\n",
    "username = environment_variables.get(\"USERNAME\")\n",
    "password = environment_variables.get(\"PASSWORD\")\n",
    "\n",
    "connection_string = f\"DRIVER={{SQL Server}};SERVER={server};DATABASE={database};UID={username};PWD={password}\""
   ]
  },
  {
   "cell_type": "code",
   "execution_count": 3,
   "metadata": {},
   "outputs": [],
   "source": [
    "# Use the connect method of the pyodbc library and pass in the connection string this will connect to the server.\n",
    "\n",
    "connection = pyodbc.connect(connection_string)"
   ]
  },
  {
   "cell_type": "markdown",
   "metadata": {},
   "source": [
    "## DATA LOADING"
   ]
  },
  {
   "cell_type": "markdown",
   "metadata": {},
   "source": [
    "### 2018, 2019, 2020, 2021 Data Loading"
   ]
  },
  {
   "cell_type": "code",
   "execution_count": 4,
   "metadata": {},
   "outputs": [
    {
     "name": "stdout",
     "output_type": "stream",
     "text": [
      "(526, 6) (89, 9) (1055, 10) (1209, 9)\n"
     ]
    }
   ],
   "source": [
    "data18= pd.read_csv('startup_funding2018.csv')\n",
    "\n",
    "data19=pd.read_csv('startup_funding2019.csv')\n",
    "\n",
    "fetch20 = 'Select * from dbo.LP1_startup_funding2020'\n",
    "data20 = pd.read_sql(fetch20, connection)\n",
    "\n",
    "fetch21 = 'Select * from dbo.LP1_startup_funding2021'\n",
    "data21 = pd.read_sql(fetch21, connection)\n",
    "\n",
    "# #checking the shape of each file\n",
    "print(data18.shape,data19.shape,data20.shape,data21.shape)\n"
   ]
  },
  {
   "cell_type": "markdown",
   "metadata": {},
   "source": [
    "## DATA CLEANING "
   ]
  },
  {
   "cell_type": "markdown",
   "metadata": {},
   "source": [
    "### Create uniform title names to each column"
   ]
  },
  {
   "cell_type": "code",
   "execution_count": 5,
   "metadata": {},
   "outputs": [],
   "source": [
    "data19.rename(columns={\n",
    "    'Company/Brand':'Company_Brand',\n",
    "    'What it does':'What_it_does',\n",
    "}, inplace=True)\n",
    "\n",
    "data20.rename(columns={\n",
    "    'Amount':'Amount($)',\n",
    "}, inplace=True)\n",
    "\n",
    "data21.rename(columns={\n",
    "    'Amount':'Amount($)',\n",
    "}, inplace=True)\n",
    "\n",
    "data18.rename(columns={\n",
    "    'Amount':'Amount($)',\n",
    "}, inplace=True)\n",
    "\n",
    "data18.rename(columns={\n",
    "    'Company Name':'Company_Brand',\n",
    "    'Industry':'Sector',\n",
    "    'About Company':'What_it_does',\n",
    "    'Amount':'Amount($)',\n",
    "    'Location':'HeadQuarter',\n",
    "    'Round/Series':'Stage',\n",
    "}, inplace=True)"
   ]
  },
  {
   "cell_type": "markdown",
   "metadata": {},
   "source": [
    "Adding Column year in all datasets"
   ]
  },
  {
   "cell_type": "code",
   "execution_count": 6,
   "metadata": {},
   "outputs": [],
   "source": [
    "data18['Year'] = '2018'\n",
    "data19['Year'] = '2019'\n",
    "data20['Year'] = '2020'\n",
    "data21['Year'] = '2021'"
   ]
  },
  {
   "cell_type": "markdown",
   "metadata": {},
   "source": [
    "Deleting of unnecessary columns"
   ]
  },
  {
   "cell_type": "code",
   "execution_count": 7,
   "metadata": {},
   "outputs": [],
   "source": [
    "columns_to_drop2 = ['Founded','Founders','Investor']\n",
    "data19 = data19.drop(columns_to_drop2, axis=1)\n",
    "\n",
    "columns_to_drop3 = ['Founded','Founders','Investor','column10']\n",
    "data20 = data20.drop(columns_to_drop3, axis=1)\n"
   ]
  },
  {
   "cell_type": "markdown",
   "metadata": {},
   "source": [
    "VIEWING ALL DATA HEADS"
   ]
  },
  {
   "cell_type": "code",
   "execution_count": 8,
   "metadata": {},
   "outputs": [
    {
     "data": {
      "text/html": [
       "<div>\n",
       "<style scoped>\n",
       "    .dataframe tbody tr th:only-of-type {\n",
       "        vertical-align: middle;\n",
       "    }\n",
       "\n",
       "    .dataframe tbody tr th {\n",
       "        vertical-align: top;\n",
       "    }\n",
       "\n",
       "    .dataframe thead th {\n",
       "        text-align: right;\n",
       "    }\n",
       "</style>\n",
       "<table border=\"1\" class=\"dataframe\">\n",
       "  <thead>\n",
       "    <tr style=\"text-align: right;\">\n",
       "      <th></th>\n",
       "      <th>Company_Brand</th>\n",
       "      <th>Sector</th>\n",
       "      <th>Stage</th>\n",
       "      <th>Amount($)</th>\n",
       "      <th>HeadQuarter</th>\n",
       "      <th>What_it_does</th>\n",
       "      <th>Year</th>\n",
       "    </tr>\n",
       "  </thead>\n",
       "  <tbody>\n",
       "    <tr>\n",
       "      <th>0</th>\n",
       "      <td>TheCollegeFever</td>\n",
       "      <td>Brand Marketing, Event Promotion, Marketing, S...</td>\n",
       "      <td>Seed</td>\n",
       "      <td>250000</td>\n",
       "      <td>Bangalore, Karnataka, India</td>\n",
       "      <td>TheCollegeFever is a hub for fun, fiesta and f...</td>\n",
       "      <td>2018</td>\n",
       "    </tr>\n",
       "  </tbody>\n",
       "</table>\n",
       "</div>"
      ],
      "text/plain": [
       "     Company_Brand                                             Sector Stage  \\\n",
       "0  TheCollegeFever  Brand Marketing, Event Promotion, Marketing, S...  Seed   \n",
       "\n",
       "  Amount($)                  HeadQuarter  \\\n",
       "0    250000  Bangalore, Karnataka, India   \n",
       "\n",
       "                                        What_it_does  Year  \n",
       "0  TheCollegeFever is a hub for fun, fiesta and f...  2018  "
      ]
     },
     "execution_count": 8,
     "metadata": {},
     "output_type": "execute_result"
    }
   ],
   "source": [
    "data18.head(1)"
   ]
  },
  {
   "cell_type": "code",
   "execution_count": 9,
   "metadata": {},
   "outputs": [
    {
     "data": {
      "text/html": [
       "<div>\n",
       "<style scoped>\n",
       "    .dataframe tbody tr th:only-of-type {\n",
       "        vertical-align: middle;\n",
       "    }\n",
       "\n",
       "    .dataframe tbody tr th {\n",
       "        vertical-align: top;\n",
       "    }\n",
       "\n",
       "    .dataframe thead th {\n",
       "        text-align: right;\n",
       "    }\n",
       "</style>\n",
       "<table border=\"1\" class=\"dataframe\">\n",
       "  <thead>\n",
       "    <tr style=\"text-align: right;\">\n",
       "      <th></th>\n",
       "      <th>Company_Brand</th>\n",
       "      <th>HeadQuarter</th>\n",
       "      <th>Sector</th>\n",
       "      <th>What_it_does</th>\n",
       "      <th>Amount($)</th>\n",
       "      <th>Stage</th>\n",
       "      <th>Year</th>\n",
       "    </tr>\n",
       "  </thead>\n",
       "  <tbody>\n",
       "    <tr>\n",
       "      <th>0</th>\n",
       "      <td>Bombay Shaving</td>\n",
       "      <td>NaN</td>\n",
       "      <td>Ecommerce</td>\n",
       "      <td>Provides a range of male grooming products</td>\n",
       "      <td>$6,300,000</td>\n",
       "      <td>NaN</td>\n",
       "      <td>2019</td>\n",
       "    </tr>\n",
       "  </tbody>\n",
       "</table>\n",
       "</div>"
      ],
      "text/plain": [
       "    Company_Brand HeadQuarter     Sector  \\\n",
       "0  Bombay Shaving         NaN  Ecommerce   \n",
       "\n",
       "                                 What_it_does   Amount($) Stage  Year  \n",
       "0  Provides a range of male grooming products  $6,300,000   NaN  2019  "
      ]
     },
     "execution_count": 9,
     "metadata": {},
     "output_type": "execute_result"
    }
   ],
   "source": [
    "data19.head(1)"
   ]
  },
  {
   "cell_type": "code",
   "execution_count": 10,
   "metadata": {},
   "outputs": [
    {
     "data": {
      "text/html": [
       "<div>\n",
       "<style scoped>\n",
       "    .dataframe tbody tr th:only-of-type {\n",
       "        vertical-align: middle;\n",
       "    }\n",
       "\n",
       "    .dataframe tbody tr th {\n",
       "        vertical-align: top;\n",
       "    }\n",
       "\n",
       "    .dataframe thead th {\n",
       "        text-align: right;\n",
       "    }\n",
       "</style>\n",
       "<table border=\"1\" class=\"dataframe\">\n",
       "  <thead>\n",
       "    <tr style=\"text-align: right;\">\n",
       "      <th></th>\n",
       "      <th>Company_Brand</th>\n",
       "      <th>HeadQuarter</th>\n",
       "      <th>Sector</th>\n",
       "      <th>What_it_does</th>\n",
       "      <th>Amount($)</th>\n",
       "      <th>Stage</th>\n",
       "      <th>Year</th>\n",
       "    </tr>\n",
       "  </thead>\n",
       "  <tbody>\n",
       "    <tr>\n",
       "      <th>0</th>\n",
       "      <td>Aqgromalin</td>\n",
       "      <td>Chennai</td>\n",
       "      <td>AgriTech</td>\n",
       "      <td>Cultivating Ideas for Profit</td>\n",
       "      <td>200000.0</td>\n",
       "      <td>None</td>\n",
       "      <td>2020</td>\n",
       "    </tr>\n",
       "  </tbody>\n",
       "</table>\n",
       "</div>"
      ],
      "text/plain": [
       "  Company_Brand HeadQuarter    Sector                  What_it_does  \\\n",
       "0    Aqgromalin     Chennai  AgriTech  Cultivating Ideas for Profit   \n",
       "\n",
       "   Amount($) Stage  Year  \n",
       "0   200000.0  None  2020  "
      ]
     },
     "execution_count": 10,
     "metadata": {},
     "output_type": "execute_result"
    }
   ],
   "source": [
    "data20.head(1)"
   ]
  },
  {
   "cell_type": "code",
   "execution_count": 11,
   "metadata": {},
   "outputs": [
    {
     "data": {
      "text/html": [
       "<div>\n",
       "<style scoped>\n",
       "    .dataframe tbody tr th:only-of-type {\n",
       "        vertical-align: middle;\n",
       "    }\n",
       "\n",
       "    .dataframe tbody tr th {\n",
       "        vertical-align: top;\n",
       "    }\n",
       "\n",
       "    .dataframe thead th {\n",
       "        text-align: right;\n",
       "    }\n",
       "</style>\n",
       "<table border=\"1\" class=\"dataframe\">\n",
       "  <thead>\n",
       "    <tr style=\"text-align: right;\">\n",
       "      <th></th>\n",
       "      <th>Company_Brand</th>\n",
       "      <th>Founded</th>\n",
       "      <th>HeadQuarter</th>\n",
       "      <th>Sector</th>\n",
       "      <th>What_it_does</th>\n",
       "      <th>Founders</th>\n",
       "      <th>Investor</th>\n",
       "      <th>Amount($)</th>\n",
       "      <th>Stage</th>\n",
       "      <th>Year</th>\n",
       "    </tr>\n",
       "  </thead>\n",
       "  <tbody>\n",
       "    <tr>\n",
       "      <th>0</th>\n",
       "      <td>Unbox Robotics</td>\n",
       "      <td>2019.0</td>\n",
       "      <td>Bangalore</td>\n",
       "      <td>AI startup</td>\n",
       "      <td>Unbox Robotics builds on-demand AI-driven ware...</td>\n",
       "      <td>Pramod Ghadge, Shahid Memon</td>\n",
       "      <td>BEENEXT, Entrepreneur First</td>\n",
       "      <td>$1,200,000</td>\n",
       "      <td>Pre-series A</td>\n",
       "      <td>2021</td>\n",
       "    </tr>\n",
       "  </tbody>\n",
       "</table>\n",
       "</div>"
      ],
      "text/plain": [
       "    Company_Brand  Founded HeadQuarter      Sector  \\\n",
       "0  Unbox Robotics   2019.0   Bangalore  AI startup   \n",
       "\n",
       "                                        What_it_does  \\\n",
       "0  Unbox Robotics builds on-demand AI-driven ware...   \n",
       "\n",
       "                      Founders                     Investor   Amount($)  \\\n",
       "0  Pramod Ghadge, Shahid Memon  BEENEXT, Entrepreneur First  $1,200,000   \n",
       "\n",
       "          Stage  Year  \n",
       "0  Pre-series A  2021  "
      ]
     },
     "execution_count": 11,
     "metadata": {},
     "output_type": "execute_result"
    }
   ],
   "source": [
    "data21.head(1)"
   ]
  },
  {
   "cell_type": "markdown",
   "metadata": {},
   "source": [
    "### CLEANING 2018 DATA"
   ]
  },
  {
   "cell_type": "markdown",
   "metadata": {},
   "source": [
    "Overview of the Data"
   ]
  },
  {
   "cell_type": "code",
   "execution_count": 12,
   "metadata": {},
   "outputs": [
    {
     "name": "stdout",
     "output_type": "stream",
     "text": [
      "<class 'pandas.core.frame.DataFrame'>\n",
      "RangeIndex: 526 entries, 0 to 525\n",
      "Data columns (total 7 columns):\n",
      " #   Column         Non-Null Count  Dtype \n",
      "---  ------         --------------  ----- \n",
      " 0   Company_Brand  526 non-null    object\n",
      " 1   Sector         526 non-null    object\n",
      " 2   Stage          526 non-null    object\n",
      " 3   Amount($)      526 non-null    object\n",
      " 4   HeadQuarter    526 non-null    object\n",
      " 5   What_it_does   526 non-null    object\n",
      " 6   Year           526 non-null    object\n",
      "dtypes: object(7)\n",
      "memory usage: 28.9+ KB\n"
     ]
    }
   ],
   "source": [
    "data18.info()"
   ]
  },
  {
   "cell_type": "code",
   "execution_count": 13,
   "metadata": {},
   "outputs": [
    {
     "data": {
      "text/html": [
       "<div>\n",
       "<style scoped>\n",
       "    .dataframe tbody tr th:only-of-type {\n",
       "        vertical-align: middle;\n",
       "    }\n",
       "\n",
       "    .dataframe tbody tr th {\n",
       "        vertical-align: top;\n",
       "    }\n",
       "\n",
       "    .dataframe thead th {\n",
       "        text-align: right;\n",
       "    }\n",
       "</style>\n",
       "<table border=\"1\" class=\"dataframe\">\n",
       "  <thead>\n",
       "    <tr style=\"text-align: right;\">\n",
       "      <th></th>\n",
       "      <th>Company_Brand</th>\n",
       "      <th>Sector</th>\n",
       "      <th>Stage</th>\n",
       "      <th>Amount($)</th>\n",
       "      <th>HeadQuarter</th>\n",
       "      <th>What_it_does</th>\n",
       "      <th>Year</th>\n",
       "    </tr>\n",
       "  </thead>\n",
       "  <tbody>\n",
       "    <tr>\n",
       "      <th>0</th>\n",
       "      <td>TheCollegeFever</td>\n",
       "      <td>Brand Marketing, Event Promotion, Marketing, S...</td>\n",
       "      <td>Seed</td>\n",
       "      <td>250000</td>\n",
       "      <td>Bangalore, Karnataka, India</td>\n",
       "      <td>TheCollegeFever is a hub for fun, fiesta and f...</td>\n",
       "      <td>2018</td>\n",
       "    </tr>\n",
       "    <tr>\n",
       "      <th>1</th>\n",
       "      <td>Happy Cow Dairy</td>\n",
       "      <td>Agriculture, Farming</td>\n",
       "      <td>Seed</td>\n",
       "      <td>₹40,000,000</td>\n",
       "      <td>Mumbai, Maharashtra, India</td>\n",
       "      <td>A startup which aggregates milk from dairy far...</td>\n",
       "      <td>2018</td>\n",
       "    </tr>\n",
       "    <tr>\n",
       "      <th>2</th>\n",
       "      <td>MyLoanCare</td>\n",
       "      <td>Credit, Financial Services, Lending, Marketplace</td>\n",
       "      <td>Series A</td>\n",
       "      <td>₹65,000,000</td>\n",
       "      <td>Gurgaon, Haryana, India</td>\n",
       "      <td>Leading Online Loans Marketplace in India</td>\n",
       "      <td>2018</td>\n",
       "    </tr>\n",
       "    <tr>\n",
       "      <th>3</th>\n",
       "      <td>PayMe India</td>\n",
       "      <td>Financial Services, FinTech</td>\n",
       "      <td>Angel</td>\n",
       "      <td>2000000</td>\n",
       "      <td>Noida, Uttar Pradesh, India</td>\n",
       "      <td>PayMe India is an innovative FinTech organizat...</td>\n",
       "      <td>2018</td>\n",
       "    </tr>\n",
       "    <tr>\n",
       "      <th>4</th>\n",
       "      <td>Eunimart</td>\n",
       "      <td>E-Commerce Platforms, Retail, SaaS</td>\n",
       "      <td>Seed</td>\n",
       "      <td>—</td>\n",
       "      <td>Hyderabad, Andhra Pradesh, India</td>\n",
       "      <td>Eunimart is a one stop solution for merchants ...</td>\n",
       "      <td>2018</td>\n",
       "    </tr>\n",
       "    <tr>\n",
       "      <th>5</th>\n",
       "      <td>Hasura</td>\n",
       "      <td>Cloud Infrastructure, PaaS, SaaS</td>\n",
       "      <td>Seed</td>\n",
       "      <td>1600000</td>\n",
       "      <td>Bengaluru, Karnataka, India</td>\n",
       "      <td>Hasura is a platform that allows developers to...</td>\n",
       "      <td>2018</td>\n",
       "    </tr>\n",
       "    <tr>\n",
       "      <th>6</th>\n",
       "      <td>Tripshelf</td>\n",
       "      <td>Internet, Leisure, Marketplace</td>\n",
       "      <td>Seed</td>\n",
       "      <td>₹16,000,000</td>\n",
       "      <td>Kalkaji, Delhi, India</td>\n",
       "      <td>Tripshelf is an online market place for holida...</td>\n",
       "      <td>2018</td>\n",
       "    </tr>\n",
       "    <tr>\n",
       "      <th>7</th>\n",
       "      <td>Hyperdata.IO</td>\n",
       "      <td>Market Research</td>\n",
       "      <td>Angel</td>\n",
       "      <td>₹50,000,000</td>\n",
       "      <td>Hyderabad, Andhra Pradesh, India</td>\n",
       "      <td>Hyperdata combines advanced machine learning w...</td>\n",
       "      <td>2018</td>\n",
       "    </tr>\n",
       "    <tr>\n",
       "      <th>8</th>\n",
       "      <td>Freightwalla</td>\n",
       "      <td>Information Services, Information Technology</td>\n",
       "      <td>Seed</td>\n",
       "      <td>—</td>\n",
       "      <td>Mumbai, Maharashtra, India</td>\n",
       "      <td>Freightwalla is an international forwarder tha...</td>\n",
       "      <td>2018</td>\n",
       "    </tr>\n",
       "    <tr>\n",
       "      <th>9</th>\n",
       "      <td>Microchip Payments</td>\n",
       "      <td>Mobile Payments</td>\n",
       "      <td>Seed</td>\n",
       "      <td>—</td>\n",
       "      <td>Bangalore, Karnataka, India</td>\n",
       "      <td>Microchip payments is a mobile-based payment a...</td>\n",
       "      <td>2018</td>\n",
       "    </tr>\n",
       "  </tbody>\n",
       "</table>\n",
       "</div>"
      ],
      "text/plain": [
       "        Company_Brand                                             Sector  \\\n",
       "0     TheCollegeFever  Brand Marketing, Event Promotion, Marketing, S...   \n",
       "1     Happy Cow Dairy                               Agriculture, Farming   \n",
       "2          MyLoanCare   Credit, Financial Services, Lending, Marketplace   \n",
       "3         PayMe India                        Financial Services, FinTech   \n",
       "4            Eunimart                 E-Commerce Platforms, Retail, SaaS   \n",
       "5              Hasura                   Cloud Infrastructure, PaaS, SaaS   \n",
       "6           Tripshelf                     Internet, Leisure, Marketplace   \n",
       "7        Hyperdata.IO                                    Market Research   \n",
       "8        Freightwalla       Information Services, Information Technology   \n",
       "9  Microchip Payments                                    Mobile Payments   \n",
       "\n",
       "      Stage    Amount($)                       HeadQuarter  \\\n",
       "0      Seed       250000       Bangalore, Karnataka, India   \n",
       "1      Seed  ₹40,000,000        Mumbai, Maharashtra, India   \n",
       "2  Series A  ₹65,000,000           Gurgaon, Haryana, India   \n",
       "3     Angel      2000000       Noida, Uttar Pradesh, India   \n",
       "4      Seed            —  Hyderabad, Andhra Pradesh, India   \n",
       "5      Seed      1600000       Bengaluru, Karnataka, India   \n",
       "6      Seed  ₹16,000,000             Kalkaji, Delhi, India   \n",
       "7     Angel  ₹50,000,000  Hyderabad, Andhra Pradesh, India   \n",
       "8      Seed            —        Mumbai, Maharashtra, India   \n",
       "9      Seed            —       Bangalore, Karnataka, India   \n",
       "\n",
       "                                        What_it_does  Year  \n",
       "0  TheCollegeFever is a hub for fun, fiesta and f...  2018  \n",
       "1  A startup which aggregates milk from dairy far...  2018  \n",
       "2          Leading Online Loans Marketplace in India  2018  \n",
       "3  PayMe India is an innovative FinTech organizat...  2018  \n",
       "4  Eunimart is a one stop solution for merchants ...  2018  \n",
       "5  Hasura is a platform that allows developers to...  2018  \n",
       "6  Tripshelf is an online market place for holida...  2018  \n",
       "7  Hyperdata combines advanced machine learning w...  2018  \n",
       "8  Freightwalla is an international forwarder tha...  2018  \n",
       "9  Microchip payments is a mobile-based payment a...  2018  "
      ]
     },
     "execution_count": 13,
     "metadata": {},
     "output_type": "execute_result"
    }
   ],
   "source": [
    "data18.head(10)"
   ]
  },
  {
   "cell_type": "code",
   "execution_count": 14,
   "metadata": {},
   "outputs": [
    {
     "data": {
      "text/plain": [
       "Company_Brand    0\n",
       "Sector           0\n",
       "Stage            0\n",
       "Amount($)        0\n",
       "HeadQuarter      0\n",
       "What_it_does     0\n",
       "Year             0\n",
       "dtype: int64"
      ]
     },
     "execution_count": 14,
     "metadata": {},
     "output_type": "execute_result"
    }
   ],
   "source": [
    "# Check missing values in the dataset\n",
    "data18.isna().sum()"
   ]
  },
  {
   "cell_type": "markdown",
   "metadata": {},
   "source": [
    "1. Amount Column"
   ]
  },
  {
   "cell_type": "code",
   "execution_count": 15,
   "metadata": {},
   "outputs": [
    {
     "data": {
      "text/plain": [
       "array(['250000', '₹40,000,000', '₹65,000,000', '2000000', '—', '1600000',\n",
       "       '₹16,000,000', '₹50,000,000', '₹100,000,000', '150000', '1100000',\n",
       "       '₹500,000', '6000000', '650000', '₹35,000,000', '₹64,000,000',\n",
       "       '₹20,000,000', '1000000', '5000000', '4000000', '₹30,000,000',\n",
       "       '2800000', '1700000', '1300000', '₹5,000,000', '₹12,500,000',\n",
       "       '₹15,000,000', '500000', '₹104,000,000', '₹45,000,000', '13400000',\n",
       "       '₹25,000,000', '₹26,400,000', '₹8,000,000', '₹60,000', '9000000',\n",
       "       '100000', '20000', '120000', '₹34,000,000', '₹342,000,000',\n",
       "       '$143,145', '₹600,000,000', '$742,000,000', '₹1,000,000,000',\n",
       "       '₹2,000,000,000', '$3,980,000', '$10,000', '₹100,000',\n",
       "       '₹250,000,000', '$1,000,000,000', '$7,000,000', '$35,000,000',\n",
       "       '₹550,000,000', '$28,500,000', '$2,000,000', '₹240,000,000',\n",
       "       '₹120,000,000', '$2,400,000', '$30,000,000', '₹2,500,000,000',\n",
       "       '$23,000,000', '$150,000', '$11,000,000', '₹44,000,000',\n",
       "       '$3,240,000', '₹60,000,000', '$540,000,000', '₹650,000,000',\n",
       "       '₹1,600,000,000', '$900,000', '$10,000,000', '$1,500,000',\n",
       "       '₹70,000,000', '$1,000,000', '$5,000,000', '$14,000,000',\n",
       "       '₹102,500,000', '$100,000,000', '₹1,200,000', '₹5,200,000,000',\n",
       "       '$800,000', '$1,041,000', '$100,000', '$15,000', '1400000',\n",
       "       '1200000', '2200000', '1800000', '3600000', '₹9,500,000', '300000',\n",
       "       '6830000', '200000', '₹150,000,000', '4300000', '364846', '400000',\n",
       "       '1500000', '₹7,000,000', '₹1,400,000', '₹10,000,000',\n",
       "       '₹22,500,000', '13200000', '50000', '₹140,200,000', '3000000',\n",
       "       '1250000', '180000', '₹19,200,000', '₹103,000,000', '4200000',\n",
       "       '175000', '1450000', '₹200,000', '4500000', '600000',\n",
       "       '₹16,600,000', '₹12,000,000', '15000000', '₹33,000,000', '125000',\n",
       "       '130000', '₹34,900,000', '₹72,000,000', '17200000', '₹32,000,000',\n",
       "       '3500000', '₹135,000,000', '12000000', '$40,000,000', '$1,100,000',\n",
       "       '$50,000,000', '₹1,540,000,000', '$3,000,000', '$6,000,000',\n",
       "       '₹140,000,000', '$41,900,000', '₹1,410,000,000', '$3,530,000',\n",
       "       '$200,000', '$3,300,000', '₹580,000,000', '₹36,000,000',\n",
       "       '₹340,000,000', '$210,000,000', '$37,680,000', '$250,000',\n",
       "       '$20,000', '₹510,000,000', '₹2,200,000,000', '22000000', '70000',\n",
       "       '10000000', '₹15,392,000,000', '₹20,000,000,000', '₹4,000,000,000',\n",
       "       '185000000', '65000000', '₹165,000,000', '700000', '30000000',\n",
       "       '₹210,000,000', '210000000', '₹2,029,600,000', '75000000',\n",
       "       '₹80,000,000', '1760000', '2700000', '₹280,000,000',\n",
       "       '₹800,000,000', '750000', '2500000', '80000000', '25000000',\n",
       "       '₹730,000,000', '₹400,000,000', '3700000', '5600000',\n",
       "       '₹260,000,000', '99230000', '70000000', '40000', '550000',\n",
       "       '50000000', '365000000', '₹8,750,000', '₹78,000,000', '28000000',\n",
       "       '₹264,000,000', '100000000', '₹1,130,000,000', '₹810,000,000',\n",
       "       '₹1,400,000,000', '14900000', '225000000', '7500', '35000000'],\n",
       "      dtype=object)"
      ]
     },
     "execution_count": 15,
     "metadata": {},
     "output_type": "execute_result"
    }
   ],
   "source": [
    "data18['Amount($)'].unique()"
   ]
  },
  {
   "cell_type": "code",
   "execution_count": 16,
   "metadata": {},
   "outputs": [],
   "source": [
    "# Missing Values are also denoted by dashes (\"—\")\n",
    "# drop dashes with NaN\n",
    "value_to_drop = '—'\n",
    "data18 = data18[data18['Amount($)'] != value_to_drop]\n",
    "\n",
    "# Remove any comma\n",
    "data18['Amount($)'] = data18['Amount($)'].astype(str).str.replace(',', '')\n",
    "\n",
    "# Remove any $ symbol\n",
    "data18['Amount($)'] = data18['Amount($)'].astype(str).str.replace('$', '')\n",
    "\n",
    "\n",
    "# Standardise the amount column by multiplying INR('₹') values by 0.0147\n",
    "# (Average currency rate INR to USD in 2018) Exchange Rates UK\n",
    "data18.loc[data18['Amount($)'].astype(str).str.contains('₹'), \n",
    "'Amount($)'] = data18.loc[data18['Amount($)'].astype(str).str.contains('₹'), \n",
    "'Amount($)'].apply(lambda x: float(x.replace('₹', ''))*0.0147)\n",
    "\n",
    "# Convert amounts with no currency symbol to USD using exchange rate of 1 USD = 1 USD\n",
    "data18.loc[~data18['Amount($)'].astype(str).str.contains('₹'), \n",
    "'Amount($)'] = data18.loc[~data18['Amount($)'].astype(str).str.contains('₹'), \n",
    "'Amount($)'].apply(lambda x: float(x))\n",
    "\n",
    "# Convert Amount($) column from object to float datatype\n",
    "data18['Amount($)'] = data18['Amount($)'].astype(float)"
   ]
  },
  {
   "cell_type": "code",
   "execution_count": 17,
   "metadata": {},
   "outputs": [
    {
     "data": {
      "text/plain": [
       "array([2.500000e+05, 5.880000e+05, 9.555000e+05, 2.000000e+06,\n",
       "       1.600000e+06, 2.352000e+05, 7.350000e+05, 1.470000e+06,\n",
       "       1.500000e+05, 1.100000e+06, 7.350000e+03, 6.000000e+06,\n",
       "       6.500000e+05, 5.145000e+05, 9.408000e+05, 2.940000e+05,\n",
       "       1.000000e+06, 5.000000e+06, 4.000000e+06, 4.410000e+05,\n",
       "       2.800000e+06, 1.700000e+06, 1.300000e+06, 7.350000e+04,\n",
       "       1.837500e+05, 2.205000e+05, 5.000000e+05, 1.528800e+06,\n",
       "       6.615000e+05, 1.340000e+07, 3.675000e+05, 3.880800e+05,\n",
       "       1.176000e+05, 8.820000e+02, 9.000000e+06, 1.000000e+05,\n",
       "       2.000000e+04, 1.200000e+05, 4.998000e+05, 5.027400e+06,\n",
       "       1.431450e+05, 8.820000e+06, 7.420000e+08, 1.470000e+07,\n",
       "       2.940000e+07, 3.980000e+06, 1.000000e+04, 1.470000e+03,\n",
       "       3.675000e+06, 1.000000e+09, 7.000000e+06, 3.500000e+07,\n",
       "       8.085000e+06, 2.850000e+07, 3.528000e+06, 1.764000e+06,\n",
       "       2.400000e+06, 3.000000e+07, 3.675000e+07, 2.300000e+07,\n",
       "       1.100000e+07, 6.468000e+05, 3.240000e+06, 8.820000e+05,\n",
       "       5.400000e+08, 9.555000e+06, 2.352000e+07, 9.000000e+05,\n",
       "       1.000000e+07, 1.500000e+06, 1.029000e+06, 1.400000e+07,\n",
       "       1.506750e+06, 1.000000e+08, 1.764000e+04, 7.644000e+07,\n",
       "       8.000000e+05, 1.041000e+06, 1.500000e+04, 1.400000e+06,\n",
       "       1.200000e+06, 2.200000e+06, 1.800000e+06, 3.600000e+06,\n",
       "       1.396500e+05, 3.000000e+05, 6.830000e+06, 2.000000e+05,\n",
       "       2.205000e+06, 4.300000e+06, 3.648460e+05, 4.000000e+05,\n",
       "       1.029000e+05, 2.058000e+04, 1.470000e+05, 3.307500e+05,\n",
       "       1.320000e+07, 5.000000e+04, 2.060940e+06, 3.000000e+06,\n",
       "       1.250000e+06, 1.800000e+05, 2.822400e+05, 1.514100e+06,\n",
       "       4.200000e+06, 1.750000e+05, 1.450000e+06, 2.940000e+03,\n",
       "       4.500000e+06, 6.000000e+05, 2.440200e+05, 1.764000e+05,\n",
       "       1.500000e+07, 4.851000e+05, 1.250000e+05, 1.300000e+05,\n",
       "       5.130300e+05, 1.058400e+06, 1.720000e+07, 4.704000e+05,\n",
       "       3.500000e+06, 1.984500e+06, 1.200000e+07, 4.000000e+07,\n",
       "       5.000000e+07, 2.263800e+07, 2.058000e+06, 4.190000e+07,\n",
       "       2.072700e+07, 3.530000e+06, 3.300000e+06, 8.526000e+06,\n",
       "       5.292000e+05, 4.998000e+06, 2.100000e+08, 3.768000e+07,\n",
       "       7.497000e+06, 3.234000e+07, 2.200000e+07, 7.000000e+04,\n",
       "       2.262624e+08, 2.940000e+08, 5.880000e+07, 1.850000e+08,\n",
       "       6.500000e+07, 2.425500e+06, 7.000000e+05, 3.087000e+06,\n",
       "       2.983512e+07, 7.500000e+07, 1.176000e+06, 1.760000e+06,\n",
       "       2.700000e+06, 4.116000e+06, 1.176000e+07, 7.500000e+05,\n",
       "       2.500000e+06, 8.000000e+07, 2.500000e+07, 1.073100e+07,\n",
       "       5.880000e+06, 3.700000e+06, 5.600000e+06, 3.822000e+06,\n",
       "       9.923000e+07, 7.000000e+07, 4.000000e+04, 5.500000e+05,\n",
       "       3.650000e+08, 1.286250e+05, 1.146600e+06, 2.800000e+07,\n",
       "       3.880800e+06, 1.661100e+07, 1.190700e+07, 2.058000e+07,\n",
       "       1.490000e+07, 2.250000e+08, 7.500000e+03])"
      ]
     },
     "execution_count": 17,
     "metadata": {},
     "output_type": "execute_result"
    }
   ],
   "source": [
    "data18['Amount($)'].unique()"
   ]
  },
  {
   "cell_type": "markdown",
   "metadata": {},
   "source": [
    "2. Sector column"
   ]
  },
  {
   "cell_type": "code",
   "execution_count": 18,
   "metadata": {},
   "outputs": [
    {
     "data": {
      "text/plain": [
       "array(['Brand Marketing, Event Promotion, Marketing, Sponsorship, Ticketing',\n",
       "       'Agriculture, Farming',\n",
       "       'Credit, Financial Services, Lending, Marketplace',\n",
       "       'Financial Services, FinTech', 'Cloud Infrastructure, PaaS, SaaS',\n",
       "       'Internet, Leisure, Marketplace', 'Market Research',\n",
       "       'Automotive, Search Engine, Service Industry',\n",
       "       'Finance, Internet, Travel',\n",
       "       'Accounting, Business Information Systems, Business Travel, Finance, SaaS',\n",
       "       'Internet of Things, Waste Management',\n",
       "       'Air Transportation, Freight Service, Logistics, Marine Transportation',\n",
       "       'Financial Services', 'Food and Beverage', 'Autonomous Vehicles',\n",
       "       'Logistics, Supply Chain Management',\n",
       "       'Financial Services, Lending',\n",
       "       'Automotive, Marketplace, Online Portals',\n",
       "       'Internet of Things, Telecommunications', 'Insurance',\n",
       "       'Information Technology, Logistics, Supply Chain Management',\n",
       "       'Blockchain, Developer Tools, Enterprise Software',\n",
       "       'Industrial Automation, Logistics, Supply Chain Management',\n",
       "       'Food and Beverage, Food Delivery, Snack Food', 'Education',\n",
       "       'E-Commerce, Fashion, Jewelry, Retail', 'E-Learning, Education',\n",
       "       'Clean Energy, CleanTech, Laundry and Dry-cleaning',\n",
       "       'E-Commerce, Fashion, Mobile',\n",
       "       'Apps, Messaging, Navigation, Public Safety',\n",
       "       'Fitness, Health Care, Wellness', 'Hospitality',\n",
       "       'Food and Beverage, Tea',\n",
       "       'Media and Entertainment, News, Outdoors',\n",
       "       'Broadcasting, Media and Entertainment, Music, Music Streaming, Video, Video Streaming',\n",
       "       'B2B, Information Services, Information Technology',\n",
       "       'EdTech, Education, Enterprise Software, Peer to Peer',\n",
       "       'Health Care, Medical', 'E-Commerce',\n",
       "       'Health Care, Hospital, Wellness', 'Sports',\n",
       "       'Big Data, Consumer Lending, FinTech',\n",
       "       'Health Care, Medical, Pharmaceutical', 'Trading Platform',\n",
       "       'Wellness', 'Fashion',\n",
       "       'Automotive, Electric Vehicle, Energy Storage',\n",
       "       'Consulting, Retail, Social',\n",
       "       'Biotechnology, Life Science, Pharmaceutical, Product Research',\n",
       "       'Credit, Financial Services, FinTech, Personal Finance',\n",
       "       'Internet', 'Consumer, Financial Services, FinTech',\n",
       "       'Mobile, Mobile Apps, Personalization, Test and Measurement, Web Apps',\n",
       "       'Education, Financial Services, FinTech',\n",
       "       'Marketplace, Real Estate, Rental Property', 'Health Care',\n",
       "       'Artificial Intelligence, Cloud Computing, Video',\n",
       "       'Health Care, Information Technology',\n",
       "       'E-Commerce, Fashion, Lifestyle',\n",
       "       'Home Decor, Home Improvement, Home Renovation, Home Services, Interior Design, Smart Home',\n",
       "       'EdTech, Education, Information Services, SaaS', 'Energy, Solar',\n",
       "       'B2B, Biometrics, Cyber Security, Fraud Detection, SaaS, Security',\n",
       "       'Logistics, Transportation, Travel',\n",
       "       'Digital Marketing, SEM, SEO, Web Development',\n",
       "       'Health Care, Hospital, Medical', 'Finance, Financial Services',\n",
       "       'Food Delivery, Food Processing, Internet',\n",
       "       'E-Commerce, Food and Beverage, Internet',\n",
       "       'EdTech, Education, Knowledge Management',\n",
       "       'Apps, Beauty, Consumer, Retail',\n",
       "       'Creative Agency, Crowdfunding, EdTech, Health Care, Internet, Medical, Non Profit, Personal Health',\n",
       "       'Consumer Lending, Financial Services, FinTech, Insurance, Lending, Mobile Payments, Payments, Wealth Management',\n",
       "       'EdTech, Education', 'Financial Services, SaaS, Security',\n",
       "       'Banking, Finance, Financial Services, Non Profit',\n",
       "       'B2B, E-Commerce, Mobile', 'E-Learning',\n",
       "       'Apps, E-Commerce, Internet',\n",
       "       'Advertising, Human Resources, Marketing',\n",
       "       'Beauty, Fitness, Home Services, Internet',\n",
       "       'Food Delivery, Online Portals, Restaurants',\n",
       "       'AgTech, B2B, Supply Chain Management',\n",
       "       'EdTech, Education, Higher Education, Secondary Education',\n",
       "       'Manufacturing, Retail', 'Manufacturing',\n",
       "       'Consumer Lending, FinTech', 'Internet, Social Network, TV',\n",
       "       'Events', 'Automotive', 'Automotive, Retail',\n",
       "       'Automotive, E-Commerce',\n",
       "       'Digital Entertainment, Fantasy Sports, Sports',\n",
       "       'E-Learning, EdTech, Education',\n",
       "       'Funding Platform, Incubators, Non Profit',\n",
       "       'Hospitality, Hotel, Leisure, Travel',\n",
       "       'Classifieds, Internet, Marketplace, Rental Property',\n",
       "       'Banking, E-Learning, Trading Platform',\n",
       "       'E-Commerce, Mobile, Retail',\n",
       "       'Artificial Intelligence, Information Technology',\n",
       "       'Enterprise Resource Planning (ERP), Information Services, Information Technology, Real Estate',\n",
       "       'Banking, Finance, Financial Services',\n",
       "       'Audio, Mobile, Tourism, Travel',\n",
       "       'Energy, Energy Storage, Infrastructure',\n",
       "       'Artificial Intelligence',\n",
       "       'Government, Information Technology, Software',\n",
       "       'Education, Information Technology, Internet, Mobile, Software',\n",
       "       'Digital Media, Internet, Media and Entertainment, Online Portals, Social Media',\n",
       "       'Business Intelligence, Customer Service, Market Research, SaaS',\n",
       "       'Credit, Financial Services, FinTech, Lending', 'Software',\n",
       "       'Children, Education, Parenting',\n",
       "       'E-Commerce, Mobile, Sharing Economy',\n",
       "       'Food Delivery, Organic, Organic Food', 'Mobile', 'Rental',\n",
       "       'Travel', 'Consumer', 'B2B, Farming, Marketplace',\n",
       "       'Wealth Management', 'Biotechnology',\n",
       "       'Education, Gaming, Training', 'Veterinary',\n",
       "       'Health Care, Hospital, Supply Chain Management',\n",
       "       'Tourism, Travel', 'Hospitality, Real Estate', 'Finance',\n",
       "       'Digital Media, EBooks, Publishing, Reading Apps',\n",
       "       'Analytics, Computer Vision, Enterprise Software, Machine Learning, Natural Language Processing, Speech Recognition',\n",
       "       'Automotive, Electric Vehicle, Energy',\n",
       "       'Health Care, Health Diagnostics, Predictive Analytics',\n",
       "       'Cloud Computing, Computer, SaaS, Software',\n",
       "       'Fashion, Lifestyle, Retail', 'Medical',\n",
       "       'Finance, Impact Investing, Internet',\n",
       "       'Internet, Social Entrepreneurship',\n",
       "       'Finance, Impact Investing, Mobile Apps',\n",
       "       'Business Development, Market Research, Outsourcing',\n",
       "       'Internet, Social News, Sports', 'Information Technology',\n",
       "       'Human Resources', 'Finance, Financial Services, FinTech',\n",
       "       'Training',\n",
       "       'Dietary Supplements, Food and Beverage, Health Care, Organic Food, Snack Food',\n",
       "       'Manufacturing, Oil and Gas, Robotics',\n",
       "       'Artificial Intelligence, Computer, Machine Learning',\n",
       "       'Collaboration, Communities, Coworking, Sharing Economy',\n",
       "       'Big Data, EdTech, Machine Learning', 'Nanotechnology',\n",
       "       'Analytics, Audio, Digital Media, Innovation Management, Internet Radio, Media and Entertainment',\n",
       "       'Financial Services, Lending, Peer to Peer',\n",
       "       'E-Commerce, Furniture, Home Decor, Interior Design, Internet',\n",
       "       'Digital Media', 'Home Decor, Interior Design',\n",
       "       'Health Care, Medical Device, Mobile Apps',\n",
       "       'Crowdfunding, Finance, Financial Services',\n",
       "       'Finance, Financial Services, Insurance',\n",
       "       'Software, Virtual Reality',\n",
       "       'B2B, Food and Beverage, Food Delivery',\n",
       "       'Catering, Food and Beverage, Food Delivery, Food Processing',\n",
       "       'Food and Beverage, Snack Food', 'Automotive, E-Commerce, Mobile',\n",
       "       'Computer, Digital Marketing, Facilities Support Services, Graphic Design, Internet, Mobile Apps, Social Media Marketing, Web Development',\n",
       "       'Android, Big Data, Blockchain, Cloud Computing, EdTech, Education, Information Technology, iOS, Training, Web Development',\n",
       "       'Delivery, Information Technology, Mobile Apps',\n",
       "       'Environmental Consulting, Renewable Energy',\n",
       "       'Food and Beverage, Food Processing',\n",
       "       'Big Data, Business Intelligence, Financial Services, FinTech, Personal Finance',\n",
       "       'Commercial Real Estate, Coworking, Office Administration, Real Estate',\n",
       "       'Food and Beverage, Food Processing, Organic Food, Snack Food',\n",
       "       'Apps, Health Care, Internet, Mobile Apps, Personal Health',\n",
       "       'Digital Media, Incubators, Social Entrepreneurship',\n",
       "       'Finance, Financial Services, Marketing',\n",
       "       'Delivery Service, Logistics, Service Industry',\n",
       "       'Information Services, Information Technology',\n",
       "       'Big Data, Data Visualization, Logistics, Software',\n",
       "       'Basketball, Cricket, Cycling, eSports, Fitness, Golf, Health Care, Hockey, Sports, Swimming, Table Tennis, Volley Ball',\n",
       "       'Consulting',\n",
       "       'Big Data, Financial Services, Machine Learning, Predictive Analytics',\n",
       "       'Digital Media, News, Publishing', 'Health Care, Hospital',\n",
       "       'Agriculture, AgTech, Artificial Intelligence, Internet of Things, Machine Learning',\n",
       "       'Cryptocurrency, Trading Platform',\n",
       "       'Finance, FinTech, Mobile Payments',\n",
       "       'E-Learning, EdTech, Education, Image Recognition, Machine Learning, STEM Education',\n",
       "       'Consumer Goods', 'Digital Entertainment',\n",
       "       'Crowdsourcing, Financial Services, Funding Platform, Venture Capital',\n",
       "       'Health Care, Information Technology, Management Information Systems',\n",
       "       'Farming',\n",
       "       'Career Planning, Education, Higher Education, Service Industry',\n",
       "       'Dental, Elder Care, Health Care, Home Health Care, Personal Health',\n",
       "       'Financial Services, Insurance, Private Social Networking',\n",
       "       'Consumer Electronics, E-Commerce, E-Commerce Platforms, Electronics, Shipping, Shopping',\n",
       "       'CleanTech', 'Advertising, Internet, Marketing',\n",
       "       'Human Resources, Security, Training',\n",
       "       'Consumer Lending, Finance, FinTech',\n",
       "       'Marketing, Social Media, Video', 'Food Processing',\n",
       "       'Automotive, Last Mile Transportation, Peer to Peer, Ride Sharing',\n",
       "       'Commercial, E-Learning, Education',\n",
       "       'Continuing Education, EdTech, Education, Skill Assessment',\n",
       "       'Internet of Things, Robotics',\n",
       "       'Apps, Home Services, Information Services, Information Technology',\n",
       "       'Medical, Tourism', 'Fashion, Graphic Design, Wearables',\n",
       "       'Communities, Leisure, Mobile Apps, Software',\n",
       "       'Automotive, Rental, Sharing Economy',\n",
       "       'Energy, Environmental Consulting, Renewable Energy, Solar',\n",
       "       'Information Technology, SaaS, Security',\n",
       "       'Crowdfunding, Financial Services, Internet',\n",
       "       'Customer Service, Information Technology, Internet, Sales Automation',\n",
       "       'Credit Cards, Payments, Property Insurance, Property Management, Rental Property',\n",
       "       'Beauty, Cosmetics, Health Care, Service Industry',\n",
       "       'EdTech, Education, Mobile, Tutoring', 'Biopharma',\n",
       "       'E-Commerce, E-Commerce Platforms, Retail',\n",
       "       'Digital Entertainment, Mobile, PC Games',\n",
       "       'Finance, Financial Services, Small and Medium Businesses',\n",
       "       'Mobile Payments', 'Artificial Intelligence, Energy, Oil and Gas',\n",
       "       'Computer, FinTech, Risk Management, Software',\n",
       "       'Apps, Financial Services, FinTech', 'Agriculture, Mobile',\n",
       "       'Information Services, Information Technology, Mobile, Software',\n",
       "       'Apps, Fitness, Health Care, mHealth',\n",
       "       'Food and Beverage, Food Delivery', 'Apps, Payments, Retail',\n",
       "       'Health Insurance, Insurance, Life Insurance',\n",
       "       'Rental, Taxi Service, Travel',\n",
       "       'E-Commerce, E-Commerce Platforms, Internet, Retail',\n",
       "       'Health Diagnostics',\n",
       "       'Customer Service, Messaging, Mobile Apps, Personalization',\n",
       "       'Gaming, iOS, Sports', 'Retail',\n",
       "       'E-Commerce, E-Commerce Platforms, Internet, Mobile Apps, Social Media',\n",
       "       'Search Engine',\n",
       "       'Battery, Electric Vehicle, Energy, Renewable Energy, Transportation',\n",
       "       'Artificial Intelligence, Drones, Navigation, Packaging Services, Robotics',\n",
       "       'Mobile, Software, Travel',\n",
       "       'Consulting, Cyber Security, Network Security',\n",
       "       'eSports, Gaming, Video Games', 'Fashion, Jewelry',\n",
       "       'B2B, Medical Device', 'Consumer Goods, Manufacturing',\n",
       "       'Health Care, Hospital, Medical, Robotics',\n",
       "       'E-Commerce, Fitness, Health Care',\n",
       "       'Financial Services, Venture Capital', 'Aerospace',\n",
       "       'Accounting, Apps, FinTech', 'Apps, Mobile, Transportation',\n",
       "       'Reading Apps', 'Energy, Renewable Energy, Solar',\n",
       "       'Banking, Financial Services, FinTech',\n",
       "       'Automotive, Battery, Electric Vehicle, Manufacturing, Mechanical Design',\n",
       "       'Automotive, E-Commerce, Marketplace',\n",
       "       'Apps, Information Services, Information Technology',\n",
       "       'B2B, Marketplace', 'Computer, Furniture, Software',\n",
       "       'Food Delivery, Hospitality, Reservations, Restaurants, Search Engine',\n",
       "       'Collaboration, Communities, Coworking, Real Estate',\n",
       "       'Cloud Computing, Enterprise Software, Network Hardware, Network Security, SaaS',\n",
       "       'Information Services, Internet, Logistics, Supply Chain Management, Transportation',\n",
       "       'Automotive, E-Commerce, Information Services',\n",
       "       'Delivery, Logistics, Transportation',\n",
       "       'Automotive, E-Commerce Platforms, Marketplace',\n",
       "       'Last Mile Transportation, Railroad, Transportation, Travel',\n",
       "       'Cooking, E-Commerce, Food and Beverage, Food Delivery, Online Portals',\n",
       "       'FinTech, Mobile, Mobile Payments, Payments, Retail Technology',\n",
       "       'Online Games, Software',\n",
       "       'Online Portals, Property Management, Rental',\n",
       "       'E-Commerce, Food and Beverage, Tea',\n",
       "       'Health Care, Pharmaceutical, Wellness',\n",
       "       'Delivery Service, Food and Beverage, Food Delivery',\n",
       "       'Hospitality, Information Technology, Travel Accommodations',\n",
       "       'Autonomous Vehicles, Last Mile Transportation, Recreational Vehicles, Rental',\n",
       "       'Finance, Financial Exchanges, Financial Services, Micro Lending',\n",
       "       'Analytics, Apps, Market Research',\n",
       "       'E-Commerce, E-Commerce Platforms, Furniture, Home Decor, Internet',\n",
       "       'Industrial, Industrial Automation',\n",
       "       'Internet, Mobile Apps, Social Network',\n",
       "       'Health Care, Health Diagnostics, Internet of Things, Life Science, Machine Learning, Medical, Medical Device',\n",
       "       'E-Commerce, Furniture, Interior Design', 'Apps, Events, News',\n",
       "       'Artificial Intelligence, Human Resources, Information Services, Information Technology',\n",
       "       'Logistics, Railroad, Transportation',\n",
       "       'Dating, Private Social Networking',\n",
       "       'Artificial Intelligence, Machine Learning, PaaS',\n",
       "       'Apps, E-Commerce, Internet, Mobile, Ride Sharing, Transportation',\n",
       "       'Health Care, Health Insurance', 'Energy, Natural Resources',\n",
       "       'Apps, Health Care, Pharmaceutical',\n",
       "       'Internet, Knowledge Management',\n",
       "       'Credit, Finance, FinTech, Lending, Sales Automation',\n",
       "       'Banking, Financial Services, Internet',\n",
       "       'E-Commerce, Health Care, Retail',\n",
       "       'Financial Services, Micro Lending',\n",
       "       'E-Commerce, Retail, Shopping',\n",
       "       'Food and Beverage, Snack Food, Tea', 'Fashion, Lifestyle, Rental',\n",
       "       'Fantasy Sports, Mobile, Sports', 'Beauty, Fashion, Wellness',\n",
       "       'Food and Beverage, Restaurants, Tea',\n",
       "       'Food and Beverage, Food Processing, Manufacturing',\n",
       "       'E-Learning, Internet',\n",
       "       'Information Technology, Mobile, News, Operating Systems, Social Media, Social News',\n",
       "       'FinTech, Internet, Payments, Service Industry',\n",
       "       'B2B, Business Development, Internet, Marketplace',\n",
       "       'Food and Beverage, Food Delivery, Internet',\n",
       "       'Biotechnology, Health Care, Pharmaceutical'], dtype=object)"
      ]
     },
     "execution_count": 18,
     "metadata": {},
     "output_type": "execute_result"
    }
   ],
   "source": [
    "# Missing Values are also denoted by dashes (\"—\")\n",
    "# Replace dashes with NaN\n",
    "value_to_drop = '—'\n",
    "data18 = data18[data18['Sector'] != value_to_drop]\n",
    "data18['Sector'].unique()"
   ]
  },
  {
   "cell_type": "markdown",
   "metadata": {},
   "source": [
    "3. Headquarter column"
   ]
  },
  {
   "cell_type": "code",
   "execution_count": 19,
   "metadata": {},
   "outputs": [],
   "source": [
    "data18[['HeadQuarter','f','u']] = data18['HeadQuarter'].str.split(', ',expand=True)\n",
    "data18.drop(columns=['f','u'], axis=1, inplace = True)"
   ]
  },
  {
   "cell_type": "markdown",
   "metadata": {},
   "source": [
    "4. Stage Column"
   ]
  },
  {
   "cell_type": "code",
   "execution_count": 20,
   "metadata": {},
   "outputs": [],
   "source": [
    "replacement ={\n",
    "    'Seed':'Pre-series A', \n",
    "    'Angel':'Angel Round', \n",
    "    'Pre-Seed':'Pre-series A',\n",
    "    'Private Equity':'Equity',\n",
    "    'Venture - Series Unknown':'Unknown', \n",
    "    'Debt Financing':'Debt', \n",
    "    'Post-IPO Debt':'Debt',\n",
    "    'Undisclosed':'Unknown',\n",
    "    'https://docs.google.com/spreadsheets/d/1x9ziNeaz6auNChIHnMI8U6kS7knTr3byy_YBGfQaoUA/edit#gid=1861303593':'Unknown',\n",
    "    'Secondary Market':'Unknown', \n",
    "    'Post-IPO Equity': 'Equity',\n",
    "    'Non-equity Assistance':'Pre-series A',\n",
    "    'Funding Round':'Pre-series A', \n",
    "    }\n",
    "data18['Stage'] = data18['Stage'].replace(replacement)"
   ]
  },
  {
   "cell_type": "code",
   "execution_count": 21,
   "metadata": {},
   "outputs": [],
   "source": [
    "# drop all data with Unknown \n",
    "value_to_drop = 'Unknown'\n",
    "data18 = data18[data18['Stage'] != value_to_drop]"
   ]
  },
  {
   "cell_type": "code",
   "execution_count": 22,
   "metadata": {},
   "outputs": [
    {
     "data": {
      "text/plain": [
       "array(['Pre-series A', 'Series A', 'Angel Round', 'Series B', 'Equity',\n",
       "       'Grant', 'Debt', 'Series H', 'Series C', 'Series E', 'Series D',\n",
       "       'Corporate Round'], dtype=object)"
      ]
     },
     "execution_count": 22,
     "metadata": {},
     "output_type": "execute_result"
    }
   ],
   "source": [
    "data18['Stage'].unique()"
   ]
  },
  {
   "cell_type": "markdown",
   "metadata": {},
   "source": [
    "Checking duplicates and dropping them"
   ]
  },
  {
   "cell_type": "code",
   "execution_count": 23,
   "metadata": {},
   "outputs": [
    {
     "data": {
      "text/html": [
       "<div>\n",
       "<style scoped>\n",
       "    .dataframe tbody tr th:only-of-type {\n",
       "        vertical-align: middle;\n",
       "    }\n",
       "\n",
       "    .dataframe tbody tr th {\n",
       "        vertical-align: top;\n",
       "    }\n",
       "\n",
       "    .dataframe thead th {\n",
       "        text-align: right;\n",
       "    }\n",
       "</style>\n",
       "<table border=\"1\" class=\"dataframe\">\n",
       "  <thead>\n",
       "    <tr style=\"text-align: right;\">\n",
       "      <th></th>\n",
       "      <th>Company_Brand</th>\n",
       "      <th>Sector</th>\n",
       "      <th>Stage</th>\n",
       "      <th>Amount($)</th>\n",
       "      <th>HeadQuarter</th>\n",
       "      <th>What_it_does</th>\n",
       "      <th>Year</th>\n",
       "    </tr>\n",
       "  </thead>\n",
       "  <tbody>\n",
       "    <tr>\n",
       "      <th>0</th>\n",
       "      <td>TheCollegeFever</td>\n",
       "      <td>Brand Marketing, Event Promotion, Marketing, S...</td>\n",
       "      <td>Pre-series A</td>\n",
       "      <td>250000.0</td>\n",
       "      <td>Bangalore</td>\n",
       "      <td>TheCollegeFever is a hub for fun, fiesta and f...</td>\n",
       "      <td>2018</td>\n",
       "    </tr>\n",
       "    <tr>\n",
       "      <th>348</th>\n",
       "      <td>TheCollegeFever</td>\n",
       "      <td>Brand Marketing, Event Promotion, Marketing, S...</td>\n",
       "      <td>Pre-series A</td>\n",
       "      <td>250000.0</td>\n",
       "      <td>Bangalore</td>\n",
       "      <td>TheCollegeFever is a hub for fun, fiesta and f...</td>\n",
       "      <td>2018</td>\n",
       "    </tr>\n",
       "  </tbody>\n",
       "</table>\n",
       "</div>"
      ],
      "text/plain": [
       "       Company_Brand                                             Sector  \\\n",
       "0    TheCollegeFever  Brand Marketing, Event Promotion, Marketing, S...   \n",
       "348  TheCollegeFever  Brand Marketing, Event Promotion, Marketing, S...   \n",
       "\n",
       "            Stage  Amount($) HeadQuarter  \\\n",
       "0    Pre-series A   250000.0   Bangalore   \n",
       "348  Pre-series A   250000.0   Bangalore   \n",
       "\n",
       "                                          What_it_does  Year  \n",
       "0    TheCollegeFever is a hub for fun, fiesta and f...  2018  \n",
       "348  TheCollegeFever is a hub for fun, fiesta and f...  2018  "
      ]
     },
     "execution_count": 23,
     "metadata": {},
     "output_type": "execute_result"
    }
   ],
   "source": [
    "# Identify duplicate rows based on all columns\n",
    "duplicates = data18[data18.duplicated(keep=False)]\n",
    "duplicates"
   ]
  },
  {
   "cell_type": "code",
   "execution_count": 24,
   "metadata": {},
   "outputs": [],
   "source": [
    "# Drop one of the duplicates\n",
    "data18.drop_duplicates(keep='first', inplace=True)"
   ]
  },
  {
   "cell_type": "markdown",
   "metadata": {},
   "source": [
    "Review Cleaned Data"
   ]
  },
  {
   "cell_type": "code",
   "execution_count": 25,
   "metadata": {},
   "outputs": [
    {
     "name": "stdout",
     "output_type": "stream",
     "text": [
      "<class 'pandas.core.frame.DataFrame'>\n",
      "Index: 324 entries, 0 to 525\n",
      "Data columns (total 7 columns):\n",
      " #   Column         Non-Null Count  Dtype  \n",
      "---  ------         --------------  -----  \n",
      " 0   Company_Brand  324 non-null    object \n",
      " 1   Sector         324 non-null    object \n",
      " 2   Stage          324 non-null    object \n",
      " 3   Amount($)      324 non-null    float64\n",
      " 4   HeadQuarter    324 non-null    object \n",
      " 5   What_it_does   324 non-null    object \n",
      " 6   Year           324 non-null    object \n",
      "dtypes: float64(1), object(6)\n",
      "memory usage: 20.2+ KB\n"
     ]
    }
   ],
   "source": [
    "data18.info()"
   ]
  },
  {
   "cell_type": "code",
   "execution_count": 26,
   "metadata": {},
   "outputs": [
    {
     "data": {
      "text/html": [
       "<div>\n",
       "<style scoped>\n",
       "    .dataframe tbody tr th:only-of-type {\n",
       "        vertical-align: middle;\n",
       "    }\n",
       "\n",
       "    .dataframe tbody tr th {\n",
       "        vertical-align: top;\n",
       "    }\n",
       "\n",
       "    .dataframe thead th {\n",
       "        text-align: right;\n",
       "    }\n",
       "</style>\n",
       "<table border=\"1\" class=\"dataframe\">\n",
       "  <thead>\n",
       "    <tr style=\"text-align: right;\">\n",
       "      <th></th>\n",
       "      <th>Company_Brand</th>\n",
       "      <th>Sector</th>\n",
       "      <th>Stage</th>\n",
       "      <th>Amount($)</th>\n",
       "      <th>HeadQuarter</th>\n",
       "      <th>What_it_does</th>\n",
       "      <th>Year</th>\n",
       "    </tr>\n",
       "  </thead>\n",
       "  <tbody>\n",
       "    <tr>\n",
       "      <th>0</th>\n",
       "      <td>TheCollegeFever</td>\n",
       "      <td>Brand Marketing, Event Promotion, Marketing, S...</td>\n",
       "      <td>Pre-series A</td>\n",
       "      <td>250000.0</td>\n",
       "      <td>Bangalore</td>\n",
       "      <td>TheCollegeFever is a hub for fun, fiesta and f...</td>\n",
       "      <td>2018</td>\n",
       "    </tr>\n",
       "    <tr>\n",
       "      <th>1</th>\n",
       "      <td>Happy Cow Dairy</td>\n",
       "      <td>Agriculture, Farming</td>\n",
       "      <td>Pre-series A</td>\n",
       "      <td>588000.0</td>\n",
       "      <td>Mumbai</td>\n",
       "      <td>A startup which aggregates milk from dairy far...</td>\n",
       "      <td>2018</td>\n",
       "    </tr>\n",
       "    <tr>\n",
       "      <th>2</th>\n",
       "      <td>MyLoanCare</td>\n",
       "      <td>Credit, Financial Services, Lending, Marketplace</td>\n",
       "      <td>Series A</td>\n",
       "      <td>955500.0</td>\n",
       "      <td>Gurgaon</td>\n",
       "      <td>Leading Online Loans Marketplace in India</td>\n",
       "      <td>2018</td>\n",
       "    </tr>\n",
       "    <tr>\n",
       "      <th>3</th>\n",
       "      <td>PayMe India</td>\n",
       "      <td>Financial Services, FinTech</td>\n",
       "      <td>Angel Round</td>\n",
       "      <td>2000000.0</td>\n",
       "      <td>Noida</td>\n",
       "      <td>PayMe India is an innovative FinTech organizat...</td>\n",
       "      <td>2018</td>\n",
       "    </tr>\n",
       "    <tr>\n",
       "      <th>5</th>\n",
       "      <td>Hasura</td>\n",
       "      <td>Cloud Infrastructure, PaaS, SaaS</td>\n",
       "      <td>Pre-series A</td>\n",
       "      <td>1600000.0</td>\n",
       "      <td>Bengaluru</td>\n",
       "      <td>Hasura is a platform that allows developers to...</td>\n",
       "      <td>2018</td>\n",
       "    </tr>\n",
       "  </tbody>\n",
       "</table>\n",
       "</div>"
      ],
      "text/plain": [
       "     Company_Brand                                             Sector  \\\n",
       "0  TheCollegeFever  Brand Marketing, Event Promotion, Marketing, S...   \n",
       "1  Happy Cow Dairy                               Agriculture, Farming   \n",
       "2       MyLoanCare   Credit, Financial Services, Lending, Marketplace   \n",
       "3      PayMe India                        Financial Services, FinTech   \n",
       "5           Hasura                   Cloud Infrastructure, PaaS, SaaS   \n",
       "\n",
       "          Stage  Amount($) HeadQuarter  \\\n",
       "0  Pre-series A   250000.0   Bangalore   \n",
       "1  Pre-series A   588000.0      Mumbai   \n",
       "2      Series A   955500.0     Gurgaon   \n",
       "3   Angel Round  2000000.0       Noida   \n",
       "5  Pre-series A  1600000.0   Bengaluru   \n",
       "\n",
       "                                        What_it_does  Year  \n",
       "0  TheCollegeFever is a hub for fun, fiesta and f...  2018  \n",
       "1  A startup which aggregates milk from dairy far...  2018  \n",
       "2          Leading Online Loans Marketplace in India  2018  \n",
       "3  PayMe India is an innovative FinTech organizat...  2018  \n",
       "5  Hasura is a platform that allows developers to...  2018  "
      ]
     },
     "execution_count": 26,
     "metadata": {},
     "output_type": "execute_result"
    }
   ],
   "source": [
    "data18.head(5)"
   ]
  },
  {
   "cell_type": "markdown",
   "metadata": {},
   "source": [
    "# CLEANING 2019 DATA"
   ]
  },
  {
   "cell_type": "markdown",
   "metadata": {},
   "source": [
    "Overview of the Data"
   ]
  },
  {
   "cell_type": "code",
   "execution_count": 27,
   "metadata": {},
   "outputs": [
    {
     "name": "stdout",
     "output_type": "stream",
     "text": [
      "<class 'pandas.core.frame.DataFrame'>\n",
      "RangeIndex: 89 entries, 0 to 88\n",
      "Data columns (total 7 columns):\n",
      " #   Column         Non-Null Count  Dtype \n",
      "---  ------         --------------  ----- \n",
      " 0   Company_Brand  89 non-null     object\n",
      " 1   HeadQuarter    70 non-null     object\n",
      " 2   Sector         84 non-null     object\n",
      " 3   What_it_does   89 non-null     object\n",
      " 4   Amount($)      89 non-null     object\n",
      " 5   Stage          43 non-null     object\n",
      " 6   Year           89 non-null     object\n",
      "dtypes: object(7)\n",
      "memory usage: 5.0+ KB\n"
     ]
    }
   ],
   "source": [
    "data19.info()"
   ]
  },
  {
   "cell_type": "code",
   "execution_count": 28,
   "metadata": {},
   "outputs": [
    {
     "data": {
      "text/html": [
       "<div>\n",
       "<style scoped>\n",
       "    .dataframe tbody tr th:only-of-type {\n",
       "        vertical-align: middle;\n",
       "    }\n",
       "\n",
       "    .dataframe tbody tr th {\n",
       "        vertical-align: top;\n",
       "    }\n",
       "\n",
       "    .dataframe thead th {\n",
       "        text-align: right;\n",
       "    }\n",
       "</style>\n",
       "<table border=\"1\" class=\"dataframe\">\n",
       "  <thead>\n",
       "    <tr style=\"text-align: right;\">\n",
       "      <th></th>\n",
       "      <th>Company_Brand</th>\n",
       "      <th>HeadQuarter</th>\n",
       "      <th>Sector</th>\n",
       "      <th>What_it_does</th>\n",
       "      <th>Amount($)</th>\n",
       "      <th>Stage</th>\n",
       "      <th>Year</th>\n",
       "    </tr>\n",
       "  </thead>\n",
       "  <tbody>\n",
       "    <tr>\n",
       "      <th>0</th>\n",
       "      <td>Bombay Shaving</td>\n",
       "      <td>NaN</td>\n",
       "      <td>Ecommerce</td>\n",
       "      <td>Provides a range of male grooming products</td>\n",
       "      <td>$6,300,000</td>\n",
       "      <td>NaN</td>\n",
       "      <td>2019</td>\n",
       "    </tr>\n",
       "    <tr>\n",
       "      <th>1</th>\n",
       "      <td>Ruangguru</td>\n",
       "      <td>Mumbai</td>\n",
       "      <td>Edtech</td>\n",
       "      <td>A learning platform that provides topic-based ...</td>\n",
       "      <td>$150,000,000</td>\n",
       "      <td>Series C</td>\n",
       "      <td>2019</td>\n",
       "    </tr>\n",
       "    <tr>\n",
       "      <th>2</th>\n",
       "      <td>Eduisfun</td>\n",
       "      <td>Mumbai</td>\n",
       "      <td>Edtech</td>\n",
       "      <td>It aims to make learning fun via games.</td>\n",
       "      <td>$28,000,000</td>\n",
       "      <td>Fresh funding</td>\n",
       "      <td>2019</td>\n",
       "    </tr>\n",
       "    <tr>\n",
       "      <th>3</th>\n",
       "      <td>HomeLane</td>\n",
       "      <td>Chennai</td>\n",
       "      <td>Interior design</td>\n",
       "      <td>Provides interior designing solutions</td>\n",
       "      <td>$30,000,000</td>\n",
       "      <td>Series D</td>\n",
       "      <td>2019</td>\n",
       "    </tr>\n",
       "    <tr>\n",
       "      <th>4</th>\n",
       "      <td>Nu Genes</td>\n",
       "      <td>Telangana</td>\n",
       "      <td>AgriTech</td>\n",
       "      <td>It is a seed company engaged in production, pr...</td>\n",
       "      <td>$6,000,000</td>\n",
       "      <td>NaN</td>\n",
       "      <td>2019</td>\n",
       "    </tr>\n",
       "    <tr>\n",
       "      <th>5</th>\n",
       "      <td>FlytBase</td>\n",
       "      <td>Pune</td>\n",
       "      <td>Technology</td>\n",
       "      <td>A drone automation platform</td>\n",
       "      <td>Undisclosed</td>\n",
       "      <td>NaN</td>\n",
       "      <td>2019</td>\n",
       "    </tr>\n",
       "    <tr>\n",
       "      <th>6</th>\n",
       "      <td>Finly</td>\n",
       "      <td>Bangalore</td>\n",
       "      <td>SaaS</td>\n",
       "      <td>It builds software products that makes work si...</td>\n",
       "      <td>Undisclosed</td>\n",
       "      <td>NaN</td>\n",
       "      <td>2019</td>\n",
       "    </tr>\n",
       "    <tr>\n",
       "      <th>7</th>\n",
       "      <td>Kratikal</td>\n",
       "      <td>Noida</td>\n",
       "      <td>Technology</td>\n",
       "      <td>It is a product-based cybersecurity solutions ...</td>\n",
       "      <td>$1,000,000</td>\n",
       "      <td>Pre series A</td>\n",
       "      <td>2019</td>\n",
       "    </tr>\n",
       "    <tr>\n",
       "      <th>8</th>\n",
       "      <td>Quantiphi</td>\n",
       "      <td>NaN</td>\n",
       "      <td>AI &amp; Tech</td>\n",
       "      <td>It is an AI and big data services company prov...</td>\n",
       "      <td>$20,000,000</td>\n",
       "      <td>Series A</td>\n",
       "      <td>2019</td>\n",
       "    </tr>\n",
       "    <tr>\n",
       "      <th>9</th>\n",
       "      <td>Lenskart</td>\n",
       "      <td>Delhi</td>\n",
       "      <td>E-commerce</td>\n",
       "      <td>It is a eyewear company</td>\n",
       "      <td>$275,000,000</td>\n",
       "      <td>Series G</td>\n",
       "      <td>2019</td>\n",
       "    </tr>\n",
       "  </tbody>\n",
       "</table>\n",
       "</div>"
      ],
      "text/plain": [
       "    Company_Brand HeadQuarter           Sector  \\\n",
       "0  Bombay Shaving         NaN        Ecommerce   \n",
       "1       Ruangguru      Mumbai           Edtech   \n",
       "2        Eduisfun      Mumbai           Edtech   \n",
       "3        HomeLane     Chennai  Interior design   \n",
       "4        Nu Genes   Telangana         AgriTech   \n",
       "5        FlytBase        Pune       Technology   \n",
       "6           Finly   Bangalore             SaaS   \n",
       "7        Kratikal       Noida       Technology   \n",
       "8       Quantiphi         NaN        AI & Tech   \n",
       "9        Lenskart       Delhi       E-commerce   \n",
       "\n",
       "                                        What_it_does     Amount($)  \\\n",
       "0         Provides a range of male grooming products    $6,300,000   \n",
       "1  A learning platform that provides topic-based ...  $150,000,000   \n",
       "2            It aims to make learning fun via games.   $28,000,000   \n",
       "3              Provides interior designing solutions   $30,000,000   \n",
       "4  It is a seed company engaged in production, pr...    $6,000,000   \n",
       "5                        A drone automation platform   Undisclosed   \n",
       "6  It builds software products that makes work si...   Undisclosed   \n",
       "7  It is a product-based cybersecurity solutions ...    $1,000,000   \n",
       "8  It is an AI and big data services company prov...   $20,000,000   \n",
       "9                            It is a eyewear company  $275,000,000   \n",
       "\n",
       "           Stage  Year  \n",
       "0            NaN  2019  \n",
       "1       Series C  2019  \n",
       "2  Fresh funding  2019  \n",
       "3       Series D  2019  \n",
       "4            NaN  2019  \n",
       "5            NaN  2019  \n",
       "6            NaN  2019  \n",
       "7   Pre series A  2019  \n",
       "8       Series A  2019  \n",
       "9       Series G  2019  "
      ]
     },
     "execution_count": 28,
     "metadata": {},
     "output_type": "execute_result"
    }
   ],
   "source": [
    "data19.head(10)"
   ]
  },
  {
   "cell_type": "code",
   "execution_count": 29,
   "metadata": {},
   "outputs": [
    {
     "data": {
      "text/plain": [
       "Company_Brand     0\n",
       "HeadQuarter      19\n",
       "Sector            5\n",
       "What_it_does      0\n",
       "Amount($)         0\n",
       "Stage            46\n",
       "Year              0\n",
       "dtype: int64"
      ]
     },
     "execution_count": 29,
     "metadata": {},
     "output_type": "execute_result"
    }
   ],
   "source": [
    "# Checking missing values in the dataset\n",
    "data19.isna().sum()"
   ]
  },
  {
   "cell_type": "markdown",
   "metadata": {},
   "source": [
    "1. Amount Column"
   ]
  },
  {
   "cell_type": "code",
   "execution_count": 30,
   "metadata": {},
   "outputs": [],
   "source": [
    "# Remove commas, dollar signs and change dtype to float \n",
    "data19['Amount($)'] = data19['Amount($)'].str.replace('$', '')\n",
    "# Replace commas\n",
    "data19['Amount($)'] = data19['Amount($)'].str.replace(',','')\n",
    "\n",
    "# Amount column contains some other values that need to be changed before converting to float\n",
    "# Drop Undisclosed\n",
    "value_to_drop = 'Undisclosed'\n",
    "data19 = data19[data19['Amount($)'] != value_to_drop]\n",
    "\n",
    "# Change dtype to float\n",
    "data19['Amount($)'] = data19['Amount($)'].astype(float) "
   ]
  },
  {
   "cell_type": "code",
   "execution_count": 31,
   "metadata": {},
   "outputs": [
    {
     "data": {
      "text/plain": [
       "array([6.300e+06, 1.500e+08, 2.800e+07, 3.000e+07, 6.000e+06, 1.000e+06,\n",
       "       2.000e+07, 2.750e+08, 2.200e+07, 5.000e+06, 1.405e+05, 5.400e+08,\n",
       "       1.500e+07, 1.827e+05, 1.200e+07, 1.100e+07, 1.550e+07, 1.500e+06,\n",
       "       5.500e+06, 2.500e+06, 1.400e+05, 2.300e+08, 4.940e+07, 3.200e+07,\n",
       "       2.600e+07, 1.500e+05, 4.000e+05, 2.000e+06, 1.000e+08, 8.000e+06,\n",
       "       1.000e+05, 5.000e+07, 1.200e+08, 4.000e+06, 6.800e+06, 3.600e+07,\n",
       "       5.700e+06, 2.500e+07, 6.000e+05, 7.000e+07, 6.000e+07, 2.200e+05,\n",
       "       2.800e+06, 2.100e+06, 7.000e+06, 3.110e+08, 4.800e+06, 6.930e+08,\n",
       "       3.300e+07])"
      ]
     },
     "execution_count": 31,
     "metadata": {},
     "output_type": "execute_result"
    }
   ],
   "source": [
    "data19['Amount($)'].unique()"
   ]
  },
  {
   "cell_type": "markdown",
   "metadata": {},
   "source": [
    "2. HeadQuarter Column"
   ]
  },
  {
   "cell_type": "code",
   "execution_count": 32,
   "metadata": {},
   "outputs": [],
   "source": [
    "# fill all missing values with unknown and then drop it \n",
    "data19['HeadQuarter'].fillna('Unknown', inplace=True)"
   ]
  },
  {
   "cell_type": "markdown",
   "metadata": {},
   "source": [
    "3. Stage Column"
   ]
  },
  {
   "cell_type": "code",
   "execution_count": 33,
   "metadata": {},
   "outputs": [],
   "source": [
    "replacement2 = {\n",
    "    'Fresh funding' : 'Pre-series A',\n",
    "    'Pre series A' : 'Pre-series A',\n",
    "    'Seed fund' : 'Pre-series A',\n",
    "    'Seed funding' : 'Pre-series A',\n",
    "    'Post series A' : 'Series B',\n",
    "    'Series B+' : 'Series B',\n",
    "    'Seed round' : 'Pre-series A',\n",
    "}\n",
    "\n",
    "data19['Stage'] = data19['Stage'].replace(replacement2)"
   ]
  },
  {
   "cell_type": "code",
   "execution_count": 34,
   "metadata": {},
   "outputs": [],
   "source": [
    "# fill all missing values with unknown and then drop it \n",
    "data19['Stage'].fillna('Unknown', inplace=True)"
   ]
  },
  {
   "cell_type": "code",
   "execution_count": 35,
   "metadata": {},
   "outputs": [
    {
     "data": {
      "text/plain": [
       "array(['Unknown', 'Series C', 'Pre-series A', 'Series D', 'Series A',\n",
       "       'Series G', 'Series B', 'Series E', 'Series F'], dtype=object)"
      ]
     },
     "execution_count": 35,
     "metadata": {},
     "output_type": "execute_result"
    }
   ],
   "source": [
    "data19['Stage'].unique()"
   ]
  },
  {
   "cell_type": "markdown",
   "metadata": {},
   "source": [
    "Check duplicates and drop them"
   ]
  },
  {
   "cell_type": "code",
   "execution_count": 36,
   "metadata": {},
   "outputs": [
    {
     "data": {
      "text/html": [
       "<div>\n",
       "<style scoped>\n",
       "    .dataframe tbody tr th:only-of-type {\n",
       "        vertical-align: middle;\n",
       "    }\n",
       "\n",
       "    .dataframe tbody tr th {\n",
       "        vertical-align: top;\n",
       "    }\n",
       "\n",
       "    .dataframe thead th {\n",
       "        text-align: right;\n",
       "    }\n",
       "</style>\n",
       "<table border=\"1\" class=\"dataframe\">\n",
       "  <thead>\n",
       "    <tr style=\"text-align: right;\">\n",
       "      <th></th>\n",
       "      <th>Company_Brand</th>\n",
       "      <th>HeadQuarter</th>\n",
       "      <th>Sector</th>\n",
       "      <th>What_it_does</th>\n",
       "      <th>Amount($)</th>\n",
       "      <th>Stage</th>\n",
       "      <th>Year</th>\n",
       "    </tr>\n",
       "  </thead>\n",
       "  <tbody>\n",
       "  </tbody>\n",
       "</table>\n",
       "</div>"
      ],
      "text/plain": [
       "Empty DataFrame\n",
       "Columns: [Company_Brand, HeadQuarter, Sector, What_it_does, Amount($), Stage, Year]\n",
       "Index: []"
      ]
     },
     "execution_count": 36,
     "metadata": {},
     "output_type": "execute_result"
    }
   ],
   "source": [
    "# Identify duplicate rows based on all columns\n",
    "duplicates = data19[data19.duplicated(keep=False)]\n",
    "duplicates"
   ]
  },
  {
   "cell_type": "code",
   "execution_count": 37,
   "metadata": {},
   "outputs": [],
   "source": [
    "# Drop Unknown in HeadQuarter and Sector\n",
    "value_to_drop = 'Unknown'\n",
    "data19 = data19[data19['HeadQuarter'] != value_to_drop]\n",
    "\n",
    "value_to_drop = 'Unknown'\n",
    "data19 = data19[data19['Stage'] != value_to_drop]"
   ]
  },
  {
   "cell_type": "markdown",
   "metadata": {},
   "source": [
    "Review Cleaned Data"
   ]
  },
  {
   "cell_type": "code",
   "execution_count": 38,
   "metadata": {},
   "outputs": [
    {
     "data": {
      "text/plain": [
       "array(['Edtech', 'Interior design', 'Technology', 'E-commerce', 'Fintech',\n",
       "       'SaaS', 'Insurance technology', 'Foodtech', 'Food', 'Travel',\n",
       "       'Manufacturing', 'AI', 'E-marketplace', 'Social Media', 'AgriTech',\n",
       "       nan, 'Cosmetics', 'B2B', 'Jewellery', 'Automobile', 'Logistics',\n",
       "       'Virtual Banking', 'Marketing & Customer loyalty', 'Infratech',\n",
       "       'Automobile & Technology'], dtype=object)"
      ]
     },
     "execution_count": 38,
     "metadata": {},
     "output_type": "execute_result"
    }
   ],
   "source": [
    "data19['Sector'].unique()"
   ]
  },
  {
   "cell_type": "code",
   "execution_count": 39,
   "metadata": {},
   "outputs": [],
   "source": [
    "# fill all missing values with unknown and then drop it \n",
    "data19 = data19.fillna('Unknown')"
   ]
  },
  {
   "cell_type": "code",
   "execution_count": 40,
   "metadata": {},
   "outputs": [],
   "source": [
    "value_to_drop = 'Unknown'\n",
    "data19 = data19[data19['Sector'] != value_to_drop]"
   ]
  },
  {
   "cell_type": "code",
   "execution_count": 41,
   "metadata": {},
   "outputs": [
    {
     "name": "stdout",
     "output_type": "stream",
     "text": [
      "<class 'pandas.core.frame.DataFrame'>\n",
      "Index: 30 entries, 1 to 86\n",
      "Data columns (total 7 columns):\n",
      " #   Column         Non-Null Count  Dtype  \n",
      "---  ------         --------------  -----  \n",
      " 0   Company_Brand  30 non-null     object \n",
      " 1   HeadQuarter    30 non-null     object \n",
      " 2   Sector         30 non-null     object \n",
      " 3   What_it_does   30 non-null     object \n",
      " 4   Amount($)      30 non-null     float64\n",
      " 5   Stage          30 non-null     object \n",
      " 6   Year           30 non-null     object \n",
      "dtypes: float64(1), object(6)\n",
      "memory usage: 1.9+ KB\n"
     ]
    }
   ],
   "source": [
    "data19.info()"
   ]
  },
  {
   "cell_type": "code",
   "execution_count": 42,
   "metadata": {},
   "outputs": [
    {
     "data": {
      "text/html": [
       "<div>\n",
       "<style scoped>\n",
       "    .dataframe tbody tr th:only-of-type {\n",
       "        vertical-align: middle;\n",
       "    }\n",
       "\n",
       "    .dataframe tbody tr th {\n",
       "        vertical-align: top;\n",
       "    }\n",
       "\n",
       "    .dataframe thead th {\n",
       "        text-align: right;\n",
       "    }\n",
       "</style>\n",
       "<table border=\"1\" class=\"dataframe\">\n",
       "  <thead>\n",
       "    <tr style=\"text-align: right;\">\n",
       "      <th></th>\n",
       "      <th>Company_Brand</th>\n",
       "      <th>HeadQuarter</th>\n",
       "      <th>Sector</th>\n",
       "      <th>What_it_does</th>\n",
       "      <th>Amount($)</th>\n",
       "      <th>Stage</th>\n",
       "      <th>Year</th>\n",
       "    </tr>\n",
       "  </thead>\n",
       "  <tbody>\n",
       "    <tr>\n",
       "      <th>1</th>\n",
       "      <td>Ruangguru</td>\n",
       "      <td>Mumbai</td>\n",
       "      <td>Edtech</td>\n",
       "      <td>A learning platform that provides topic-based ...</td>\n",
       "      <td>150000000.0</td>\n",
       "      <td>Series C</td>\n",
       "      <td>2019</td>\n",
       "    </tr>\n",
       "    <tr>\n",
       "      <th>2</th>\n",
       "      <td>Eduisfun</td>\n",
       "      <td>Mumbai</td>\n",
       "      <td>Edtech</td>\n",
       "      <td>It aims to make learning fun via games.</td>\n",
       "      <td>28000000.0</td>\n",
       "      <td>Pre-series A</td>\n",
       "      <td>2019</td>\n",
       "    </tr>\n",
       "    <tr>\n",
       "      <th>3</th>\n",
       "      <td>HomeLane</td>\n",
       "      <td>Chennai</td>\n",
       "      <td>Interior design</td>\n",
       "      <td>Provides interior designing solutions</td>\n",
       "      <td>30000000.0</td>\n",
       "      <td>Series D</td>\n",
       "      <td>2019</td>\n",
       "    </tr>\n",
       "    <tr>\n",
       "      <th>7</th>\n",
       "      <td>Kratikal</td>\n",
       "      <td>Noida</td>\n",
       "      <td>Technology</td>\n",
       "      <td>It is a product-based cybersecurity solutions ...</td>\n",
       "      <td>1000000.0</td>\n",
       "      <td>Pre-series A</td>\n",
       "      <td>2019</td>\n",
       "    </tr>\n",
       "    <tr>\n",
       "      <th>9</th>\n",
       "      <td>Lenskart</td>\n",
       "      <td>Delhi</td>\n",
       "      <td>E-commerce</td>\n",
       "      <td>It is a eyewear company</td>\n",
       "      <td>275000000.0</td>\n",
       "      <td>Series G</td>\n",
       "      <td>2019</td>\n",
       "    </tr>\n",
       "  </tbody>\n",
       "</table>\n",
       "</div>"
      ],
      "text/plain": [
       "  Company_Brand HeadQuarter           Sector  \\\n",
       "1     Ruangguru      Mumbai           Edtech   \n",
       "2      Eduisfun      Mumbai           Edtech   \n",
       "3      HomeLane     Chennai  Interior design   \n",
       "7      Kratikal       Noida       Technology   \n",
       "9      Lenskart       Delhi       E-commerce   \n",
       "\n",
       "                                        What_it_does    Amount($)  \\\n",
       "1  A learning platform that provides topic-based ...  150000000.0   \n",
       "2            It aims to make learning fun via games.   28000000.0   \n",
       "3              Provides interior designing solutions   30000000.0   \n",
       "7  It is a product-based cybersecurity solutions ...    1000000.0   \n",
       "9                            It is a eyewear company  275000000.0   \n",
       "\n",
       "          Stage  Year  \n",
       "1      Series C  2019  \n",
       "2  Pre-series A  2019  \n",
       "3      Series D  2019  \n",
       "7  Pre-series A  2019  \n",
       "9      Series G  2019  "
      ]
     },
     "execution_count": 42,
     "metadata": {},
     "output_type": "execute_result"
    }
   ],
   "source": [
    "data19.head(5)"
   ]
  },
  {
   "cell_type": "markdown",
   "metadata": {},
   "source": [
    "# 2020 CLEANING"
   ]
  },
  {
   "cell_type": "markdown",
   "metadata": {},
   "source": [
    "Overview of the Data"
   ]
  },
  {
   "cell_type": "code",
   "execution_count": 43,
   "metadata": {},
   "outputs": [
    {
     "name": "stdout",
     "output_type": "stream",
     "text": [
      "<class 'pandas.core.frame.DataFrame'>\n",
      "RangeIndex: 1055 entries, 0 to 1054\n",
      "Data columns (total 7 columns):\n",
      " #   Column         Non-Null Count  Dtype  \n",
      "---  ------         --------------  -----  \n",
      " 0   Company_Brand  1055 non-null   object \n",
      " 1   HeadQuarter    961 non-null    object \n",
      " 2   Sector         1042 non-null   object \n",
      " 3   What_it_does   1055 non-null   object \n",
      " 4   Amount($)      801 non-null    float64\n",
      " 5   Stage          591 non-null    object \n",
      " 6   Year           1055 non-null   object \n",
      "dtypes: float64(1), object(6)\n",
      "memory usage: 57.8+ KB\n"
     ]
    }
   ],
   "source": [
    "data20.info()"
   ]
  },
  {
   "cell_type": "code",
   "execution_count": 44,
   "metadata": {},
   "outputs": [
    {
     "data": {
      "text/html": [
       "<div>\n",
       "<style scoped>\n",
       "    .dataframe tbody tr th:only-of-type {\n",
       "        vertical-align: middle;\n",
       "    }\n",
       "\n",
       "    .dataframe tbody tr th {\n",
       "        vertical-align: top;\n",
       "    }\n",
       "\n",
       "    .dataframe thead th {\n",
       "        text-align: right;\n",
       "    }\n",
       "</style>\n",
       "<table border=\"1\" class=\"dataframe\">\n",
       "  <thead>\n",
       "    <tr style=\"text-align: right;\">\n",
       "      <th></th>\n",
       "      <th>Company_Brand</th>\n",
       "      <th>HeadQuarter</th>\n",
       "      <th>Sector</th>\n",
       "      <th>What_it_does</th>\n",
       "      <th>Amount($)</th>\n",
       "      <th>Stage</th>\n",
       "      <th>Year</th>\n",
       "    </tr>\n",
       "  </thead>\n",
       "  <tbody>\n",
       "    <tr>\n",
       "      <th>0</th>\n",
       "      <td>Aqgromalin</td>\n",
       "      <td>Chennai</td>\n",
       "      <td>AgriTech</td>\n",
       "      <td>Cultivating Ideas for Profit</td>\n",
       "      <td>200000.0</td>\n",
       "      <td>None</td>\n",
       "      <td>2020</td>\n",
       "    </tr>\n",
       "    <tr>\n",
       "      <th>1</th>\n",
       "      <td>Krayonnz</td>\n",
       "      <td>Bangalore</td>\n",
       "      <td>EdTech</td>\n",
       "      <td>An academy-guardian-scholar centric ecosystem ...</td>\n",
       "      <td>100000.0</td>\n",
       "      <td>Pre-seed</td>\n",
       "      <td>2020</td>\n",
       "    </tr>\n",
       "    <tr>\n",
       "      <th>2</th>\n",
       "      <td>PadCare Labs</td>\n",
       "      <td>Pune</td>\n",
       "      <td>Hygiene management</td>\n",
       "      <td>Converting bio-hazardous waste to harmless waste</td>\n",
       "      <td>NaN</td>\n",
       "      <td>Pre-seed</td>\n",
       "      <td>2020</td>\n",
       "    </tr>\n",
       "    <tr>\n",
       "      <th>3</th>\n",
       "      <td>NCOME</td>\n",
       "      <td>New Delhi</td>\n",
       "      <td>Escrow</td>\n",
       "      <td>Escrow-as-a-service platform</td>\n",
       "      <td>400000.0</td>\n",
       "      <td>None</td>\n",
       "      <td>2020</td>\n",
       "    </tr>\n",
       "    <tr>\n",
       "      <th>4</th>\n",
       "      <td>Gramophone</td>\n",
       "      <td>Indore</td>\n",
       "      <td>AgriTech</td>\n",
       "      <td>Gramophone is an AgTech platform enabling acce...</td>\n",
       "      <td>340000.0</td>\n",
       "      <td>None</td>\n",
       "      <td>2020</td>\n",
       "    </tr>\n",
       "  </tbody>\n",
       "</table>\n",
       "</div>"
      ],
      "text/plain": [
       "  Company_Brand HeadQuarter              Sector  \\\n",
       "0    Aqgromalin     Chennai            AgriTech   \n",
       "1      Krayonnz   Bangalore              EdTech   \n",
       "2  PadCare Labs        Pune  Hygiene management   \n",
       "3         NCOME   New Delhi              Escrow   \n",
       "4    Gramophone      Indore            AgriTech   \n",
       "\n",
       "                                        What_it_does  Amount($)     Stage  \\\n",
       "0                       Cultivating Ideas for Profit   200000.0      None   \n",
       "1  An academy-guardian-scholar centric ecosystem ...   100000.0  Pre-seed   \n",
       "2   Converting bio-hazardous waste to harmless waste        NaN  Pre-seed   \n",
       "3                       Escrow-as-a-service platform   400000.0      None   \n",
       "4  Gramophone is an AgTech platform enabling acce...   340000.0      None   \n",
       "\n",
       "   Year  \n",
       "0  2020  \n",
       "1  2020  \n",
       "2  2020  \n",
       "3  2020  \n",
       "4  2020  "
      ]
     },
     "execution_count": 44,
     "metadata": {},
     "output_type": "execute_result"
    }
   ],
   "source": [
    "data20.head()"
   ]
  },
  {
   "cell_type": "code",
   "execution_count": 45,
   "metadata": {},
   "outputs": [
    {
     "data": {
      "text/plain": [
       "Company_Brand      0\n",
       "HeadQuarter       94\n",
       "Sector            13\n",
       "What_it_does       0\n",
       "Amount($)        254\n",
       "Stage            464\n",
       "Year               0\n",
       "dtype: int64"
      ]
     },
     "execution_count": 45,
     "metadata": {},
     "output_type": "execute_result"
    }
   ],
   "source": [
    "# discover if there is nay missing values\n",
    "data20.isna().sum()"
   ]
  },
  {
   "cell_type": "markdown",
   "metadata": {},
   "source": [
    "1. HeadQuarter Column"
   ]
  },
  {
   "cell_type": "code",
   "execution_count": 46,
   "metadata": {},
   "outputs": [],
   "source": [
    "data20[['HeadQuarter','f','u']] = data20['HeadQuarter'].str.split(', ',expand=True)\n",
    "data20.drop(columns=['f','u'], axis=1, inplace = True)"
   ]
  },
  {
   "cell_type": "code",
   "execution_count": 47,
   "metadata": {},
   "outputs": [],
   "source": [
    "# fill all missing values with unknown\n",
    "data20['HeadQuarter'].fillna('Unknown', inplace=True)"
   ]
  },
  {
   "cell_type": "markdown",
   "metadata": {},
   "source": [
    "2. Sector Column"
   ]
  },
  {
   "cell_type": "code",
   "execution_count": 48,
   "metadata": {},
   "outputs": [],
   "source": [
    "# fill all missing values with unknown\n",
    "data20['Sector'].fillna('Unknown', inplace=True)"
   ]
  },
  {
   "cell_type": "markdown",
   "metadata": {},
   "source": [
    "3. Stage Column"
   ]
  },
  {
   "cell_type": "code",
   "execution_count": 49,
   "metadata": {},
   "outputs": [],
   "source": [
    "# fill all missing values with unknown\n",
    "data20['Stage'].fillna('Unknown', inplace=True)"
   ]
  },
  {
   "cell_type": "code",
   "execution_count": 50,
   "metadata": {},
   "outputs": [],
   "source": [
    "replacement3 = { \n",
    "    'Bridge':'Bridge Round',\n",
    "    'Edge': 'Series B',\n",
    "    'Mid series':'Series B',\n",
    "    'Pre seed Round':'Pre-series A',\n",
    "    'Pre Series A':'Pre-series A',\n",
    "    'Pre- series A':'Pre-series A',\n",
    "    'Pre series A1':'Pre-series A',\n",
    "    'Pre series B':'Pre-series A',\n",
    "    'Pre series C':'Pre-series A',\n",
    "    'Pre-seed':'Pre-series A',\n",
    "    'Pre-seed Round':'Pre-series A',\n",
    "    'Pre-series':'Pre-series A',\n",
    "    'Pre-series B':'Pre-series A',\n",
    "    'Pre-series C':'Pre-series A',\n",
    "    'Seed':'Pre-series A',\n",
    "    'Seed A':'Series A',\n",
    "    'Seed Funding':'Pre-series A',\n",
    "    'Seed Investment':'Pre-series A',\n",
    "    'Seed round':'Pre-series A',\n",
    "    'Seed Round & Series A':'Series A',\n",
    "    'Series A-1':'Series A',\n",
    "    'Series B':'Series B',\n",
    "    'Series B2':'Series B',\n",
    "    'Series C, D':'Series C',\n",
    "    'Series D1':'Series D',\n",
    "    'Series E2':'Series E',\n",
    "    'Seed funding':'Pre-series A',\n",
    "    'Pre seed round':'Pre-series A',\n",
    "    'Seed Round':'Pre-series A',\n",
    "    'Pre series A':'Pre-series A',\n",
    "    'Pre-Seed':'Pre-series A',\n",
    "    'Pre-Series B':'Pre-series A',\n",
    "}\n",
    "\n",
    "data20['Stage'] = data20['Stage'].replace(replacement3)"
   ]
  },
  {
   "cell_type": "code",
   "execution_count": 51,
   "metadata": {},
   "outputs": [
    {
     "data": {
      "text/plain": [
       "array(['Unknown', 'Pre-series A', 'Series C', 'Series A', 'Series B',\n",
       "       'Debt', 'Series E', 'Bridge Round', 'Series D', 'Series F',\n",
       "       'Series H', 'Angel Round'], dtype=object)"
      ]
     },
     "execution_count": 51,
     "metadata": {},
     "output_type": "execute_result"
    }
   ],
   "source": [
    "data20['Stage'].unique()"
   ]
  },
  {
   "cell_type": "markdown",
   "metadata": {},
   "source": [
    "Check duplicates and dropping them"
   ]
  },
  {
   "cell_type": "code",
   "execution_count": 52,
   "metadata": {},
   "outputs": [
    {
     "data": {
      "text/html": [
       "<div>\n",
       "<style scoped>\n",
       "    .dataframe tbody tr th:only-of-type {\n",
       "        vertical-align: middle;\n",
       "    }\n",
       "\n",
       "    .dataframe tbody tr th {\n",
       "        vertical-align: top;\n",
       "    }\n",
       "\n",
       "    .dataframe thead th {\n",
       "        text-align: right;\n",
       "    }\n",
       "</style>\n",
       "<table border=\"1\" class=\"dataframe\">\n",
       "  <thead>\n",
       "    <tr style=\"text-align: right;\">\n",
       "      <th></th>\n",
       "      <th>Company_Brand</th>\n",
       "      <th>HeadQuarter</th>\n",
       "      <th>Sector</th>\n",
       "      <th>What_it_does</th>\n",
       "      <th>Amount($)</th>\n",
       "      <th>Stage</th>\n",
       "      <th>Year</th>\n",
       "    </tr>\n",
       "  </thead>\n",
       "  <tbody>\n",
       "    <tr>\n",
       "      <th>120</th>\n",
       "      <td>Nykaa</td>\n",
       "      <td>Mumbai</td>\n",
       "      <td>Cosmetics</td>\n",
       "      <td>Nykaa is an online marketplace for different b...</td>\n",
       "      <td>NaN</td>\n",
       "      <td>Unknown</td>\n",
       "      <td>2020</td>\n",
       "    </tr>\n",
       "    <tr>\n",
       "      <th>129</th>\n",
       "      <td>Krimanshi</td>\n",
       "      <td>Jodhpur</td>\n",
       "      <td>Biotechnology company</td>\n",
       "      <td>Krimanshi aims to increase rural income by imp...</td>\n",
       "      <td>600000.0</td>\n",
       "      <td>Pre-series A</td>\n",
       "      <td>2020</td>\n",
       "    </tr>\n",
       "    <tr>\n",
       "      <th>145</th>\n",
       "      <td>Krimanshi</td>\n",
       "      <td>Jodhpur</td>\n",
       "      <td>Biotechnology company</td>\n",
       "      <td>Krimanshi aims to increase rural income by imp...</td>\n",
       "      <td>600000.0</td>\n",
       "      <td>Pre-series A</td>\n",
       "      <td>2020</td>\n",
       "    </tr>\n",
       "    <tr>\n",
       "      <th>205</th>\n",
       "      <td>Nykaa</td>\n",
       "      <td>Mumbai</td>\n",
       "      <td>Cosmetics</td>\n",
       "      <td>Nykaa is an online marketplace for different b...</td>\n",
       "      <td>NaN</td>\n",
       "      <td>Unknown</td>\n",
       "      <td>2020</td>\n",
       "    </tr>\n",
       "    <tr>\n",
       "      <th>215</th>\n",
       "      <td>Genius Teacher</td>\n",
       "      <td>Mumbai</td>\n",
       "      <td>Edtech</td>\n",
       "      <td>Genius Teacher creates engaging educational co...</td>\n",
       "      <td>2000000.0</td>\n",
       "      <td>Unknown</td>\n",
       "      <td>2020</td>\n",
       "    </tr>\n",
       "    <tr>\n",
       "      <th>233</th>\n",
       "      <td>Genius Teacher</td>\n",
       "      <td>Mumbai</td>\n",
       "      <td>Edtech</td>\n",
       "      <td>Genius Teacher creates engaging educational co...</td>\n",
       "      <td>2000000.0</td>\n",
       "      <td>Unknown</td>\n",
       "      <td>2020</td>\n",
       "    </tr>\n",
       "    <tr>\n",
       "      <th>326</th>\n",
       "      <td>Byju’s</td>\n",
       "      <td>Bangalore</td>\n",
       "      <td>EdTech</td>\n",
       "      <td>An Indian educational technology and online tu...</td>\n",
       "      <td>500000000.0</td>\n",
       "      <td>Unknown</td>\n",
       "      <td>2020</td>\n",
       "    </tr>\n",
       "    <tr>\n",
       "      <th>362</th>\n",
       "      <td>Byju’s</td>\n",
       "      <td>Bangalore</td>\n",
       "      <td>EdTech</td>\n",
       "      <td>An Indian educational technology and online tu...</td>\n",
       "      <td>500000000.0</td>\n",
       "      <td>Unknown</td>\n",
       "      <td>2020</td>\n",
       "    </tr>\n",
       "    <tr>\n",
       "      <th>935</th>\n",
       "      <td>Byju</td>\n",
       "      <td>Unknown</td>\n",
       "      <td>Edtech</td>\n",
       "      <td>Provides online learning classes</td>\n",
       "      <td>200000000.0</td>\n",
       "      <td>Unknown</td>\n",
       "      <td>2020</td>\n",
       "    </tr>\n",
       "    <tr>\n",
       "      <th>1035</th>\n",
       "      <td>Byju</td>\n",
       "      <td>Unknown</td>\n",
       "      <td>Edtech</td>\n",
       "      <td>Provides online learning classes</td>\n",
       "      <td>200000000.0</td>\n",
       "      <td>Unknown</td>\n",
       "      <td>2020</td>\n",
       "    </tr>\n",
       "  </tbody>\n",
       "</table>\n",
       "</div>"
      ],
      "text/plain": [
       "       Company_Brand HeadQuarter                 Sector  \\\n",
       "120            Nykaa      Mumbai              Cosmetics   \n",
       "129        Krimanshi     Jodhpur  Biotechnology company   \n",
       "145        Krimanshi     Jodhpur  Biotechnology company   \n",
       "205            Nykaa      Mumbai              Cosmetics   \n",
       "215   Genius Teacher      Mumbai                 Edtech   \n",
       "233   Genius Teacher      Mumbai                 Edtech   \n",
       "326           Byju’s   Bangalore                 EdTech   \n",
       "362           Byju’s   Bangalore                 EdTech   \n",
       "935             Byju     Unknown                 Edtech   \n",
       "1035            Byju     Unknown                 Edtech   \n",
       "\n",
       "                                           What_it_does    Amount($)  \\\n",
       "120   Nykaa is an online marketplace for different b...          NaN   \n",
       "129   Krimanshi aims to increase rural income by imp...     600000.0   \n",
       "145   Krimanshi aims to increase rural income by imp...     600000.0   \n",
       "205   Nykaa is an online marketplace for different b...          NaN   \n",
       "215   Genius Teacher creates engaging educational co...    2000000.0   \n",
       "233   Genius Teacher creates engaging educational co...    2000000.0   \n",
       "326   An Indian educational technology and online tu...  500000000.0   \n",
       "362   An Indian educational technology and online tu...  500000000.0   \n",
       "935                    Provides online learning classes  200000000.0   \n",
       "1035                   Provides online learning classes  200000000.0   \n",
       "\n",
       "             Stage  Year  \n",
       "120        Unknown  2020  \n",
       "129   Pre-series A  2020  \n",
       "145   Pre-series A  2020  \n",
       "205        Unknown  2020  \n",
       "215        Unknown  2020  \n",
       "233        Unknown  2020  \n",
       "326        Unknown  2020  \n",
       "362        Unknown  2020  \n",
       "935        Unknown  2020  \n",
       "1035       Unknown  2020  "
      ]
     },
     "execution_count": 52,
     "metadata": {},
     "output_type": "execute_result"
    }
   ],
   "source": [
    "# Identify duplicate rows based on all columns\n",
    "duplicates = data20[data20.duplicated(keep=False)]\n",
    "duplicates"
   ]
  },
  {
   "cell_type": "code",
   "execution_count": 53,
   "metadata": {},
   "outputs": [],
   "source": [
    "# Drop one of the duplicates\n",
    "data20.drop_duplicates(keep='first', inplace=True)"
   ]
  },
  {
   "cell_type": "markdown",
   "metadata": {},
   "source": [
    "Amount Column"
   ]
  },
  {
   "cell_type": "code",
   "execution_count": 54,
   "metadata": {},
   "outputs": [],
   "source": [
    "# fill all missing values with unknown\n",
    "data20 = data20.fillna('Unknown')"
   ]
  },
  {
   "cell_type": "code",
   "execution_count": 55,
   "metadata": {},
   "outputs": [
    {
     "data": {
      "text/html": [
       "<div>\n",
       "<style scoped>\n",
       "    .dataframe tbody tr th:only-of-type {\n",
       "        vertical-align: middle;\n",
       "    }\n",
       "\n",
       "    .dataframe tbody tr th {\n",
       "        vertical-align: top;\n",
       "    }\n",
       "\n",
       "    .dataframe thead th {\n",
       "        text-align: right;\n",
       "    }\n",
       "</style>\n",
       "<table border=\"1\" class=\"dataframe\">\n",
       "  <thead>\n",
       "    <tr style=\"text-align: right;\">\n",
       "      <th></th>\n",
       "      <th>Company_Brand</th>\n",
       "      <th>HeadQuarter</th>\n",
       "      <th>Sector</th>\n",
       "      <th>What_it_does</th>\n",
       "      <th>Amount($)</th>\n",
       "      <th>Stage</th>\n",
       "      <th>Year</th>\n",
       "    </tr>\n",
       "  </thead>\n",
       "  <tbody>\n",
       "    <tr>\n",
       "      <th>0</th>\n",
       "      <td>Aqgromalin</td>\n",
       "      <td>Chennai</td>\n",
       "      <td>AgriTech</td>\n",
       "      <td>Cultivating Ideas for Profit</td>\n",
       "      <td>200000.0</td>\n",
       "      <td>Unknown</td>\n",
       "      <td>2020</td>\n",
       "    </tr>\n",
       "    <tr>\n",
       "      <th>1</th>\n",
       "      <td>Krayonnz</td>\n",
       "      <td>Bangalore</td>\n",
       "      <td>EdTech</td>\n",
       "      <td>An academy-guardian-scholar centric ecosystem ...</td>\n",
       "      <td>100000.0</td>\n",
       "      <td>Pre-series A</td>\n",
       "      <td>2020</td>\n",
       "    </tr>\n",
       "    <tr>\n",
       "      <th>2</th>\n",
       "      <td>PadCare Labs</td>\n",
       "      <td>Pune</td>\n",
       "      <td>Hygiene management</td>\n",
       "      <td>Converting bio-hazardous waste to harmless waste</td>\n",
       "      <td>Unknown</td>\n",
       "      <td>Pre-series A</td>\n",
       "      <td>2020</td>\n",
       "    </tr>\n",
       "    <tr>\n",
       "      <th>3</th>\n",
       "      <td>NCOME</td>\n",
       "      <td>New Delhi</td>\n",
       "      <td>Escrow</td>\n",
       "      <td>Escrow-as-a-service platform</td>\n",
       "      <td>400000.0</td>\n",
       "      <td>Unknown</td>\n",
       "      <td>2020</td>\n",
       "    </tr>\n",
       "    <tr>\n",
       "      <th>4</th>\n",
       "      <td>Gramophone</td>\n",
       "      <td>Indore</td>\n",
       "      <td>AgriTech</td>\n",
       "      <td>Gramophone is an AgTech platform enabling acce...</td>\n",
       "      <td>340000.0</td>\n",
       "      <td>Unknown</td>\n",
       "      <td>2020</td>\n",
       "    </tr>\n",
       "  </tbody>\n",
       "</table>\n",
       "</div>"
      ],
      "text/plain": [
       "  Company_Brand HeadQuarter              Sector  \\\n",
       "0    Aqgromalin     Chennai            AgriTech   \n",
       "1      Krayonnz   Bangalore              EdTech   \n",
       "2  PadCare Labs        Pune  Hygiene management   \n",
       "3         NCOME   New Delhi              Escrow   \n",
       "4    Gramophone      Indore            AgriTech   \n",
       "\n",
       "                                        What_it_does Amount($)         Stage  \\\n",
       "0                       Cultivating Ideas for Profit  200000.0       Unknown   \n",
       "1  An academy-guardian-scholar centric ecosystem ...  100000.0  Pre-series A   \n",
       "2   Converting bio-hazardous waste to harmless waste   Unknown  Pre-series A   \n",
       "3                       Escrow-as-a-service platform  400000.0       Unknown   \n",
       "4  Gramophone is an AgTech platform enabling acce...  340000.0       Unknown   \n",
       "\n",
       "   Year  \n",
       "0  2020  \n",
       "1  2020  \n",
       "2  2020  \n",
       "3  2020  \n",
       "4  2020  "
      ]
     },
     "execution_count": 55,
     "metadata": {},
     "output_type": "execute_result"
    }
   ],
   "source": [
    "data20.head()"
   ]
  },
  {
   "cell_type": "code",
   "execution_count": 56,
   "metadata": {},
   "outputs": [
    {
     "data": {
      "text/plain": [
       "array([200000.0, 100000.0, 'Unknown', 400000.0, 340000.0, 600000.0,\n",
       "       45000000.0, 1000000.0, 2000000.0, 1200000.0, 660000000.0, 120000.0,\n",
       "       7500000.0, 5000000.0, 500000.0, 3000000.0, 10000000.0, 145000000.0,\n",
       "       100000000.0, 21000000.0, 4000000.0, 20000000.0, 560000.0, 275000.0,\n",
       "       4500000.0, 15000000.0, 390000000.0, 7000000.0, 5100000.0,\n",
       "       700000000.0, 2300000.0, 700000.0, 19000000.0, 9000000.0,\n",
       "       40000000.0, 750000.0, 1500000.0, 7800000.0, 50000000.0, 80000000.0,\n",
       "       30000000.0, 1700000.0, 2500000.0, 40000.0, 33000000.0, 35000000.0,\n",
       "       300000.0, 25000000.0, 3500000.0, 200000000.0, 6000000.0, 1300000.0,\n",
       "       4100000.0, 575000.0, 800000.0, 28000000.0, 18000000.0, 3200000.0,\n",
       "       900000.0, 250000.0, 4700000.0, 75000000.0, 8000000.0, 121000000.0,\n",
       "       55000000.0, 3300000.0, 11000000.0, 16000000.0, 5400000.0,\n",
       "       150000000.0, 4200000.0, 22000000.0, 52000000.0, 1100000.0,\n",
       "       118000000.0, 1600000.0, 18500000.0, 70000000000.0, 800000000.0,\n",
       "       400000000.0, 150000.0, 176000000.0, 60000000.0, 470000.0, 240000.0,\n",
       "       3000000000.0, 74000000.0, 62000000.0, 2100000.0, 500000000.0,\n",
       "       12500000.0, 2200000000.0, 5060000.0, 225000000.0, 24700000.0,\n",
       "       7700000.0, 19067328.0, 51000000.0, 115000.0, 54000.0, 20000.0,\n",
       "       803146.0, 238000.0, 10220000.0, 1020000.0, 12000000.0, 13400000.0,\n",
       "       170000000.0, 2900000.0, 543000.0, 90000000.0, 3400000.0,\n",
       "       23000000.0, 8090000.0, 1030000.0, 5040000.0, 360000.0, 1400000.0,\n",
       "       650000.0, 54000000.0, 42500000.0, 11370000.0, 325000.0, 410000.0,\n",
       "       450000.0, 682000.0, 4050000.0, 1050000.0, 1080000.0, 4300000.0,\n",
       "       6800000.0, 2110000.0, 764000.0, 603000.0, 409000.0, 292000.0,\n",
       "       286000.0, 136000.0, 546000.0, 887000.0, 43000.0, 40900.0,\n",
       "       2200000.0, 5660000.0, 350000.0, 110000.0, 122000000.0, 11635000.0,\n",
       "       2800000.0, 1065000.0, 669000.0, 16076000.0, 649600.0, 6700000.0,\n",
       "       220000.0, 266500.0, 2879000.0, 26500000.0, 351000.0, 46761000.0,\n",
       "       175000.0, 11241000.0, 804000.0, 1340000.0, 467000.0, 133000.0,\n",
       "       3823000.0, 934000.0, 293000.0, 198000.0, 927000.0, 971000.0,\n",
       "       3060000.0, 1862000.0, 232000.0, 2888000.0, 1328000.0, 15500000.0,\n",
       "       56000000.0, 2250000.0, 16753000.0, 3700000.0, 1470000.0, 530000.0,\n",
       "       267000.0, 3344000.0, 7200000.0, 2743000.0, 6082000.0, 6609000.0,\n",
       "       27700000.0, 5940000.0, 3964000.0, 5500000.0, 197000.0, 4327000.0,\n",
       "       459000.0, 3937000.0, 1313500.0, 229800.0, 5305000.0, 264000.0,\n",
       "       1750000.0, 5967000.0, 2980000.0, 323000.0, 1326000.0, 27000000.0,\n",
       "       5200000.0, 2530000.0, 792000.0, 11363000.0, 1715000.0, 329000.0,\n",
       "       5271000.0, 8700000.0, 3226000.0, 5900000.0, 44000000.0, 3879000.0,\n",
       "       13000000.0, 8800000.0, 9500000.0, 920000.0, 35600000.0, 9400000.0,\n",
       "       790000.0, 480000.0, 160000.0, 8200000.0, 4257000.0, 1410000.0,\n",
       "       349800.0, 786000.0, 2004000.0, 123000000.0, 248000.0, 24000000.0,\n",
       "       14259000.0, 24500000.0, 3800000.0, 18370000.0, 68525000.0,\n",
       "       4800000.0, 1834000.0, 23850000.0, 43000000.0, 21600000.0,\n",
       "       4598000.0, 13137000.0, 115000000.0, 3900000.0, 670000.0, 8500000.0,\n",
       "       3148000.0, 2600000.0, 4049500.0, 10500000.0, 6500000.0, 43700000.0,\n",
       "       13800000.0, 306900.0, 420000.0, 627300.0, 113000000.0, 32000000.0,\n",
       "       110000000.0, 1397000.0, 448500.0, 7975700.0, 330000.0, 5600000.0,\n",
       "       1402000.0, 21500000.0, 296000000.0, 4900000.0, 1402400.0,\n",
       "       12618300.0, 9900000.0, 982530.0, 70185200.0, 210000000.0,\n",
       "       84000000.0, 39000000.0, 2700000.0, 1403400.0, 105000000.0,\n",
       "       103000000.0, 281300.0, 12700.0, 25000.0, 97500000.0, 507000.0,\n",
       "       8400000.0, 18300000.0, 125000000.0, 181000.0, 280000.0, 14700000.0,\n",
       "       13200000.0, 8043000.0], dtype=object)"
      ]
     },
     "execution_count": 56,
     "metadata": {},
     "output_type": "execute_result"
    }
   ],
   "source": [
    "data20['Amount($)'].unique()"
   ]
  },
  {
   "cell_type": "code",
   "execution_count": 57,
   "metadata": {},
   "outputs": [],
   "source": [
    "# Drop Unknown in HeadQuarter and Stage\n",
    "value_to_drop = 'Unknown'\n",
    "data20 = data20[data20['HeadQuarter'] != value_to_drop]\n",
    "\n",
    "value_to_drop = 'Unknown'\n",
    "data20 = data20[data20['Stage'] != value_to_drop]\n",
    "\n",
    "# Drop Unknown in Amount($) and Sector\n",
    "value_to_drop = 'Unknown'\n",
    "data20 = data20[data20['Sector'] != value_to_drop]\n",
    "\n",
    "value_to_drop = 'Unknown'\n",
    "data20 = data20[data20['Amount($)'] != value_to_drop]\n"
   ]
  },
  {
   "cell_type": "code",
   "execution_count": 58,
   "metadata": {},
   "outputs": [],
   "source": [
    "# Change dtype to float\n",
    "data20['Amount($)'] = data20['Amount($)'].astype(float) "
   ]
  },
  {
   "cell_type": "markdown",
   "metadata": {},
   "source": [
    "Review Cleaned Data"
   ]
  },
  {
   "cell_type": "code",
   "execution_count": 59,
   "metadata": {},
   "outputs": [
    {
     "name": "stdout",
     "output_type": "stream",
     "text": [
      "<class 'pandas.core.frame.DataFrame'>\n",
      "Index: 430 entries, 1 to 1054\n",
      "Data columns (total 7 columns):\n",
      " #   Column         Non-Null Count  Dtype  \n",
      "---  ------         --------------  -----  \n",
      " 0   Company_Brand  430 non-null    object \n",
      " 1   HeadQuarter    430 non-null    object \n",
      " 2   Sector         430 non-null    object \n",
      " 3   What_it_does   430 non-null    object \n",
      " 4   Amount($)      430 non-null    float64\n",
      " 5   Stage          430 non-null    object \n",
      " 6   Year           430 non-null    object \n",
      "dtypes: float64(1), object(6)\n",
      "memory usage: 26.9+ KB\n"
     ]
    }
   ],
   "source": [
    "data20.info()"
   ]
  },
  {
   "cell_type": "code",
   "execution_count": 60,
   "metadata": {},
   "outputs": [
    {
     "data": {
      "text/plain": [
       "Company_Brand    0\n",
       "HeadQuarter      0\n",
       "Sector           0\n",
       "What_it_does     0\n",
       "Amount($)        0\n",
       "Stage            0\n",
       "Year             0\n",
       "dtype: int64"
      ]
     },
     "execution_count": 60,
     "metadata": {},
     "output_type": "execute_result"
    }
   ],
   "source": [
    "data20.isna().sum()"
   ]
  },
  {
   "cell_type": "code",
   "execution_count": 61,
   "metadata": {},
   "outputs": [
    {
     "data": {
      "text/html": [
       "<div>\n",
       "<style scoped>\n",
       "    .dataframe tbody tr th:only-of-type {\n",
       "        vertical-align: middle;\n",
       "    }\n",
       "\n",
       "    .dataframe tbody tr th {\n",
       "        vertical-align: top;\n",
       "    }\n",
       "\n",
       "    .dataframe thead th {\n",
       "        text-align: right;\n",
       "    }\n",
       "</style>\n",
       "<table border=\"1\" class=\"dataframe\">\n",
       "  <thead>\n",
       "    <tr style=\"text-align: right;\">\n",
       "      <th></th>\n",
       "      <th>Company_Brand</th>\n",
       "      <th>HeadQuarter</th>\n",
       "      <th>Sector</th>\n",
       "      <th>What_it_does</th>\n",
       "      <th>Amount($)</th>\n",
       "      <th>Stage</th>\n",
       "      <th>Year</th>\n",
       "    </tr>\n",
       "  </thead>\n",
       "  <tbody>\n",
       "    <tr>\n",
       "      <th>1</th>\n",
       "      <td>Krayonnz</td>\n",
       "      <td>Bangalore</td>\n",
       "      <td>EdTech</td>\n",
       "      <td>An academy-guardian-scholar centric ecosystem ...</td>\n",
       "      <td>100000.0</td>\n",
       "      <td>Pre-series A</td>\n",
       "      <td>2020</td>\n",
       "    </tr>\n",
       "    <tr>\n",
       "      <th>5</th>\n",
       "      <td>qZense</td>\n",
       "      <td>Bangalore</td>\n",
       "      <td>AgriTech</td>\n",
       "      <td>qZense Labs is building the next-generation Io...</td>\n",
       "      <td>600000.0</td>\n",
       "      <td>Pre-series A</td>\n",
       "      <td>2020</td>\n",
       "    </tr>\n",
       "    <tr>\n",
       "      <th>6</th>\n",
       "      <td>MyClassboard</td>\n",
       "      <td>Hyderabad</td>\n",
       "      <td>EdTech</td>\n",
       "      <td>MyClassboard is a full-fledged School / Colleg...</td>\n",
       "      <td>600000.0</td>\n",
       "      <td>Pre-series A</td>\n",
       "      <td>2020</td>\n",
       "    </tr>\n",
       "    <tr>\n",
       "      <th>8</th>\n",
       "      <td>Rupeek</td>\n",
       "      <td>Bangalore</td>\n",
       "      <td>FinTech</td>\n",
       "      <td>Rupeek is an online lending platform that spec...</td>\n",
       "      <td>45000000.0</td>\n",
       "      <td>Series C</td>\n",
       "      <td>2020</td>\n",
       "    </tr>\n",
       "    <tr>\n",
       "      <th>9</th>\n",
       "      <td>Gig India</td>\n",
       "      <td>Pune</td>\n",
       "      <td>Crowdsourcing</td>\n",
       "      <td>GigIndia is a marketplace that provides on-dem...</td>\n",
       "      <td>1000000.0</td>\n",
       "      <td>Pre-series A</td>\n",
       "      <td>2020</td>\n",
       "    </tr>\n",
       "  </tbody>\n",
       "</table>\n",
       "</div>"
      ],
      "text/plain": [
       "  Company_Brand HeadQuarter         Sector  \\\n",
       "1      Krayonnz   Bangalore         EdTech   \n",
       "5        qZense   Bangalore       AgriTech   \n",
       "6  MyClassboard   Hyderabad         EdTech   \n",
       "8        Rupeek   Bangalore        FinTech   \n",
       "9     Gig India        Pune  Crowdsourcing   \n",
       "\n",
       "                                        What_it_does   Amount($)  \\\n",
       "1  An academy-guardian-scholar centric ecosystem ...    100000.0   \n",
       "5  qZense Labs is building the next-generation Io...    600000.0   \n",
       "6  MyClassboard is a full-fledged School / Colleg...    600000.0   \n",
       "8  Rupeek is an online lending platform that spec...  45000000.0   \n",
       "9  GigIndia is a marketplace that provides on-dem...   1000000.0   \n",
       "\n",
       "          Stage  Year  \n",
       "1  Pre-series A  2020  \n",
       "5  Pre-series A  2020  \n",
       "6  Pre-series A  2020  \n",
       "8      Series C  2020  \n",
       "9  Pre-series A  2020  "
      ]
     },
     "execution_count": 61,
     "metadata": {},
     "output_type": "execute_result"
    }
   ],
   "source": [
    "data20.head(5)"
   ]
  },
  {
   "cell_type": "markdown",
   "metadata": {},
   "source": [
    "# CLEANING 2021 DATA"
   ]
  },
  {
   "cell_type": "markdown",
   "metadata": {},
   "source": [
    "Overview of the Data"
   ]
  },
  {
   "cell_type": "code",
   "execution_count": 62,
   "metadata": {},
   "outputs": [
    {
     "name": "stdout",
     "output_type": "stream",
     "text": [
      "<class 'pandas.core.frame.DataFrame'>\n",
      "RangeIndex: 1209 entries, 0 to 1208\n",
      "Data columns (total 10 columns):\n",
      " #   Column         Non-Null Count  Dtype  \n",
      "---  ------         --------------  -----  \n",
      " 0   Company_Brand  1209 non-null   object \n",
      " 1   Founded        1208 non-null   float64\n",
      " 2   HeadQuarter    1208 non-null   object \n",
      " 3   Sector         1209 non-null   object \n",
      " 4   What_it_does   1209 non-null   object \n",
      " 5   Founders       1205 non-null   object \n",
      " 6   Investor       1147 non-null   object \n",
      " 7   Amount($)      1206 non-null   object \n",
      " 8   Stage          781 non-null    object \n",
      " 9   Year           1209 non-null   object \n",
      "dtypes: float64(1), object(9)\n",
      "memory usage: 94.6+ KB\n"
     ]
    }
   ],
   "source": [
    "data21.info()"
   ]
  },
  {
   "cell_type": "code",
   "execution_count": 63,
   "metadata": {},
   "outputs": [
    {
     "data": {
      "text/html": [
       "<div>\n",
       "<style scoped>\n",
       "    .dataframe tbody tr th:only-of-type {\n",
       "        vertical-align: middle;\n",
       "    }\n",
       "\n",
       "    .dataframe tbody tr th {\n",
       "        vertical-align: top;\n",
       "    }\n",
       "\n",
       "    .dataframe thead th {\n",
       "        text-align: right;\n",
       "    }\n",
       "</style>\n",
       "<table border=\"1\" class=\"dataframe\">\n",
       "  <thead>\n",
       "    <tr style=\"text-align: right;\">\n",
       "      <th></th>\n",
       "      <th>Company_Brand</th>\n",
       "      <th>Founded</th>\n",
       "      <th>HeadQuarter</th>\n",
       "      <th>Sector</th>\n",
       "      <th>What_it_does</th>\n",
       "      <th>Founders</th>\n",
       "      <th>Investor</th>\n",
       "      <th>Amount($)</th>\n",
       "      <th>Stage</th>\n",
       "      <th>Year</th>\n",
       "    </tr>\n",
       "  </thead>\n",
       "  <tbody>\n",
       "    <tr>\n",
       "      <th>0</th>\n",
       "      <td>Unbox Robotics</td>\n",
       "      <td>2019.0</td>\n",
       "      <td>Bangalore</td>\n",
       "      <td>AI startup</td>\n",
       "      <td>Unbox Robotics builds on-demand AI-driven ware...</td>\n",
       "      <td>Pramod Ghadge, Shahid Memon</td>\n",
       "      <td>BEENEXT, Entrepreneur First</td>\n",
       "      <td>$1,200,000</td>\n",
       "      <td>Pre-series A</td>\n",
       "      <td>2021</td>\n",
       "    </tr>\n",
       "    <tr>\n",
       "      <th>1</th>\n",
       "      <td>upGrad</td>\n",
       "      <td>2015.0</td>\n",
       "      <td>Mumbai</td>\n",
       "      <td>EdTech</td>\n",
       "      <td>UpGrad is an online higher education platform.</td>\n",
       "      <td>Mayank Kumar, Phalgun Kompalli, Ravijot Chugh,...</td>\n",
       "      <td>Unilazer Ventures, IIFL Asset Management</td>\n",
       "      <td>$120,000,000</td>\n",
       "      <td>None</td>\n",
       "      <td>2021</td>\n",
       "    </tr>\n",
       "    <tr>\n",
       "      <th>2</th>\n",
       "      <td>Lead School</td>\n",
       "      <td>2012.0</td>\n",
       "      <td>Mumbai</td>\n",
       "      <td>EdTech</td>\n",
       "      <td>LEAD School offers technology based school tra...</td>\n",
       "      <td>Smita Deorah, Sumeet Mehta</td>\n",
       "      <td>GSV Ventures, Westbridge Capital</td>\n",
       "      <td>$30,000,000</td>\n",
       "      <td>Series D</td>\n",
       "      <td>2021</td>\n",
       "    </tr>\n",
       "    <tr>\n",
       "      <th>3</th>\n",
       "      <td>Bizongo</td>\n",
       "      <td>2015.0</td>\n",
       "      <td>Mumbai</td>\n",
       "      <td>B2B E-commerce</td>\n",
       "      <td>Bizongo is a business-to-business online marke...</td>\n",
       "      <td>Aniket Deb, Ankit Tomar, Sachin Agrawal</td>\n",
       "      <td>CDC Group, IDG Capital</td>\n",
       "      <td>$51,000,000</td>\n",
       "      <td>Series C</td>\n",
       "      <td>2021</td>\n",
       "    </tr>\n",
       "    <tr>\n",
       "      <th>4</th>\n",
       "      <td>FypMoney</td>\n",
       "      <td>2021.0</td>\n",
       "      <td>Gurugram</td>\n",
       "      <td>FinTech</td>\n",
       "      <td>FypMoney is Digital NEO Bank for Teenagers, em...</td>\n",
       "      <td>Kapil Banwari</td>\n",
       "      <td>Liberatha Kallat, Mukesh Yadav, Dinesh Nagpal</td>\n",
       "      <td>$2,000,000</td>\n",
       "      <td>Seed</td>\n",
       "      <td>2021</td>\n",
       "    </tr>\n",
       "    <tr>\n",
       "      <th>5</th>\n",
       "      <td>Urban Company</td>\n",
       "      <td>2014.0</td>\n",
       "      <td>New Delhi</td>\n",
       "      <td>Home services</td>\n",
       "      <td>Urban Company (Formerly UrbanClap) is a home a...</td>\n",
       "      <td>Abhiraj Singh Bhal, Raghav Chandra, Varun Khaitan</td>\n",
       "      <td>Vy Capital</td>\n",
       "      <td>$188,000,000</td>\n",
       "      <td>None</td>\n",
       "      <td>2021</td>\n",
       "    </tr>\n",
       "    <tr>\n",
       "      <th>6</th>\n",
       "      <td>Comofi Medtech</td>\n",
       "      <td>2018.0</td>\n",
       "      <td>Bangalore</td>\n",
       "      <td>HealthTech</td>\n",
       "      <td>Comofi Medtech is a healthcare robotics startup.</td>\n",
       "      <td>Gururaj KB</td>\n",
       "      <td>CIIE.CO, KIIT-TBI</td>\n",
       "      <td>$200,000</td>\n",
       "      <td>None</td>\n",
       "      <td>2021</td>\n",
       "    </tr>\n",
       "    <tr>\n",
       "      <th>7</th>\n",
       "      <td>Qube Health</td>\n",
       "      <td>2016.0</td>\n",
       "      <td>Mumbai</td>\n",
       "      <td>HealthTech</td>\n",
       "      <td>India's Most Respected Workplace Healthcare Ma...</td>\n",
       "      <td>Gagan Kapur</td>\n",
       "      <td>Inflection Point Ventures</td>\n",
       "      <td>Undisclosed</td>\n",
       "      <td>Pre-series A</td>\n",
       "      <td>2021</td>\n",
       "    </tr>\n",
       "    <tr>\n",
       "      <th>8</th>\n",
       "      <td>Vitra.ai</td>\n",
       "      <td>2020.0</td>\n",
       "      <td>Bangalore</td>\n",
       "      <td>Tech Startup</td>\n",
       "      <td>Vitra.ai is an AI-based video translation plat...</td>\n",
       "      <td>Akash Nidhi PS</td>\n",
       "      <td>Inflexor Ventures</td>\n",
       "      <td>Undisclosed</td>\n",
       "      <td>None</td>\n",
       "      <td>2021</td>\n",
       "    </tr>\n",
       "    <tr>\n",
       "      <th>9</th>\n",
       "      <td>Taikee</td>\n",
       "      <td>2010.0</td>\n",
       "      <td>Mumbai</td>\n",
       "      <td>E-commerce</td>\n",
       "      <td>Taikee is the ISO-certified, B2B e-commerce pl...</td>\n",
       "      <td>Nidhi Ramachandran, Sachin Chhabra</td>\n",
       "      <td>None</td>\n",
       "      <td>$1,000,000</td>\n",
       "      <td>None</td>\n",
       "      <td>2021</td>\n",
       "    </tr>\n",
       "  </tbody>\n",
       "</table>\n",
       "</div>"
      ],
      "text/plain": [
       "    Company_Brand  Founded HeadQuarter          Sector  \\\n",
       "0  Unbox Robotics   2019.0   Bangalore      AI startup   \n",
       "1          upGrad   2015.0      Mumbai          EdTech   \n",
       "2     Lead School   2012.0      Mumbai          EdTech   \n",
       "3         Bizongo   2015.0      Mumbai  B2B E-commerce   \n",
       "4        FypMoney   2021.0    Gurugram         FinTech   \n",
       "5   Urban Company   2014.0   New Delhi   Home services   \n",
       "6  Comofi Medtech   2018.0   Bangalore      HealthTech   \n",
       "7     Qube Health   2016.0      Mumbai      HealthTech   \n",
       "8        Vitra.ai   2020.0   Bangalore    Tech Startup   \n",
       "9          Taikee   2010.0      Mumbai      E-commerce   \n",
       "\n",
       "                                        What_it_does  \\\n",
       "0  Unbox Robotics builds on-demand AI-driven ware...   \n",
       "1     UpGrad is an online higher education platform.   \n",
       "2  LEAD School offers technology based school tra...   \n",
       "3  Bizongo is a business-to-business online marke...   \n",
       "4  FypMoney is Digital NEO Bank for Teenagers, em...   \n",
       "5  Urban Company (Formerly UrbanClap) is a home a...   \n",
       "6   Comofi Medtech is a healthcare robotics startup.   \n",
       "7  India's Most Respected Workplace Healthcare Ma...   \n",
       "8  Vitra.ai is an AI-based video translation plat...   \n",
       "9  Taikee is the ISO-certified, B2B e-commerce pl...   \n",
       "\n",
       "                                            Founders  \\\n",
       "0                        Pramod Ghadge, Shahid Memon   \n",
       "1  Mayank Kumar, Phalgun Kompalli, Ravijot Chugh,...   \n",
       "2                         Smita Deorah, Sumeet Mehta   \n",
       "3            Aniket Deb, Ankit Tomar, Sachin Agrawal   \n",
       "4                                      Kapil Banwari   \n",
       "5  Abhiraj Singh Bhal, Raghav Chandra, Varun Khaitan   \n",
       "6                                         Gururaj KB   \n",
       "7                                        Gagan Kapur   \n",
       "8                                     Akash Nidhi PS   \n",
       "9                 Nidhi Ramachandran, Sachin Chhabra   \n",
       "\n",
       "                                        Investor     Amount($)         Stage  \\\n",
       "0                    BEENEXT, Entrepreneur First    $1,200,000  Pre-series A   \n",
       "1       Unilazer Ventures, IIFL Asset Management  $120,000,000          None   \n",
       "2               GSV Ventures, Westbridge Capital   $30,000,000      Series D   \n",
       "3                         CDC Group, IDG Capital   $51,000,000      Series C   \n",
       "4  Liberatha Kallat, Mukesh Yadav, Dinesh Nagpal    $2,000,000          Seed   \n",
       "5                                     Vy Capital  $188,000,000          None   \n",
       "6                              CIIE.CO, KIIT-TBI      $200,000          None   \n",
       "7                      Inflection Point Ventures   Undisclosed  Pre-series A   \n",
       "8                              Inflexor Ventures   Undisclosed          None   \n",
       "9                                           None    $1,000,000          None   \n",
       "\n",
       "   Year  \n",
       "0  2021  \n",
       "1  2021  \n",
       "2  2021  \n",
       "3  2021  \n",
       "4  2021  \n",
       "5  2021  \n",
       "6  2021  \n",
       "7  2021  \n",
       "8  2021  \n",
       "9  2021  "
      ]
     },
     "execution_count": 63,
     "metadata": {},
     "output_type": "execute_result"
    }
   ],
   "source": [
    "data21.head(10)"
   ]
  },
  {
   "cell_type": "code",
   "execution_count": 64,
   "metadata": {},
   "outputs": [
    {
     "data": {
      "text/plain": [
       "Company_Brand      0\n",
       "Founded            1\n",
       "HeadQuarter        1\n",
       "Sector             0\n",
       "What_it_does       0\n",
       "Founders           4\n",
       "Investor          62\n",
       "Amount($)          3\n",
       "Stage            428\n",
       "Year               0\n",
       "dtype: int64"
      ]
     },
     "execution_count": 64,
     "metadata": {},
     "output_type": "execute_result"
    }
   ],
   "source": [
    "# Discover missing values\n",
    "data21.isna().sum()"
   ]
  },
  {
   "cell_type": "markdown",
   "metadata": {},
   "source": [
    "Check and drop duplicate columns"
   ]
  },
  {
   "cell_type": "code",
   "execution_count": 65,
   "metadata": {},
   "outputs": [
    {
     "data": {
      "text/html": [
       "<div>\n",
       "<style scoped>\n",
       "    .dataframe tbody tr th:only-of-type {\n",
       "        vertical-align: middle;\n",
       "    }\n",
       "\n",
       "    .dataframe tbody tr th {\n",
       "        vertical-align: top;\n",
       "    }\n",
       "\n",
       "    .dataframe thead th {\n",
       "        text-align: right;\n",
       "    }\n",
       "</style>\n",
       "<table border=\"1\" class=\"dataframe\">\n",
       "  <thead>\n",
       "    <tr style=\"text-align: right;\">\n",
       "      <th></th>\n",
       "      <th>Company_Brand</th>\n",
       "      <th>Founded</th>\n",
       "      <th>HeadQuarter</th>\n",
       "      <th>Sector</th>\n",
       "      <th>What_it_does</th>\n",
       "      <th>Founders</th>\n",
       "      <th>Investor</th>\n",
       "      <th>Amount($)</th>\n",
       "      <th>Stage</th>\n",
       "      <th>Year</th>\n",
       "    </tr>\n",
       "  </thead>\n",
       "  <tbody>\n",
       "    <tr>\n",
       "      <th>94</th>\n",
       "      <td>Curefoods</td>\n",
       "      <td>2020.0</td>\n",
       "      <td>Bangalore</td>\n",
       "      <td>Food &amp; Beverages</td>\n",
       "      <td>Healthy &amp; nutritious foods and cold pressed ju...</td>\n",
       "      <td>Ankit Nagori</td>\n",
       "      <td>Iron Pillar, Nordstar, Binny Bansal</td>\n",
       "      <td>$13000000</td>\n",
       "      <td>None</td>\n",
       "      <td>2021</td>\n",
       "    </tr>\n",
       "    <tr>\n",
       "      <th>96</th>\n",
       "      <td>Bewakoof</td>\n",
       "      <td>2012.0</td>\n",
       "      <td>Mumbai</td>\n",
       "      <td>Apparel &amp; Fashion</td>\n",
       "      <td>Bewakoof is a lifestyle fashion brand that mak...</td>\n",
       "      <td>Prabhkiran Singh</td>\n",
       "      <td>InvestCorp</td>\n",
       "      <td>$8000000</td>\n",
       "      <td>None</td>\n",
       "      <td>2021</td>\n",
       "    </tr>\n",
       "    <tr>\n",
       "      <th>98</th>\n",
       "      <td>FanPlay</td>\n",
       "      <td>2020.0</td>\n",
       "      <td>Computer Games</td>\n",
       "      <td>Computer Games</td>\n",
       "      <td>A real money game app specializing in trivia g...</td>\n",
       "      <td>YC W21</td>\n",
       "      <td>Pritesh Kumar, Bharat Gupta</td>\n",
       "      <td>Upsparks</td>\n",
       "      <td>$1200000</td>\n",
       "      <td>2021</td>\n",
       "    </tr>\n",
       "    <tr>\n",
       "      <th>104</th>\n",
       "      <td>Advantage Club</td>\n",
       "      <td>2014.0</td>\n",
       "      <td>Mumbai</td>\n",
       "      <td>HRTech</td>\n",
       "      <td>Advantage Club is India's largest employee eng...</td>\n",
       "      <td>Sourabh Deorah, Smiti Bhatt Deorah</td>\n",
       "      <td>Y Combinator, Broom Ventures, Kunal Shah</td>\n",
       "      <td>$1700000</td>\n",
       "      <td>None</td>\n",
       "      <td>2021</td>\n",
       "    </tr>\n",
       "    <tr>\n",
       "      <th>106</th>\n",
       "      <td>Ruptok</td>\n",
       "      <td>2020.0</td>\n",
       "      <td>New Delhi</td>\n",
       "      <td>FinTech</td>\n",
       "      <td>Ruptok fintech Pvt. Ltd. is an online gold loa...</td>\n",
       "      <td>Ankur Gupta</td>\n",
       "      <td>Eclear Leasing</td>\n",
       "      <td>$1000000</td>\n",
       "      <td>None</td>\n",
       "      <td>2021</td>\n",
       "    </tr>\n",
       "    <tr>\n",
       "      <th>107</th>\n",
       "      <td>Curefoods</td>\n",
       "      <td>2020.0</td>\n",
       "      <td>Bangalore</td>\n",
       "      <td>Food &amp; Beverages</td>\n",
       "      <td>Healthy &amp; nutritious foods and cold pressed ju...</td>\n",
       "      <td>Ankit Nagori</td>\n",
       "      <td>Iron Pillar, Nordstar, Binny Bansal</td>\n",
       "      <td>$13000000</td>\n",
       "      <td>None</td>\n",
       "      <td>2021</td>\n",
       "    </tr>\n",
       "    <tr>\n",
       "      <th>109</th>\n",
       "      <td>Bewakoof</td>\n",
       "      <td>2012.0</td>\n",
       "      <td>Mumbai</td>\n",
       "      <td>Apparel &amp; Fashion</td>\n",
       "      <td>Bewakoof is a lifestyle fashion brand that mak...</td>\n",
       "      <td>Prabhkiran Singh</td>\n",
       "      <td>InvestCorp</td>\n",
       "      <td>$8000000</td>\n",
       "      <td>None</td>\n",
       "      <td>2021</td>\n",
       "    </tr>\n",
       "    <tr>\n",
       "      <th>111</th>\n",
       "      <td>FanPlay</td>\n",
       "      <td>2020.0</td>\n",
       "      <td>Computer Games</td>\n",
       "      <td>Computer Games</td>\n",
       "      <td>A real money game app specializing in trivia g...</td>\n",
       "      <td>YC W21</td>\n",
       "      <td>Pritesh Kumar, Bharat Gupta</td>\n",
       "      <td>Upsparks</td>\n",
       "      <td>$1200000</td>\n",
       "      <td>2021</td>\n",
       "    </tr>\n",
       "    <tr>\n",
       "      <th>117</th>\n",
       "      <td>Advantage Club</td>\n",
       "      <td>2014.0</td>\n",
       "      <td>Mumbai</td>\n",
       "      <td>HRTech</td>\n",
       "      <td>Advantage Club is India's largest employee eng...</td>\n",
       "      <td>Sourabh Deorah, Smiti Bhatt Deorah</td>\n",
       "      <td>Y Combinator, Broom Ventures, Kunal Shah</td>\n",
       "      <td>$1700000</td>\n",
       "      <td>None</td>\n",
       "      <td>2021</td>\n",
       "    </tr>\n",
       "    <tr>\n",
       "      <th>119</th>\n",
       "      <td>Ruptok</td>\n",
       "      <td>2020.0</td>\n",
       "      <td>New Delhi</td>\n",
       "      <td>FinTech</td>\n",
       "      <td>Ruptok fintech Pvt. Ltd. is an online gold loa...</td>\n",
       "      <td>Ankur Gupta</td>\n",
       "      <td>Eclear Leasing</td>\n",
       "      <td>$1000000</td>\n",
       "      <td>None</td>\n",
       "      <td>2021</td>\n",
       "    </tr>\n",
       "    <tr>\n",
       "      <th>229</th>\n",
       "      <td>Trinkerr</td>\n",
       "      <td>2021.0</td>\n",
       "      <td>Bangalore</td>\n",
       "      <td>Capital Markets</td>\n",
       "      <td>Trinkerr is India's first social trading platf...</td>\n",
       "      <td>Manvendra Singh, Gaurav Agarwal</td>\n",
       "      <td>Accel India</td>\n",
       "      <td>$6600000</td>\n",
       "      <td>Series A</td>\n",
       "      <td>2021</td>\n",
       "    </tr>\n",
       "    <tr>\n",
       "      <th>230</th>\n",
       "      <td>Zorro</td>\n",
       "      <td>2021.0</td>\n",
       "      <td>Gurugram</td>\n",
       "      <td>Social network</td>\n",
       "      <td>Pseudonymous social network platform</td>\n",
       "      <td>Jasveer Singh, Abhishek Asthana, Deepak Kumar</td>\n",
       "      <td>Vijay Shekhar Sharma, Ritesh Agarwal, Ankiti Bose</td>\n",
       "      <td>$32000000</td>\n",
       "      <td>Seed</td>\n",
       "      <td>2021</td>\n",
       "    </tr>\n",
       "    <tr>\n",
       "      <th>231</th>\n",
       "      <td>Ultraviolette</td>\n",
       "      <td>2021.0</td>\n",
       "      <td>Bangalore</td>\n",
       "      <td>Automotive</td>\n",
       "      <td>Create and Inspire the future of sustainable u...</td>\n",
       "      <td>Subramaniam Narayan, Niraj Rajmohan</td>\n",
       "      <td>TVS Motor, Zoho</td>\n",
       "      <td>$150000000</td>\n",
       "      <td>Series C</td>\n",
       "      <td>2021</td>\n",
       "    </tr>\n",
       "    <tr>\n",
       "      <th>232</th>\n",
       "      <td>NephroPlus</td>\n",
       "      <td>2009.0</td>\n",
       "      <td>Hyderabad</td>\n",
       "      <td>Hospital &amp; Health Care</td>\n",
       "      <td>A vision and passion of redefining healthcare ...</td>\n",
       "      <td>Vikram Vuppala</td>\n",
       "      <td>IIFL Asset Management</td>\n",
       "      <td>$24000000</td>\n",
       "      <td>Series E</td>\n",
       "      <td>2021</td>\n",
       "    </tr>\n",
       "    <tr>\n",
       "      <th>233</th>\n",
       "      <td>Unremot</td>\n",
       "      <td>2020.0</td>\n",
       "      <td>Bangalore</td>\n",
       "      <td>Information Technology &amp; Services</td>\n",
       "      <td>Unremot is a personal office for consultants!</td>\n",
       "      <td>Shiju Radhakrishnan</td>\n",
       "      <td>Inflection Point Ventures</td>\n",
       "      <td>$700000</td>\n",
       "      <td>Seed</td>\n",
       "      <td>2021</td>\n",
       "    </tr>\n",
       "    <tr>\n",
       "      <th>234</th>\n",
       "      <td>FanAnywhere</td>\n",
       "      <td>2021.0</td>\n",
       "      <td>Bangalore</td>\n",
       "      <td>Financial Services</td>\n",
       "      <td>Celebrity NFT platform</td>\n",
       "      <td>Varun Chaudhary, Amit Kumar</td>\n",
       "      <td>Oasis Capital, Scorpio VC, DeltaHub Capital</td>\n",
       "      <td>$Undisclosed</td>\n",
       "      <td>Seed</td>\n",
       "      <td>2021</td>\n",
       "    </tr>\n",
       "    <tr>\n",
       "      <th>235</th>\n",
       "      <td>PingoLearn</td>\n",
       "      <td>2021.0</td>\n",
       "      <td>Pune</td>\n",
       "      <td>E-learning</td>\n",
       "      <td>PingoLearn offers language learning courses wi...</td>\n",
       "      <td>Mohit Menghani, Shubham Maheshwari</td>\n",
       "      <td>Titan Capital, Haresh Chawla, AngelList Syndicate</td>\n",
       "      <td>$200000</td>\n",
       "      <td>None</td>\n",
       "      <td>2021</td>\n",
       "    </tr>\n",
       "    <tr>\n",
       "      <th>236</th>\n",
       "      <td>Spry</td>\n",
       "      <td>2021.0</td>\n",
       "      <td>Mumbai</td>\n",
       "      <td>Music</td>\n",
       "      <td>THE BEST ROYALTY-FREE MUSIC TO CREATE TRENDING...</td>\n",
       "      <td>Gaurav Dagaonkar, Meghna Mittal</td>\n",
       "      <td>9Unicorns, Ashneer Grover</td>\n",
       "      <td>$1500000</td>\n",
       "      <td>Seed</td>\n",
       "      <td>2021</td>\n",
       "    </tr>\n",
       "    <tr>\n",
       "      <th>237</th>\n",
       "      <td>Enmovil</td>\n",
       "      <td>2015.0</td>\n",
       "      <td>Hyderabad</td>\n",
       "      <td>Information Technology &amp; Services</td>\n",
       "      <td>Enmovil delivers a Business Intelligence Platf...</td>\n",
       "      <td>Ravi Bulusu, Nanda Kishore, Venkat Moganty</td>\n",
       "      <td>Anicut Angel Fund</td>\n",
       "      <td>$1300000</td>\n",
       "      <td>Pre-series A</td>\n",
       "      <td>2021</td>\n",
       "    </tr>\n",
       "    <tr>\n",
       "      <th>238</th>\n",
       "      <td>ASQI Advisors</td>\n",
       "      <td>2019.0</td>\n",
       "      <td>Mumbai</td>\n",
       "      <td>Financial Services</td>\n",
       "      <td>Bringing Blockchain technology intro mainstrea...</td>\n",
       "      <td>Swapnil Pawar</td>\n",
       "      <td>Founders Room Capital</td>\n",
       "      <td>$1000000</td>\n",
       "      <td>Pre-series A</td>\n",
       "      <td>2021</td>\n",
       "    </tr>\n",
       "    <tr>\n",
       "      <th>239</th>\n",
       "      <td>Insurance Samadhan</td>\n",
       "      <td>2018.0</td>\n",
       "      <td>New Delhi</td>\n",
       "      <td>Insurance</td>\n",
       "      <td>The insurance industry will help in representa...</td>\n",
       "      <td>Deepak Bhuvenshwari Uniyal</td>\n",
       "      <td>9Unicorns, ZNL</td>\n",
       "      <td>$725000</td>\n",
       "      <td>Pre-series A</td>\n",
       "      <td>2021</td>\n",
       "    </tr>\n",
       "    <tr>\n",
       "      <th>240</th>\n",
       "      <td>Evenflow Brands</td>\n",
       "      <td>2020.0</td>\n",
       "      <td>Mumbai</td>\n",
       "      <td>Consumer Goods</td>\n",
       "      <td>Identify and partner with the upcoming eCommer...</td>\n",
       "      <td>Utsav Agarwal, Pulkit Chhabra</td>\n",
       "      <td>None</td>\n",
       "      <td>$500000</td>\n",
       "      <td>None</td>\n",
       "      <td>2021</td>\n",
       "    </tr>\n",
       "    <tr>\n",
       "      <th>241</th>\n",
       "      <td>MasterChow</td>\n",
       "      <td>2020.0</td>\n",
       "      <td>Food &amp; Beverages</td>\n",
       "      <td>Hauz Khas</td>\n",
       "      <td>A ready-to-cook Asian cuisine brand</td>\n",
       "      <td>Vidur Kataria, Sidhanth Madan</td>\n",
       "      <td>WEH Ventures</td>\n",
       "      <td>$461000</td>\n",
       "      <td>Seed</td>\n",
       "      <td>2021</td>\n",
       "    </tr>\n",
       "    <tr>\n",
       "      <th>242</th>\n",
       "      <td>Fullife Healthcare</td>\n",
       "      <td>2009.0</td>\n",
       "      <td>Pharmaceuticals\\t#REF!</td>\n",
       "      <td>Primary Business is Development and Manufactur...</td>\n",
       "      <td>Varun Khanna</td>\n",
       "      <td>Morgan Stanley Private Equity Asia</td>\n",
       "      <td>$22000000</td>\n",
       "      <td>Series C</td>\n",
       "      <td>None</td>\n",
       "      <td>2021</td>\n",
       "    </tr>\n",
       "    <tr>\n",
       "      <th>243</th>\n",
       "      <td>Trinkerr</td>\n",
       "      <td>2021.0</td>\n",
       "      <td>Bangalore</td>\n",
       "      <td>Capital Markets</td>\n",
       "      <td>Trinkerr is India's first social trading platf...</td>\n",
       "      <td>Manvendra Singh, Gaurav Agarwal</td>\n",
       "      <td>Accel India</td>\n",
       "      <td>$6600000</td>\n",
       "      <td>Series A</td>\n",
       "      <td>2021</td>\n",
       "    </tr>\n",
       "    <tr>\n",
       "      <th>244</th>\n",
       "      <td>Zorro</td>\n",
       "      <td>2021.0</td>\n",
       "      <td>Gurugram</td>\n",
       "      <td>Social network</td>\n",
       "      <td>Pseudonymous social network platform</td>\n",
       "      <td>Jasveer Singh, Abhishek Asthana, Deepak Kumar</td>\n",
       "      <td>Vijay Shekhar Sharma, Ritesh Agarwal, Ankiti Bose</td>\n",
       "      <td>$32000000</td>\n",
       "      <td>Seed</td>\n",
       "      <td>2021</td>\n",
       "    </tr>\n",
       "    <tr>\n",
       "      <th>245</th>\n",
       "      <td>Ultraviolette</td>\n",
       "      <td>2021.0</td>\n",
       "      <td>Bangalore</td>\n",
       "      <td>Automotive</td>\n",
       "      <td>Create and Inspire the future of sustainable u...</td>\n",
       "      <td>Subramaniam Narayan, Niraj Rajmohan</td>\n",
       "      <td>TVS Motor, Zoho</td>\n",
       "      <td>$150000000</td>\n",
       "      <td>Series C</td>\n",
       "      <td>2021</td>\n",
       "    </tr>\n",
       "    <tr>\n",
       "      <th>246</th>\n",
       "      <td>NephroPlus</td>\n",
       "      <td>2009.0</td>\n",
       "      <td>Hyderabad</td>\n",
       "      <td>Hospital &amp; Health Care</td>\n",
       "      <td>A vision and passion of redefining healthcare ...</td>\n",
       "      <td>Vikram Vuppala</td>\n",
       "      <td>IIFL Asset Management</td>\n",
       "      <td>$24000000</td>\n",
       "      <td>Series E</td>\n",
       "      <td>2021</td>\n",
       "    </tr>\n",
       "    <tr>\n",
       "      <th>247</th>\n",
       "      <td>Unremot</td>\n",
       "      <td>2020.0</td>\n",
       "      <td>Bangalore</td>\n",
       "      <td>Information Technology &amp; Services</td>\n",
       "      <td>Unremot is a personal office for consultants!</td>\n",
       "      <td>Shiju Radhakrishnan</td>\n",
       "      <td>Inflection Point Ventures</td>\n",
       "      <td>$700000</td>\n",
       "      <td>Seed</td>\n",
       "      <td>2021</td>\n",
       "    </tr>\n",
       "    <tr>\n",
       "      <th>248</th>\n",
       "      <td>FanAnywhere</td>\n",
       "      <td>2021.0</td>\n",
       "      <td>Bangalore</td>\n",
       "      <td>Financial Services</td>\n",
       "      <td>Celebrity NFT platform</td>\n",
       "      <td>Varun Chaudhary, Amit Kumar</td>\n",
       "      <td>Oasis Capital, Scorpio VC, DeltaHub Capital</td>\n",
       "      <td>$Undisclosed</td>\n",
       "      <td>Seed</td>\n",
       "      <td>2021</td>\n",
       "    </tr>\n",
       "    <tr>\n",
       "      <th>249</th>\n",
       "      <td>PingoLearn</td>\n",
       "      <td>2021.0</td>\n",
       "      <td>Pune</td>\n",
       "      <td>E-learning</td>\n",
       "      <td>PingoLearn offers language learning courses wi...</td>\n",
       "      <td>Mohit Menghani, Shubham Maheshwari</td>\n",
       "      <td>Titan Capital, Haresh Chawla, AngelList Syndicate</td>\n",
       "      <td>$200000</td>\n",
       "      <td>None</td>\n",
       "      <td>2021</td>\n",
       "    </tr>\n",
       "    <tr>\n",
       "      <th>250</th>\n",
       "      <td>Spry</td>\n",
       "      <td>2021.0</td>\n",
       "      <td>Mumbai</td>\n",
       "      <td>Music</td>\n",
       "      <td>THE BEST ROYALTY-FREE MUSIC TO CREATE TRENDING...</td>\n",
       "      <td>Gaurav Dagaonkar, Meghna Mittal</td>\n",
       "      <td>9Unicorns, Ashneer Grover</td>\n",
       "      <td>$1500000</td>\n",
       "      <td>Seed</td>\n",
       "      <td>2021</td>\n",
       "    </tr>\n",
       "    <tr>\n",
       "      <th>251</th>\n",
       "      <td>Enmovil</td>\n",
       "      <td>2015.0</td>\n",
       "      <td>Hyderabad</td>\n",
       "      <td>Information Technology &amp; Services</td>\n",
       "      <td>Enmovil delivers a Business Intelligence Platf...</td>\n",
       "      <td>Ravi Bulusu, Nanda Kishore, Venkat Moganty</td>\n",
       "      <td>Anicut Angel Fund</td>\n",
       "      <td>$1300000</td>\n",
       "      <td>Pre-series A</td>\n",
       "      <td>2021</td>\n",
       "    </tr>\n",
       "    <tr>\n",
       "      <th>252</th>\n",
       "      <td>ASQI Advisors</td>\n",
       "      <td>2019.0</td>\n",
       "      <td>Mumbai</td>\n",
       "      <td>Financial Services</td>\n",
       "      <td>Bringing Blockchain technology intro mainstrea...</td>\n",
       "      <td>Swapnil Pawar</td>\n",
       "      <td>Founders Room Capital</td>\n",
       "      <td>$1000000</td>\n",
       "      <td>Pre-series A</td>\n",
       "      <td>2021</td>\n",
       "    </tr>\n",
       "    <tr>\n",
       "      <th>253</th>\n",
       "      <td>Insurance Samadhan</td>\n",
       "      <td>2018.0</td>\n",
       "      <td>New Delhi</td>\n",
       "      <td>Insurance</td>\n",
       "      <td>The insurance industry will help in representa...</td>\n",
       "      <td>Deepak Bhuvenshwari Uniyal</td>\n",
       "      <td>9Unicorns, ZNL</td>\n",
       "      <td>$725000</td>\n",
       "      <td>Pre-series A</td>\n",
       "      <td>2021</td>\n",
       "    </tr>\n",
       "    <tr>\n",
       "      <th>254</th>\n",
       "      <td>Evenflow Brands</td>\n",
       "      <td>2020.0</td>\n",
       "      <td>Mumbai</td>\n",
       "      <td>Consumer Goods</td>\n",
       "      <td>Identify and partner with the upcoming eCommer...</td>\n",
       "      <td>Utsav Agarwal, Pulkit Chhabra</td>\n",
       "      <td>None</td>\n",
       "      <td>$500000</td>\n",
       "      <td>None</td>\n",
       "      <td>2021</td>\n",
       "    </tr>\n",
       "    <tr>\n",
       "      <th>255</th>\n",
       "      <td>MasterChow</td>\n",
       "      <td>2020.0</td>\n",
       "      <td>Food &amp; Beverages</td>\n",
       "      <td>Hauz Khas</td>\n",
       "      <td>A ready-to-cook Asian cuisine brand</td>\n",
       "      <td>Vidur Kataria, Sidhanth Madan</td>\n",
       "      <td>WEH Ventures</td>\n",
       "      <td>$461000</td>\n",
       "      <td>Seed</td>\n",
       "      <td>2021</td>\n",
       "    </tr>\n",
       "    <tr>\n",
       "      <th>256</th>\n",
       "      <td>Fullife Healthcare</td>\n",
       "      <td>2009.0</td>\n",
       "      <td>Pharmaceuticals\\t#REF!</td>\n",
       "      <td>Primary Business is Development and Manufactur...</td>\n",
       "      <td>Varun Khanna</td>\n",
       "      <td>Morgan Stanley Private Equity Asia</td>\n",
       "      <td>$22000000</td>\n",
       "      <td>Series C</td>\n",
       "      <td>None</td>\n",
       "      <td>2021</td>\n",
       "    </tr>\n",
       "  </tbody>\n",
       "</table>\n",
       "</div>"
      ],
      "text/plain": [
       "          Company_Brand  Founded             HeadQuarter  \\\n",
       "94            Curefoods   2020.0               Bangalore   \n",
       "96             Bewakoof   2012.0                  Mumbai   \n",
       "98              FanPlay   2020.0          Computer Games   \n",
       "104      Advantage Club   2014.0                  Mumbai   \n",
       "106              Ruptok   2020.0               New Delhi   \n",
       "107           Curefoods   2020.0               Bangalore   \n",
       "109            Bewakoof   2012.0                  Mumbai   \n",
       "111             FanPlay   2020.0          Computer Games   \n",
       "117      Advantage Club   2014.0                  Mumbai   \n",
       "119              Ruptok   2020.0               New Delhi   \n",
       "229            Trinkerr   2021.0               Bangalore   \n",
       "230               Zorro   2021.0                Gurugram   \n",
       "231       Ultraviolette   2021.0               Bangalore   \n",
       "232          NephroPlus   2009.0               Hyderabad   \n",
       "233             Unremot   2020.0               Bangalore   \n",
       "234         FanAnywhere   2021.0               Bangalore   \n",
       "235          PingoLearn   2021.0                    Pune   \n",
       "236                Spry   2021.0                  Mumbai   \n",
       "237             Enmovil   2015.0               Hyderabad   \n",
       "238       ASQI Advisors   2019.0                  Mumbai   \n",
       "239  Insurance Samadhan   2018.0               New Delhi   \n",
       "240     Evenflow Brands   2020.0                  Mumbai   \n",
       "241          MasterChow   2020.0        Food & Beverages   \n",
       "242  Fullife Healthcare   2009.0  Pharmaceuticals\\t#REF!   \n",
       "243            Trinkerr   2021.0               Bangalore   \n",
       "244               Zorro   2021.0                Gurugram   \n",
       "245       Ultraviolette   2021.0               Bangalore   \n",
       "246          NephroPlus   2009.0               Hyderabad   \n",
       "247             Unremot   2020.0               Bangalore   \n",
       "248         FanAnywhere   2021.0               Bangalore   \n",
       "249          PingoLearn   2021.0                    Pune   \n",
       "250                Spry   2021.0                  Mumbai   \n",
       "251             Enmovil   2015.0               Hyderabad   \n",
       "252       ASQI Advisors   2019.0                  Mumbai   \n",
       "253  Insurance Samadhan   2018.0               New Delhi   \n",
       "254     Evenflow Brands   2020.0                  Mumbai   \n",
       "255          MasterChow   2020.0        Food & Beverages   \n",
       "256  Fullife Healthcare   2009.0  Pharmaceuticals\\t#REF!   \n",
       "\n",
       "                                                Sector  \\\n",
       "94                                    Food & Beverages   \n",
       "96                                   Apparel & Fashion   \n",
       "98                                      Computer Games   \n",
       "104                                             HRTech   \n",
       "106                                            FinTech   \n",
       "107                                   Food & Beverages   \n",
       "109                                  Apparel & Fashion   \n",
       "111                                     Computer Games   \n",
       "117                                             HRTech   \n",
       "119                                            FinTech   \n",
       "229                                    Capital Markets   \n",
       "230                                     Social network   \n",
       "231                                         Automotive   \n",
       "232                             Hospital & Health Care   \n",
       "233                  Information Technology & Services   \n",
       "234                                 Financial Services   \n",
       "235                                         E-learning   \n",
       "236                                              Music   \n",
       "237                  Information Technology & Services   \n",
       "238                                 Financial Services   \n",
       "239                                          Insurance   \n",
       "240                                     Consumer Goods   \n",
       "241                                          Hauz Khas   \n",
       "242  Primary Business is Development and Manufactur...   \n",
       "243                                    Capital Markets   \n",
       "244                                     Social network   \n",
       "245                                         Automotive   \n",
       "246                             Hospital & Health Care   \n",
       "247                  Information Technology & Services   \n",
       "248                                 Financial Services   \n",
       "249                                         E-learning   \n",
       "250                                              Music   \n",
       "251                  Information Technology & Services   \n",
       "252                                 Financial Services   \n",
       "253                                          Insurance   \n",
       "254                                     Consumer Goods   \n",
       "255                                          Hauz Khas   \n",
       "256  Primary Business is Development and Manufactur...   \n",
       "\n",
       "                                          What_it_does  \\\n",
       "94   Healthy & nutritious foods and cold pressed ju...   \n",
       "96   Bewakoof is a lifestyle fashion brand that mak...   \n",
       "98   A real money game app specializing in trivia g...   \n",
       "104  Advantage Club is India's largest employee eng...   \n",
       "106  Ruptok fintech Pvt. Ltd. is an online gold loa...   \n",
       "107  Healthy & nutritious foods and cold pressed ju...   \n",
       "109  Bewakoof is a lifestyle fashion brand that mak...   \n",
       "111  A real money game app specializing in trivia g...   \n",
       "117  Advantage Club is India's largest employee eng...   \n",
       "119  Ruptok fintech Pvt. Ltd. is an online gold loa...   \n",
       "229  Trinkerr is India's first social trading platf...   \n",
       "230               Pseudonymous social network platform   \n",
       "231  Create and Inspire the future of sustainable u...   \n",
       "232  A vision and passion of redefining healthcare ...   \n",
       "233      Unremot is a personal office for consultants!   \n",
       "234                             Celebrity NFT platform   \n",
       "235  PingoLearn offers language learning courses wi...   \n",
       "236  THE BEST ROYALTY-FREE MUSIC TO CREATE TRENDING...   \n",
       "237  Enmovil delivers a Business Intelligence Platf...   \n",
       "238  Bringing Blockchain technology intro mainstrea...   \n",
       "239  The insurance industry will help in representa...   \n",
       "240  Identify and partner with the upcoming eCommer...   \n",
       "241                A ready-to-cook Asian cuisine brand   \n",
       "242                                       Varun Khanna   \n",
       "243  Trinkerr is India's first social trading platf...   \n",
       "244               Pseudonymous social network platform   \n",
       "245  Create and Inspire the future of sustainable u...   \n",
       "246  A vision and passion of redefining healthcare ...   \n",
       "247      Unremot is a personal office for consultants!   \n",
       "248                             Celebrity NFT platform   \n",
       "249  PingoLearn offers language learning courses wi...   \n",
       "250  THE BEST ROYALTY-FREE MUSIC TO CREATE TRENDING...   \n",
       "251  Enmovil delivers a Business Intelligence Platf...   \n",
       "252  Bringing Blockchain technology intro mainstrea...   \n",
       "253  The insurance industry will help in representa...   \n",
       "254  Identify and partner with the upcoming eCommer...   \n",
       "255                A ready-to-cook Asian cuisine brand   \n",
       "256                                       Varun Khanna   \n",
       "\n",
       "                                          Founders  \\\n",
       "94                                    Ankit Nagori   \n",
       "96                                Prabhkiran Singh   \n",
       "98                                          YC W21   \n",
       "104             Sourabh Deorah, Smiti Bhatt Deorah   \n",
       "106                                    Ankur Gupta   \n",
       "107                                   Ankit Nagori   \n",
       "109                               Prabhkiran Singh   \n",
       "111                                         YC W21   \n",
       "117             Sourabh Deorah, Smiti Bhatt Deorah   \n",
       "119                                    Ankur Gupta   \n",
       "229                Manvendra Singh, Gaurav Agarwal   \n",
       "230  Jasveer Singh, Abhishek Asthana, Deepak Kumar   \n",
       "231            Subramaniam Narayan, Niraj Rajmohan   \n",
       "232                                 Vikram Vuppala   \n",
       "233                            Shiju Radhakrishnan   \n",
       "234                    Varun Chaudhary, Amit Kumar   \n",
       "235             Mohit Menghani, Shubham Maheshwari   \n",
       "236                Gaurav Dagaonkar, Meghna Mittal   \n",
       "237     Ravi Bulusu, Nanda Kishore, Venkat Moganty   \n",
       "238                                  Swapnil Pawar   \n",
       "239                     Deepak Bhuvenshwari Uniyal   \n",
       "240                  Utsav Agarwal, Pulkit Chhabra   \n",
       "241                  Vidur Kataria, Sidhanth Madan   \n",
       "242             Morgan Stanley Private Equity Asia   \n",
       "243                Manvendra Singh, Gaurav Agarwal   \n",
       "244  Jasveer Singh, Abhishek Asthana, Deepak Kumar   \n",
       "245            Subramaniam Narayan, Niraj Rajmohan   \n",
       "246                                 Vikram Vuppala   \n",
       "247                            Shiju Radhakrishnan   \n",
       "248                    Varun Chaudhary, Amit Kumar   \n",
       "249             Mohit Menghani, Shubham Maheshwari   \n",
       "250                Gaurav Dagaonkar, Meghna Mittal   \n",
       "251     Ravi Bulusu, Nanda Kishore, Venkat Moganty   \n",
       "252                                  Swapnil Pawar   \n",
       "253                     Deepak Bhuvenshwari Uniyal   \n",
       "254                  Utsav Agarwal, Pulkit Chhabra   \n",
       "255                  Vidur Kataria, Sidhanth Madan   \n",
       "256             Morgan Stanley Private Equity Asia   \n",
       "\n",
       "                                              Investor     Amount($)  \\\n",
       "94                 Iron Pillar, Nordstar, Binny Bansal     $13000000   \n",
       "96                                          InvestCorp      $8000000   \n",
       "98                         Pritesh Kumar, Bharat Gupta      Upsparks   \n",
       "104           Y Combinator, Broom Ventures, Kunal Shah      $1700000   \n",
       "106                                     Eclear Leasing      $1000000   \n",
       "107                Iron Pillar, Nordstar, Binny Bansal     $13000000   \n",
       "109                                         InvestCorp      $8000000   \n",
       "111                        Pritesh Kumar, Bharat Gupta      Upsparks   \n",
       "117           Y Combinator, Broom Ventures, Kunal Shah      $1700000   \n",
       "119                                     Eclear Leasing      $1000000   \n",
       "229                                        Accel India      $6600000   \n",
       "230  Vijay Shekhar Sharma, Ritesh Agarwal, Ankiti Bose     $32000000   \n",
       "231                                    TVS Motor, Zoho    $150000000   \n",
       "232                              IIFL Asset Management     $24000000   \n",
       "233                          Inflection Point Ventures       $700000   \n",
       "234        Oasis Capital, Scorpio VC, DeltaHub Capital  $Undisclosed   \n",
       "235  Titan Capital, Haresh Chawla, AngelList Syndicate       $200000   \n",
       "236                          9Unicorns, Ashneer Grover      $1500000   \n",
       "237                                  Anicut Angel Fund      $1300000   \n",
       "238                              Founders Room Capital      $1000000   \n",
       "239                                     9Unicorns, ZNL       $725000   \n",
       "240                                               None       $500000   \n",
       "241                                       WEH Ventures       $461000   \n",
       "242                                          $22000000      Series C   \n",
       "243                                        Accel India      $6600000   \n",
       "244  Vijay Shekhar Sharma, Ritesh Agarwal, Ankiti Bose     $32000000   \n",
       "245                                    TVS Motor, Zoho    $150000000   \n",
       "246                              IIFL Asset Management     $24000000   \n",
       "247                          Inflection Point Ventures       $700000   \n",
       "248        Oasis Capital, Scorpio VC, DeltaHub Capital  $Undisclosed   \n",
       "249  Titan Capital, Haresh Chawla, AngelList Syndicate       $200000   \n",
       "250                          9Unicorns, Ashneer Grover      $1500000   \n",
       "251                                  Anicut Angel Fund      $1300000   \n",
       "252                              Founders Room Capital      $1000000   \n",
       "253                                     9Unicorns, ZNL       $725000   \n",
       "254                                               None       $500000   \n",
       "255                                       WEH Ventures       $461000   \n",
       "256                                          $22000000      Series C   \n",
       "\n",
       "            Stage  Year  \n",
       "94           None  2021  \n",
       "96           None  2021  \n",
       "98       $1200000  2021  \n",
       "104          None  2021  \n",
       "106          None  2021  \n",
       "107          None  2021  \n",
       "109          None  2021  \n",
       "111      $1200000  2021  \n",
       "117          None  2021  \n",
       "119          None  2021  \n",
       "229      Series A  2021  \n",
       "230          Seed  2021  \n",
       "231      Series C  2021  \n",
       "232      Series E  2021  \n",
       "233          Seed  2021  \n",
       "234          Seed  2021  \n",
       "235          None  2021  \n",
       "236          Seed  2021  \n",
       "237  Pre-series A  2021  \n",
       "238  Pre-series A  2021  \n",
       "239  Pre-series A  2021  \n",
       "240          None  2021  \n",
       "241          Seed  2021  \n",
       "242          None  2021  \n",
       "243      Series A  2021  \n",
       "244          Seed  2021  \n",
       "245      Series C  2021  \n",
       "246      Series E  2021  \n",
       "247          Seed  2021  \n",
       "248          Seed  2021  \n",
       "249          None  2021  \n",
       "250          Seed  2021  \n",
       "251  Pre-series A  2021  \n",
       "252  Pre-series A  2021  \n",
       "253  Pre-series A  2021  \n",
       "254          None  2021  \n",
       "255          Seed  2021  \n",
       "256          None  2021  "
      ]
     },
     "execution_count": 65,
     "metadata": {},
     "output_type": "execute_result"
    }
   ],
   "source": [
    "# Identify duplicate rows based on all columns\n",
    "duplicates = data21[data21.duplicated(keep=False)]\n",
    "duplicates"
   ]
  },
  {
   "cell_type": "code",
   "execution_count": 66,
   "metadata": {},
   "outputs": [],
   "source": [
    "# Drop one of the duplicates\n",
    "data21.drop_duplicates(keep='first', inplace=True)"
   ]
  },
  {
   "cell_type": "markdown",
   "metadata": {},
   "source": [
    "Locate rows with alternate data and exchange to the right column"
   ]
  },
  {
   "cell_type": "code",
   "execution_count": 67,
   "metadata": {},
   "outputs": [
    {
     "data": {
      "text/html": [
       "<div>\n",
       "<style scoped>\n",
       "    .dataframe tbody tr th:only-of-type {\n",
       "        vertical-align: middle;\n",
       "    }\n",
       "\n",
       "    .dataframe tbody tr th {\n",
       "        vertical-align: top;\n",
       "    }\n",
       "\n",
       "    .dataframe thead th {\n",
       "        text-align: right;\n",
       "    }\n",
       "</style>\n",
       "<table border=\"1\" class=\"dataframe\">\n",
       "  <thead>\n",
       "    <tr style=\"text-align: right;\">\n",
       "      <th></th>\n",
       "      <th>Company_Brand</th>\n",
       "      <th>Founded</th>\n",
       "      <th>HeadQuarter</th>\n",
       "      <th>Sector</th>\n",
       "      <th>What_it_does</th>\n",
       "      <th>Founders</th>\n",
       "      <th>Investor</th>\n",
       "      <th>Amount($)</th>\n",
       "      <th>Stage</th>\n",
       "      <th>Year</th>\n",
       "    </tr>\n",
       "  </thead>\n",
       "  <tbody>\n",
       "    <tr>\n",
       "      <th>902</th>\n",
       "      <td>EyeMyEye</td>\n",
       "      <td>2021.0</td>\n",
       "      <td>Gurugram</td>\n",
       "      <td>Eyewear</td>\n",
       "      <td>Shop the latest Eyeglasses, Sunglasses, Power ...</td>\n",
       "      <td>Ganesh Iyer</td>\n",
       "      <td>2000000</td>\n",
       "      <td>$2000000</td>\n",
       "      <td>Pre-series A</td>\n",
       "      <td>2021</td>\n",
       "    </tr>\n",
       "  </tbody>\n",
       "</table>\n",
       "</div>"
      ],
      "text/plain": [
       "    Company_Brand  Founded HeadQuarter   Sector  \\\n",
       "902      EyeMyEye   2021.0    Gurugram  Eyewear   \n",
       "\n",
       "                                          What_it_does     Founders Investor  \\\n",
       "902  Shop the latest Eyeglasses, Sunglasses, Power ...  Ganesh Iyer  2000000   \n",
       "\n",
       "    Amount($)         Stage  Year  \n",
       "902  $2000000  Pre-series A  2021  "
      ]
     },
     "execution_count": 67,
     "metadata": {},
     "output_type": "execute_result"
    }
   ],
   "source": [
    "#through creating a variable and searching in the respective column we can find the index to each row with and issue\n",
    "selected_rows = data21[data21['Company_Brand'] == 'EyeMyEye']\n",
    "selected_rows"
   ]
  },
  {
   "cell_type": "code",
   "execution_count": 68,
   "metadata": {},
   "outputs": [],
   "source": [
    "row_indices = [98,538,551,674,677]  # List of row indices\n",
    "column1 = 'Amount($)'\n",
    "column2 = 'Stage'\n",
    "\n",
    "data21.loc[row_indices, [column1, column2]] = data21.loc[row_indices, [column2, column1]].values\n"
   ]
  },
  {
   "cell_type": "code",
   "execution_count": 69,
   "metadata": {},
   "outputs": [],
   "source": [
    "row_indices = [242,257,545,902,1100,1148]  # List of row indices\n",
    "column1 = 'Investor'\n",
    "column2 = 'Amount($)'\n",
    "\n",
    "data21.loc[row_indices, [column1, column2]] = data21.loc[row_indices, [column2, column1]].values"
   ]
  },
  {
   "cell_type": "code",
   "execution_count": 70,
   "metadata": {},
   "outputs": [],
   "source": [
    "row_indices = [242,257,545,1100,1148]  # List of row indices\n",
    "column1 = 'Stage'\n",
    "column2 = 'Investor'\n",
    "\n",
    "data21.loc[row_indices, [column1, column2]] = data21.loc[row_indices, [column2, column1]].values"
   ]
  },
  {
   "cell_type": "markdown",
   "metadata": {},
   "source": [
    "Drop unnecessary columns"
   ]
  },
  {
   "cell_type": "code",
   "execution_count": 71,
   "metadata": {},
   "outputs": [],
   "source": [
    "columns_to_drop4 = ['Founded','Founders','Investor']\n",
    "data21 = data21.drop(columns_to_drop4, axis=1)"
   ]
  },
  {
   "cell_type": "markdown",
   "metadata": {},
   "source": [
    "1. HeadQuarter Column"
   ]
  },
  {
   "cell_type": "code",
   "execution_count": 72,
   "metadata": {},
   "outputs": [],
   "source": [
    "# fill all missing values with unknown\n",
    "data21['HeadQuarter'].fillna('Unknown', inplace=True)"
   ]
  },
  {
   "cell_type": "markdown",
   "metadata": {},
   "source": [
    "2. Amount Column"
   ]
  },
  {
   "cell_type": "code",
   "execution_count": 73,
   "metadata": {},
   "outputs": [
    {
     "data": {
      "text/plain": [
       "array(['$1,200,000', '$120,000,000', '$30,000,000', '$51,000,000',\n",
       "       '$2,000,000', '$188,000,000', '$200,000', 'Undisclosed',\n",
       "       '$1,000,000', '$3,000,000', '$100,000', '$700,000', '$9,000,000',\n",
       "       '$40,000,000', '$49,000,000', '$400,000', '$300,000',\n",
       "       '$25,000,000', '$160,000,000', '$150,000', '$1,800,000',\n",
       "       '$5,000,000', '$850,000', '$53,000,000', '$500,000', '$1,100,000',\n",
       "       '$6,000,000', '$800,000', '$10,000,000', '$21,000,000',\n",
       "       '$7,500,000', '$26,000,000', '$7,400,000', '$1,500,000',\n",
       "       '$600,000', '$800,000,000', '$17,000,000', '$3,500,000',\n",
       "       '$15,000,000', '$215,000,000', '$2,500,000', '$350,000,000',\n",
       "       '$5,500,000', '$83,000,000', '$110,000,000', '$500,000,000',\n",
       "       '$65,000,000', '$150,000,000,000', '$300,000,000', '$2,200,000',\n",
       "       '$35,000,000', '$140,000,000', '$4,000,000', '$13,000,000', None,\n",
       "       '$Undisclosed', '$2000000', '$800000', '$6000000', '$2500000',\n",
       "       '$9500000', '$13000000', '$5000000', '$8000000', '$1000000',\n",
       "       '$1200000', '$200000', '$12000000', '$1500000', '$1700000',\n",
       "       '$5500000', '$400000', '$150000000', '$4000000', '$100000000',\n",
       "       '$500000', '$15000000', '$10000000', '$40000000', '$225000000',\n",
       "       '$6700000', '$1300000', '$20000000', '$250000', '$21000000',\n",
       "       '$52000000', '$3800000', '$17500000', '$42000000', '$2300000',\n",
       "       '$7000000', '$30000000', '$450000000', '$28000000', '$300000',\n",
       "       '$3500000', '$8500000', '$25000000', '$3000000', '$37000000',\n",
       "       '$370000000', '$700000', '$16000000', '$100000', '$44000000',\n",
       "       '$770000', '$125000000', '$35000000', '$50000000', '$4900000',\n",
       "       '$145000000', '$22000000', '$70000000', '$6600000', '$32000000',\n",
       "       '$24000000', '$725000', '$461000', '$96000000', '$60000000',\n",
       "       '$500000000', '$266000000', '$4500000', '$325000000', '$6500000',\n",
       "       '$1600000', '$150000', '$225000', '$85000000', '$235000',\n",
       "       '$260000', '$2900000', '$53000000', '$1100000', '$86000000',\n",
       "       '$130000', '$$100,00', '$111000000', '$265000', '$76000000',\n",
       "       '$100,000,000', '$75,000,000', '$3,800,000', '$12,000,000',\n",
       "       '$1,600,000', '$260,000', '$1,000,000,000', '$18,000,000',\n",
       "       '$20,000,000', '$350,000', '$95,000,000', '$4,100,000',\n",
       "       '$5,200,000', '$8,000,000', '$1,400,000', '$2,600,000', '$900,000',\n",
       "       '$250,000', '$16,000,000', '$7,000,000', '$11,000,000',\n",
       "       '$280,000,000', '$50,000,000', '$14,300,000', '$81,000,000',\n",
       "       '$1,300,000', '$8,200,000', '$70,000,000', '$720,000', '$600000',\n",
       "       '$9000000', '$1800000', '$330000', '$undisclosed', '$200000000',\n",
       "       '$36000000', '$67000000', '$10200000', '$220000000', '$108000000',\n",
       "       '$75000000', '$450000', '$660000000', '$45000000', '$3200000',\n",
       "       '$370000', '$48000000', '$3600000', '$11000000', '$192000000',\n",
       "       '$65000000', '$1400000', '$1900000', '$41000000', '$144000000',\n",
       "       '$5200000', '$270000000', '$140000', '$250000000', '$320000',\n",
       "       '$350000000', '$4800000', '$38000000', '$125000', '$26000000',\n",
       "       '$64000000', '$620000', '$900000', '$2600000', '$1,250,000',\n",
       "       '$400,000,000', '$1,700,000', '$27,000,000', '$234,000,000',\n",
       "       '$460,000,000', '$13,500,000', '$5,100,000', '$195,000,000',\n",
       "       '$125,000', '$45,000,000', '$200,000,000', '$7,300,000',\n",
       "       '$6,300,000', '$12,500,000', '$24,000,000', '$140,000',\n",
       "       '$16,500,000', '$340,000', '$43,000,000', '$150,000,000',\n",
       "       '$3300000', '$92000000', '$17000000', '2000000', '$135000000',\n",
       "       '$$1,55,000', '$2100000', '$840000000', '$248000000', '$4300000',\n",
       "       '$570000', '$2200000', '$4700000', '$300000000', '$260000000',\n",
       "       '$140000000', '$175000000', '$19000000', '$810000', '$7500000',\n",
       "       '$600000000', '$90000000', '$5700000', '$6750000', '$78000000',\n",
       "       '$5400000', '$115000000', '$255000000', '$18000000', '$570000000',\n",
       "       '$550000', '$2700000', '$4200000', '$31000000', '$540000',\n",
       "       '$14000000', '$340000', '$', '$6200000', '1000000\\t#REF!',\n",
       "       '$750000', '$6300000', '$23000000', '$55000000'], dtype=object)"
      ]
     },
     "execution_count": 73,
     "metadata": {},
     "output_type": "execute_result"
    }
   ],
   "source": [
    "data21['Amount($)'].unique()"
   ]
  },
  {
   "cell_type": "code",
   "execution_count": 74,
   "metadata": {},
   "outputs": [],
   "source": [
    "# Remove commas, dollar signs and change dtype to float \n",
    "data21['Amount($)'] = data21['Amount($)'].str.replace('$', '')\n",
    "\n",
    "# Replace commas\n",
    "data21['Amount($)'] = data21['Amount($)'].str.replace(',','')\n",
    "\n",
    "# Amount column contains some other values that need to be changed before converting to float\n",
    "# Amount column contains some other values that need to be changed before converting to float\n",
    "value_to_drop = 'Undisclosed'\n",
    "data21 = data21[data21['Amount($)'] != value_to_drop]\n",
    "\n",
    "value_to_drop1 = 'undisclosed'\n",
    "data21 = data21[data21['Amount($)'] != value_to_drop1]\n",
    "\n",
    "data21['Amount($)'] = data21['Amount($)'].str.replace('1000000\\t#REF!','1000000')\n",
    "\n",
    "value_to_drop1 = ''\n",
    "data21 = data21[data21['Amount($)'] != value_to_drop1]\n",
    "\n",
    "# Change dtype to float\n",
    "data21['Amount($)'] = data21['Amount($)'].astype(float) "
   ]
  },
  {
   "cell_type": "code",
   "execution_count": 75,
   "metadata": {},
   "outputs": [
    {
     "data": {
      "text/plain": [
       "array([1.20e+06, 1.20e+08, 3.00e+07, 5.10e+07, 2.00e+06, 1.88e+08,\n",
       "       2.00e+05, 1.00e+06, 3.00e+06, 1.00e+05, 7.00e+05, 9.00e+06,\n",
       "       4.00e+07, 4.90e+07, 4.00e+05, 3.00e+05, 2.50e+07, 1.60e+08,\n",
       "       1.50e+05, 1.80e+06, 5.00e+06, 8.50e+05, 5.30e+07, 5.00e+05,\n",
       "       1.10e+06, 6.00e+06, 8.00e+05, 1.00e+07, 2.10e+07, 7.50e+06,\n",
       "       2.60e+07, 7.40e+06, 1.50e+06, 6.00e+05, 8.00e+08, 1.70e+07,\n",
       "       3.50e+06, 1.50e+07, 2.15e+08, 2.50e+06, 3.50e+08, 5.50e+06,\n",
       "       8.30e+07, 1.10e+08, 5.00e+08, 6.50e+07, 1.50e+11, 3.00e+08,\n",
       "       2.20e+06, 3.50e+07, 1.40e+08, 4.00e+06, 1.30e+07,      nan,\n",
       "       9.50e+06, 8.00e+06, 1.20e+07, 1.70e+06, 1.50e+08, 1.00e+08,\n",
       "       2.25e+08, 6.70e+06, 1.30e+06, 2.00e+07, 2.50e+05, 5.20e+07,\n",
       "       3.80e+06, 1.75e+07, 4.20e+07, 2.30e+06, 7.00e+06, 4.50e+08,\n",
       "       2.80e+07, 8.50e+06, 3.70e+07, 3.70e+08, 1.60e+07, 4.40e+07,\n",
       "       7.70e+05, 1.25e+08, 5.00e+07, 4.90e+06, 1.45e+08, 2.20e+07,\n",
       "       7.00e+07, 6.60e+06, 3.20e+07, 2.40e+07, 7.25e+05, 4.61e+05,\n",
       "       9.60e+07, 6.00e+07, 2.66e+08, 4.50e+06, 3.25e+08, 6.50e+06,\n",
       "       1.60e+06, 2.25e+05, 8.50e+07, 2.35e+05, 2.60e+05, 2.90e+06,\n",
       "       8.60e+07, 1.30e+05, 1.00e+04, 1.11e+08, 2.65e+05, 7.60e+07,\n",
       "       7.50e+07, 1.00e+09, 1.80e+07, 3.50e+05, 9.50e+07, 4.10e+06,\n",
       "       5.20e+06, 1.40e+06, 2.60e+06, 9.00e+05, 1.10e+07, 2.80e+08,\n",
       "       1.43e+07, 8.10e+07, 8.20e+06, 7.20e+05, 3.30e+05, 2.00e+08,\n",
       "       3.60e+07, 6.70e+07, 1.02e+07, 2.20e+08, 1.08e+08, 4.50e+05,\n",
       "       6.60e+08, 4.50e+07, 3.20e+06, 3.70e+05, 4.80e+07, 3.60e+06,\n",
       "       1.92e+08, 1.90e+06, 4.10e+07, 1.44e+08, 2.70e+08, 1.40e+05,\n",
       "       2.50e+08, 3.20e+05, 4.80e+06, 3.80e+07, 1.25e+05, 6.40e+07,\n",
       "       6.20e+05, 1.25e+06, 4.00e+08, 2.70e+07, 2.34e+08, 4.60e+08,\n",
       "       1.35e+07, 5.10e+06, 1.95e+08, 7.30e+06, 6.30e+06, 1.25e+07,\n",
       "       1.65e+07, 3.40e+05, 4.30e+07, 3.30e+06, 9.20e+07, 1.35e+08,\n",
       "       1.55e+05, 2.10e+06, 8.40e+08, 2.48e+08, 4.30e+06, 5.70e+05,\n",
       "       4.70e+06, 2.60e+08, 1.75e+08, 1.90e+07, 8.10e+05, 6.00e+08,\n",
       "       9.00e+07, 5.70e+06, 6.75e+06, 7.80e+07, 5.40e+06, 1.15e+08,\n",
       "       2.55e+08, 5.70e+08, 5.50e+05, 2.70e+06, 4.20e+06, 3.10e+07,\n",
       "       5.40e+05, 1.40e+07, 6.20e+06, 7.50e+05, 2.30e+07, 5.50e+07])"
      ]
     },
     "execution_count": 75,
     "metadata": {},
     "output_type": "execute_result"
    }
   ],
   "source": [
    "data21['Amount($)'].unique()"
   ]
  },
  {
   "cell_type": "markdown",
   "metadata": {},
   "source": [
    "3. Stage Column"
   ]
  },
  {
   "cell_type": "code",
   "execution_count": 76,
   "metadata": {},
   "outputs": [],
   "source": [
    "replacement4 = { \n",
    "'Seed':'Pre-series A',\n",
    "'Pre-seed':'Pre-series A',\n",
    "'Pre-series B':'Pre-series A',\n",
    "'Upsparks':'Unknown',\n",
    "'Bridge':'Bridge Round',\n",
    "'Seed+':'Pre-series A',\n",
    "'Series F2':'Series F',\n",
    "'Series A+':'Series A',\n",
    "'Series B3':'Series B',\n",
    "'PE':'Series C',\n",
    "'Series F1':'Series F',\n",
    "'Pre-series A1':'Pre-series A',\n",
    "'ah! Ventures':'Unknown',\n",
    "'ITO Angel Network, LetsVenture':'Unknown',\n",
    "'Early seed':'Pre-series A',\n",
    "'Series D1':'Series D',\n",
    "'JITO Angel Network, LetsVenture':'Unknown',\n",
    "'Seies A':'Series A',\n",
    "'Pre-series':'Pre-series A',\n",
    "'Series A2':'Series A',\n",
    "}\n",
    "\n",
    "data21['Stage'] = data21['Stage'].replace(replacement4)"
   ]
  },
  {
   "cell_type": "code",
   "execution_count": 77,
   "metadata": {},
   "outputs": [],
   "source": [
    "# fill all missing values with unknown\n",
    "data21['Stage'].fillna('Unknown', inplace=True)"
   ]
  },
  {
   "cell_type": "code",
   "execution_count": 78,
   "metadata": {},
   "outputs": [],
   "source": [
    "# Drop rows with unknown data in headquarter and stage column\n",
    "value_to_drop1 = 'Unknown'\n",
    "data21 = data21[data21['Stage'] != value_to_drop1]\n",
    "\n",
    "value_to_drop1 = 'Unknown'\n",
    "data21 = data21[data21['HeadQuarter'] != value_to_drop1]"
   ]
  },
  {
   "cell_type": "code",
   "execution_count": 79,
   "metadata": {},
   "outputs": [
    {
     "data": {
      "text/plain": [
       "array(['Pre-series A', 'Series D', 'Series C', 'Series B', 'Series E',\n",
       "       'Series A', 'Debt', 'Bridge Round', 'Series F', 'Series G',\n",
       "       'Series H', 'Series I'], dtype=object)"
      ]
     },
     "execution_count": 79,
     "metadata": {},
     "output_type": "execute_result"
    }
   ],
   "source": [
    "data21['Stage'].unique()"
   ]
  },
  {
   "cell_type": "markdown",
   "metadata": {},
   "source": [
    "Review Cleaned Data"
   ]
  },
  {
   "cell_type": "code",
   "execution_count": 80,
   "metadata": {},
   "outputs": [
    {
     "name": "stdout",
     "output_type": "stream",
     "text": [
      "<class 'pandas.core.frame.DataFrame'>\n",
      "Index: 694 entries, 0 to 1208\n",
      "Data columns (total 7 columns):\n",
      " #   Column         Non-Null Count  Dtype  \n",
      "---  ------         --------------  -----  \n",
      " 0   Company_Brand  694 non-null    object \n",
      " 1   HeadQuarter    694 non-null    object \n",
      " 2   Sector         694 non-null    object \n",
      " 3   What_it_does   694 non-null    object \n",
      " 4   Amount($)      694 non-null    float64\n",
      " 5   Stage          694 non-null    object \n",
      " 6   Year           694 non-null    object \n",
      "dtypes: float64(1), object(6)\n",
      "memory usage: 43.4+ KB\n"
     ]
    }
   ],
   "source": [
    "data21.info()"
   ]
  },
  {
   "cell_type": "code",
   "execution_count": 81,
   "metadata": {},
   "outputs": [
    {
     "data": {
      "text/html": [
       "<div>\n",
       "<style scoped>\n",
       "    .dataframe tbody tr th:only-of-type {\n",
       "        vertical-align: middle;\n",
       "    }\n",
       "\n",
       "    .dataframe tbody tr th {\n",
       "        vertical-align: top;\n",
       "    }\n",
       "\n",
       "    .dataframe thead th {\n",
       "        text-align: right;\n",
       "    }\n",
       "</style>\n",
       "<table border=\"1\" class=\"dataframe\">\n",
       "  <thead>\n",
       "    <tr style=\"text-align: right;\">\n",
       "      <th></th>\n",
       "      <th>Company_Brand</th>\n",
       "      <th>HeadQuarter</th>\n",
       "      <th>Sector</th>\n",
       "      <th>What_it_does</th>\n",
       "      <th>Amount($)</th>\n",
       "      <th>Stage</th>\n",
       "      <th>Year</th>\n",
       "    </tr>\n",
       "  </thead>\n",
       "  <tbody>\n",
       "    <tr>\n",
       "      <th>0</th>\n",
       "      <td>Unbox Robotics</td>\n",
       "      <td>Bangalore</td>\n",
       "      <td>AI startup</td>\n",
       "      <td>Unbox Robotics builds on-demand AI-driven ware...</td>\n",
       "      <td>1200000.0</td>\n",
       "      <td>Pre-series A</td>\n",
       "      <td>2021</td>\n",
       "    </tr>\n",
       "    <tr>\n",
       "      <th>2</th>\n",
       "      <td>Lead School</td>\n",
       "      <td>Mumbai</td>\n",
       "      <td>EdTech</td>\n",
       "      <td>LEAD School offers technology based school tra...</td>\n",
       "      <td>30000000.0</td>\n",
       "      <td>Series D</td>\n",
       "      <td>2021</td>\n",
       "    </tr>\n",
       "    <tr>\n",
       "      <th>3</th>\n",
       "      <td>Bizongo</td>\n",
       "      <td>Mumbai</td>\n",
       "      <td>B2B E-commerce</td>\n",
       "      <td>Bizongo is a business-to-business online marke...</td>\n",
       "      <td>51000000.0</td>\n",
       "      <td>Series C</td>\n",
       "      <td>2021</td>\n",
       "    </tr>\n",
       "    <tr>\n",
       "      <th>4</th>\n",
       "      <td>FypMoney</td>\n",
       "      <td>Gurugram</td>\n",
       "      <td>FinTech</td>\n",
       "      <td>FypMoney is Digital NEO Bank for Teenagers, em...</td>\n",
       "      <td>2000000.0</td>\n",
       "      <td>Pre-series A</td>\n",
       "      <td>2021</td>\n",
       "    </tr>\n",
       "    <tr>\n",
       "      <th>10</th>\n",
       "      <td>Fitterfly</td>\n",
       "      <td>Mumbai</td>\n",
       "      <td>HealthTech</td>\n",
       "      <td>Fitterfly offers customized and personalized w...</td>\n",
       "      <td>3000000.0</td>\n",
       "      <td>Pre-series A</td>\n",
       "      <td>2021</td>\n",
       "    </tr>\n",
       "  </tbody>\n",
       "</table>\n",
       "</div>"
      ],
      "text/plain": [
       "     Company_Brand HeadQuarter          Sector  \\\n",
       "0   Unbox Robotics   Bangalore      AI startup   \n",
       "2      Lead School      Mumbai          EdTech   \n",
       "3          Bizongo      Mumbai  B2B E-commerce   \n",
       "4         FypMoney    Gurugram         FinTech   \n",
       "10       Fitterfly      Mumbai      HealthTech   \n",
       "\n",
       "                                         What_it_does   Amount($)  \\\n",
       "0   Unbox Robotics builds on-demand AI-driven ware...   1200000.0   \n",
       "2   LEAD School offers technology based school tra...  30000000.0   \n",
       "3   Bizongo is a business-to-business online marke...  51000000.0   \n",
       "4   FypMoney is Digital NEO Bank for Teenagers, em...   2000000.0   \n",
       "10  Fitterfly offers customized and personalized w...   3000000.0   \n",
       "\n",
       "           Stage  Year  \n",
       "0   Pre-series A  2021  \n",
       "2       Series D  2021  \n",
       "3       Series C  2021  \n",
       "4   Pre-series A  2021  \n",
       "10  Pre-series A  2021  "
      ]
     },
     "execution_count": 81,
     "metadata": {},
     "output_type": "execute_result"
    }
   ],
   "source": [
    "data21.head(5)"
   ]
  },
  {
   "cell_type": "markdown",
   "metadata": {},
   "source": [
    "# Combine all 4 Data set"
   ]
  },
  {
   "cell_type": "code",
   "execution_count": 82,
   "metadata": {},
   "outputs": [
    {
     "data": {
      "text/html": [
       "<div>\n",
       "<style scoped>\n",
       "    .dataframe tbody tr th:only-of-type {\n",
       "        vertical-align: middle;\n",
       "    }\n",
       "\n",
       "    .dataframe tbody tr th {\n",
       "        vertical-align: top;\n",
       "    }\n",
       "\n",
       "    .dataframe thead th {\n",
       "        text-align: right;\n",
       "    }\n",
       "</style>\n",
       "<table border=\"1\" class=\"dataframe\">\n",
       "  <thead>\n",
       "    <tr style=\"text-align: right;\">\n",
       "      <th></th>\n",
       "      <th>Company_Brand</th>\n",
       "      <th>Sector</th>\n",
       "      <th>Stage</th>\n",
       "      <th>Amount($)</th>\n",
       "      <th>HeadQuarter</th>\n",
       "      <th>What_it_does</th>\n",
       "      <th>Year</th>\n",
       "    </tr>\n",
       "  </thead>\n",
       "  <tbody>\n",
       "    <tr>\n",
       "      <th>0</th>\n",
       "      <td>TheCollegeFever</td>\n",
       "      <td>Brand Marketing, Event Promotion, Marketing, S...</td>\n",
       "      <td>Pre-series A</td>\n",
       "      <td>250000.0</td>\n",
       "      <td>Bangalore</td>\n",
       "      <td>TheCollegeFever is a hub for fun, fiesta and f...</td>\n",
       "      <td>2018</td>\n",
       "    </tr>\n",
       "    <tr>\n",
       "      <th>1</th>\n",
       "      <td>Happy Cow Dairy</td>\n",
       "      <td>Agriculture, Farming</td>\n",
       "      <td>Pre-series A</td>\n",
       "      <td>588000.0</td>\n",
       "      <td>Mumbai</td>\n",
       "      <td>A startup which aggregates milk from dairy far...</td>\n",
       "      <td>2018</td>\n",
       "    </tr>\n",
       "    <tr>\n",
       "      <th>2</th>\n",
       "      <td>MyLoanCare</td>\n",
       "      <td>Credit, Financial Services, Lending, Marketplace</td>\n",
       "      <td>Series A</td>\n",
       "      <td>955500.0</td>\n",
       "      <td>Gurgaon</td>\n",
       "      <td>Leading Online Loans Marketplace in India</td>\n",
       "      <td>2018</td>\n",
       "    </tr>\n",
       "    <tr>\n",
       "      <th>3</th>\n",
       "      <td>PayMe India</td>\n",
       "      <td>Financial Services, FinTech</td>\n",
       "      <td>Angel Round</td>\n",
       "      <td>2000000.0</td>\n",
       "      <td>Noida</td>\n",
       "      <td>PayMe India is an innovative FinTech organizat...</td>\n",
       "      <td>2018</td>\n",
       "    </tr>\n",
       "    <tr>\n",
       "      <th>4</th>\n",
       "      <td>Hasura</td>\n",
       "      <td>Cloud Infrastructure, PaaS, SaaS</td>\n",
       "      <td>Pre-series A</td>\n",
       "      <td>1600000.0</td>\n",
       "      <td>Bengaluru</td>\n",
       "      <td>Hasura is a platform that allows developers to...</td>\n",
       "      <td>2018</td>\n",
       "    </tr>\n",
       "    <tr>\n",
       "      <th>5</th>\n",
       "      <td>Tripshelf</td>\n",
       "      <td>Internet, Leisure, Marketplace</td>\n",
       "      <td>Pre-series A</td>\n",
       "      <td>235200.0</td>\n",
       "      <td>Kalkaji</td>\n",
       "      <td>Tripshelf is an online market place for holida...</td>\n",
       "      <td>2018</td>\n",
       "    </tr>\n",
       "    <tr>\n",
       "      <th>6</th>\n",
       "      <td>Hyperdata.IO</td>\n",
       "      <td>Market Research</td>\n",
       "      <td>Angel Round</td>\n",
       "      <td>735000.0</td>\n",
       "      <td>Hyderabad</td>\n",
       "      <td>Hyperdata combines advanced machine learning w...</td>\n",
       "      <td>2018</td>\n",
       "    </tr>\n",
       "    <tr>\n",
       "      <th>7</th>\n",
       "      <td>Pitstop</td>\n",
       "      <td>Automotive, Search Engine, Service Industry</td>\n",
       "      <td>Pre-series A</td>\n",
       "      <td>1470000.0</td>\n",
       "      <td>Bengaluru</td>\n",
       "      <td>Pitstop offers general repair and maintenance ...</td>\n",
       "      <td>2018</td>\n",
       "    </tr>\n",
       "    <tr>\n",
       "      <th>8</th>\n",
       "      <td>Mihuru</td>\n",
       "      <td>Finance, Internet, Travel</td>\n",
       "      <td>Pre-series A</td>\n",
       "      <td>150000.0</td>\n",
       "      <td>Mumbai</td>\n",
       "      <td>Mihuru is an online platform which gives micro...</td>\n",
       "      <td>2018</td>\n",
       "    </tr>\n",
       "    <tr>\n",
       "      <th>9</th>\n",
       "      <td>Fyle</td>\n",
       "      <td>Accounting, Business Information Systems, Busi...</td>\n",
       "      <td>Pre-series A</td>\n",
       "      <td>1100000.0</td>\n",
       "      <td>Bengaluru</td>\n",
       "      <td>Fyle is an intelligent expense management plat...</td>\n",
       "      <td>2018</td>\n",
       "    </tr>\n",
       "  </tbody>\n",
       "</table>\n",
       "</div>"
      ],
      "text/plain": [
       "     Company_Brand                                             Sector  \\\n",
       "0  TheCollegeFever  Brand Marketing, Event Promotion, Marketing, S...   \n",
       "1  Happy Cow Dairy                               Agriculture, Farming   \n",
       "2       MyLoanCare   Credit, Financial Services, Lending, Marketplace   \n",
       "3      PayMe India                        Financial Services, FinTech   \n",
       "4           Hasura                   Cloud Infrastructure, PaaS, SaaS   \n",
       "5        Tripshelf                     Internet, Leisure, Marketplace   \n",
       "6     Hyperdata.IO                                    Market Research   \n",
       "7          Pitstop        Automotive, Search Engine, Service Industry   \n",
       "8           Mihuru                          Finance, Internet, Travel   \n",
       "9             Fyle  Accounting, Business Information Systems, Busi...   \n",
       "\n",
       "          Stage  Amount($) HeadQuarter  \\\n",
       "0  Pre-series A   250000.0   Bangalore   \n",
       "1  Pre-series A   588000.0      Mumbai   \n",
       "2      Series A   955500.0     Gurgaon   \n",
       "3   Angel Round  2000000.0       Noida   \n",
       "4  Pre-series A  1600000.0   Bengaluru   \n",
       "5  Pre-series A   235200.0     Kalkaji   \n",
       "6   Angel Round   735000.0   Hyderabad   \n",
       "7  Pre-series A  1470000.0   Bengaluru   \n",
       "8  Pre-series A   150000.0      Mumbai   \n",
       "9  Pre-series A  1100000.0   Bengaluru   \n",
       "\n",
       "                                        What_it_does  Year  \n",
       "0  TheCollegeFever is a hub for fun, fiesta and f...  2018  \n",
       "1  A startup which aggregates milk from dairy far...  2018  \n",
       "2          Leading Online Loans Marketplace in India  2018  \n",
       "3  PayMe India is an innovative FinTech organizat...  2018  \n",
       "4  Hasura is a platform that allows developers to...  2018  \n",
       "5  Tripshelf is an online market place for holida...  2018  \n",
       "6  Hyperdata combines advanced machine learning w...  2018  \n",
       "7  Pitstop offers general repair and maintenance ...  2018  \n",
       "8  Mihuru is an online platform which gives micro...  2018  \n",
       "9  Fyle is an intelligent expense management plat...  2018  "
      ]
     },
     "execution_count": 82,
     "metadata": {},
     "output_type": "execute_result"
    }
   ],
   "source": [
    "dataframe = [data18, data19, data20, data21]\n",
    "\n",
    "fulldata = pd.concat(dataframe, ignore_index=True)\n",
    "fulldata.head(10)"
   ]
  },
  {
   "cell_type": "code",
   "execution_count": 83,
   "metadata": {},
   "outputs": [],
   "source": [
    "columns_to_drop5 = ['What_it_does']\n",
    "fulldata = fulldata.drop(columns_to_drop5, axis=1)"
   ]
  },
  {
   "cell_type": "code",
   "execution_count": 84,
   "metadata": {},
   "outputs": [
    {
     "name": "stdout",
     "output_type": "stream",
     "text": [
      "<class 'pandas.core.frame.DataFrame'>\n",
      "RangeIndex: 1478 entries, 0 to 1477\n",
      "Data columns (total 6 columns):\n",
      " #   Column         Non-Null Count  Dtype  \n",
      "---  ------         --------------  -----  \n",
      " 0   Company_Brand  1478 non-null   object \n",
      " 1   Sector         1478 non-null   object \n",
      " 2   Stage          1478 non-null   object \n",
      " 3   Amount($)      1478 non-null   float64\n",
      " 4   HeadQuarter    1478 non-null   object \n",
      " 5   Year           1478 non-null   object \n",
      "dtypes: float64(1), object(5)\n",
      "memory usage: 69.4+ KB\n"
     ]
    }
   ],
   "source": [
    "fulldata.info()"
   ]
  },
  {
   "cell_type": "code",
   "execution_count": 85,
   "metadata": {},
   "outputs": [
    {
     "data": {
      "text/html": [
       "<div>\n",
       "<style scoped>\n",
       "    .dataframe tbody tr th:only-of-type {\n",
       "        vertical-align: middle;\n",
       "    }\n",
       "\n",
       "    .dataframe tbody tr th {\n",
       "        vertical-align: top;\n",
       "    }\n",
       "\n",
       "    .dataframe thead th {\n",
       "        text-align: right;\n",
       "    }\n",
       "</style>\n",
       "<table border=\"1\" class=\"dataframe\">\n",
       "  <thead>\n",
       "    <tr style=\"text-align: right;\">\n",
       "      <th></th>\n",
       "      <th>Company_Brand</th>\n",
       "      <th>Sector</th>\n",
       "      <th>Stage</th>\n",
       "      <th>Amount($)</th>\n",
       "      <th>HeadQuarter</th>\n",
       "      <th>Year</th>\n",
       "    </tr>\n",
       "  </thead>\n",
       "  <tbody>\n",
       "    <tr>\n",
       "      <th>733</th>\n",
       "      <td>Yolo</td>\n",
       "      <td>Transport</td>\n",
       "      <td>Pre-series A</td>\n",
       "      <td>600000.0</td>\n",
       "      <td>Gurugram</td>\n",
       "      <td>2020</td>\n",
       "    </tr>\n",
       "    <tr>\n",
       "      <th>753</th>\n",
       "      <td>Yolo</td>\n",
       "      <td>Transport</td>\n",
       "      <td>Pre-series A</td>\n",
       "      <td>600000.0</td>\n",
       "      <td>Gurugram</td>\n",
       "      <td>2020</td>\n",
       "    </tr>\n",
       "    <tr>\n",
       "      <th>969</th>\n",
       "      <td>Siply</td>\n",
       "      <td>FinTech</td>\n",
       "      <td>Pre-series A</td>\n",
       "      <td>1000000.0</td>\n",
       "      <td>Bangalore</td>\n",
       "      <td>2021</td>\n",
       "    </tr>\n",
       "    <tr>\n",
       "      <th>997</th>\n",
       "      <td>BharatPe</td>\n",
       "      <td>FinTech</td>\n",
       "      <td>Debt</td>\n",
       "      <td>6000000.0</td>\n",
       "      <td>New Delhi</td>\n",
       "      <td>2021</td>\n",
       "    </tr>\n",
       "    <tr>\n",
       "      <th>1006</th>\n",
       "      <td>Siply</td>\n",
       "      <td>FinTech</td>\n",
       "      <td>Pre-series A</td>\n",
       "      <td>1000000.0</td>\n",
       "      <td>Bangalore</td>\n",
       "      <td>2021</td>\n",
       "    </tr>\n",
       "    <tr>\n",
       "      <th>1230</th>\n",
       "      <td>BharatPe</td>\n",
       "      <td>FinTech</td>\n",
       "      <td>Debt</td>\n",
       "      <td>6000000.0</td>\n",
       "      <td>New Delhi</td>\n",
       "      <td>2021</td>\n",
       "    </tr>\n",
       "  </tbody>\n",
       "</table>\n",
       "</div>"
      ],
      "text/plain": [
       "     Company_Brand     Sector         Stage  Amount($) HeadQuarter  Year\n",
       "733           Yolo  Transport  Pre-series A   600000.0    Gurugram  2020\n",
       "753           Yolo  Transport  Pre-series A   600000.0    Gurugram  2020\n",
       "969          Siply    FinTech  Pre-series A  1000000.0   Bangalore  2021\n",
       "997       BharatPe    FinTech          Debt  6000000.0   New Delhi  2021\n",
       "1006         Siply    FinTech  Pre-series A  1000000.0   Bangalore  2021\n",
       "1230      BharatPe    FinTech          Debt  6000000.0   New Delhi  2021"
      ]
     },
     "execution_count": 85,
     "metadata": {},
     "output_type": "execute_result"
    }
   ],
   "source": [
    "# Identify duplicate rows based on all columns\n",
    "duplicates = fulldata[fulldata.duplicated(keep=False)]\n",
    "duplicates"
   ]
  },
  {
   "cell_type": "code",
   "execution_count": 86,
   "metadata": {},
   "outputs": [],
   "source": [
    "# Drop one of the duplicates\n",
    "fulldata.drop_duplicates(keep='first', inplace=True)"
   ]
  },
  {
   "cell_type": "code",
   "execution_count": 87,
   "metadata": {},
   "outputs": [
    {
     "data": {
      "text/plain": [
       "Company_Brand    0\n",
       "Sector           0\n",
       "Stage            0\n",
       "Amount($)        0\n",
       "HeadQuarter      0\n",
       "Year             0\n",
       "dtype: int64"
      ]
     },
     "execution_count": 87,
     "metadata": {},
     "output_type": "execute_result"
    }
   ],
   "source": [
    "fulldata.isna().sum()"
   ]
  },
  {
   "cell_type": "code",
   "execution_count": 88,
   "metadata": {},
   "outputs": [],
   "source": [
    "replacement5 = { \n",
    "'Ahmadabad': 'Ahmedabad',\n",
    "'Bangaldesh':'Bangladesh',\n",
    "'Bangalore City':'Bangalore',\n",
    "'Banglore':'Bangalore',\n",
    "'Bengaluru':'Bangalore',\n",
    "'Cochin':'Kochi',\n",
    "'Computer Games':'New Delhi',\n",
    "'Faridabad, Haryana':'Faridabad',\n",
    "'France': 'Grenoble',\n",
    "'Gurugram':'Gurgaon',\n",
    "'Gurugram\\t#REF!':'Gurgaon',\n",
    "'Hyderebad':'Hyderabad',\n",
    "'Kalkaji':'New Delhi',\n",
    "'Kalpakkam':'Chennai',\n",
    "'Kanpur':'Kannur',\n",
    "'Margão':'Margao',\n",
    "'Milano':'Milan',\n",
    "'Mountain View, CA':'Mountain View',\n",
    "'Online Media':'Bangalore',\n",
    "'Orissia':'Odisha',\n",
    "'Pharmaceuticals\\t#REF!':'Mumbai',\n",
    "'Rajastan':'Rajasthan',\n",
    "'Samsitpur':'Samastipur',\n",
    "'San Franciscao':'San Francisco',\n",
    "'San Francisco Bay Area':'San Francisco',\n",
    "'Small Towns, Andhra Pradesh':'Andhra Pradesh',\n",
    "'Telugana':'Telangana',\n",
    "'Trivandrum':'Thiruvananthapuram',\n",
    "'Manchester, Greater Manchester':'Manchester',\n",
    "'Delhi':'New Delhi',\n",
    "'Uttar pradesh':'Uttar Pradesh',\n",
    "}\n",
    "\n",
    "fulldata['HeadQuarter'] = fulldata['HeadQuarter'].replace(replacement5)"
   ]
  },
  {
   "cell_type": "code",
   "execution_count": 89,
   "metadata": {},
   "outputs": [
    {
     "data": {
      "text/plain": [
       "array(['Bangalore', 'Mumbai', 'Gurgaon', 'Noida', 'New Delhi',\n",
       "       'Hyderabad', 'Chennai', 'Kolkata', 'India', 'Jodhpur', 'Kannur',\n",
       "       'Pune', 'Ahmedabad', 'Faridabad', 'Kota', 'Jaipur', 'Haryana',\n",
       "       'Belgaum', 'Margao', 'Thane', 'Kormangala', 'Uttar Pradesh',\n",
       "       'Andheri', 'Mylapore', 'Indore', 'Ghaziabad', 'Guntur', 'Bhopal',\n",
       "       'Coimbatore', 'Alleppey', 'Gujarat', 'California', 'San Francisco',\n",
       "       'San Ramon', 'Plano', 'Bangladesh', 'New York', 'Kochi',\n",
       "       'Samastipur', 'Irvine', 'Tangerang', 'Berlin', 'Seattle', 'Riyadh',\n",
       "       'Singapore', 'Seoul', 'Bangkok', 'Bihar', 'Goa', 'Andhra Pradesh',\n",
       "       'Ranchi', 'Chandigarh', 'Food & Beverages', 'Powai', 'Nagpur',\n",
       "       'Patna', 'Telangana', 'Silvassa', 'Panchkula', 'Surat', 'Panaji',\n",
       "       'Odisha', 'Thiruvananthapuram', 'Bhilwara', 'London',\n",
       "       'Information Technology & Services', 'The Nilgiris', 'Gandhinagar'],\n",
       "      dtype=object)"
      ]
     },
     "execution_count": 89,
     "metadata": {},
     "output_type": "execute_result"
    }
   ],
   "source": [
    "fulldata['HeadQuarter'].unique()"
   ]
  },
  {
   "cell_type": "code",
   "execution_count": 90,
   "metadata": {},
   "outputs": [],
   "source": [
    "value_to_drop1 = 'Unknown'\n",
    "fulldata = fulldata[fulldata['HeadQuarter'] != value_to_drop1]"
   ]
  },
  {
   "cell_type": "code",
   "execution_count": 91,
   "metadata": {},
   "outputs": [
    {
     "data": {
      "text/plain": [
       "(1475, 6)"
      ]
     },
     "execution_count": 91,
     "metadata": {},
     "output_type": "execute_result"
    }
   ],
   "source": [
    "fulldata.shape"
   ]
  },
  {
   "cell_type": "code",
   "execution_count": 92,
   "metadata": {},
   "outputs": [
    {
     "data": {
      "text/html": [
       "<div>\n",
       "<style scoped>\n",
       "    .dataframe tbody tr th:only-of-type {\n",
       "        vertical-align: middle;\n",
       "    }\n",
       "\n",
       "    .dataframe tbody tr th {\n",
       "        vertical-align: top;\n",
       "    }\n",
       "\n",
       "    .dataframe thead th {\n",
       "        text-align: right;\n",
       "    }\n",
       "</style>\n",
       "<table border=\"1\" class=\"dataframe\">\n",
       "  <thead>\n",
       "    <tr style=\"text-align: right;\">\n",
       "      <th></th>\n",
       "      <th>Company_Brand</th>\n",
       "      <th>Sector</th>\n",
       "      <th>Stage</th>\n",
       "      <th>Amount($)</th>\n",
       "      <th>HeadQuarter</th>\n",
       "      <th>Year</th>\n",
       "    </tr>\n",
       "  </thead>\n",
       "  <tbody>\n",
       "    <tr>\n",
       "      <th>1449</th>\n",
       "      <td>Peak</td>\n",
       "      <td>Manchester, Greater Manchester</td>\n",
       "      <td>Series C</td>\n",
       "      <td>75000000.0</td>\n",
       "      <td>Information Technology &amp; Services</td>\n",
       "      <td>2021</td>\n",
       "    </tr>\n",
       "  </tbody>\n",
       "</table>\n",
       "</div>"
      ],
      "text/plain": [
       "     Company_Brand                          Sector     Stage   Amount($)  \\\n",
       "1449          Peak  Manchester, Greater Manchester  Series C  75000000.0   \n",
       "\n",
       "                            HeadQuarter  Year  \n",
       "1449  Information Technology & Services  2021  "
      ]
     },
     "execution_count": 92,
     "metadata": {},
     "output_type": "execute_result"
    }
   ],
   "source": [
    "selected_rows4 = fulldata[fulldata['Company_Brand'] == 'Peak']\n",
    "selected_rows4"
   ]
  },
  {
   "cell_type": "code",
   "execution_count": 93,
   "metadata": {},
   "outputs": [],
   "source": [
    "# Replace value in a specific row and column\n",
    "row_index = 28  # Row index of the element to replace\n",
    "column_index = 'HeadQuarter'  # Column index of the element to replace\n",
    "new_value = 'Haryana'  # New value to assign\n",
    "\n",
    "fulldata.at[row_index,column_index] = new_value"
   ]
  },
  {
   "cell_type": "code",
   "execution_count": 94,
   "metadata": {},
   "outputs": [],
   "source": [
    "# Replace value in a specific row and column\n",
    "row_index = 42,664  # Row index of the element to replace\n",
    "column_index = 'HeadQuarter'  # Column index of the element to replace\n",
    "new_value = 'New Delhi'  # New value to assign\n",
    "\n",
    "fulldata.at[row_index,column_index] = new_value"
   ]
  },
  {
   "cell_type": "code",
   "execution_count": 95,
   "metadata": {},
   "outputs": [],
   "source": [
    "# Replace value in a specific row and column\n",
    "row_index = 909  # Row index of the element to replace\n",
    "column_index = 'HeadQuarter'  # Column index of the element to replace\n",
    "new_value = 'Hauz Khas'  # New value to assign\n",
    "\n",
    "fulldata.at[row_index,column_index] = new_value"
   ]
  },
  {
   "cell_type": "code",
   "execution_count": 96,
   "metadata": {},
   "outputs": [],
   "source": [
    "# Replace value in a specific row and column\n",
    "row_index = 1450  # Row index of the element to replace\n",
    "column_index = 'HeadQuarter'  # Column index of the element to replace\n",
    "new_value = 'Manchester'  # New value to assign\n",
    "\n",
    "fulldata.at[row_index,column_index] = new_value"
   ]
  },
  {
   "cell_type": "code",
   "execution_count": 97,
   "metadata": {},
   "outputs": [],
   "source": [
    "# for a more efficient regex grouping convert some more brief sector names\n",
    "\n",
    "fulldata['Sector'] = fulldata['Sector'].str.lower()\n",
    "fulldata['Sector'] = fulldata['Sector'].apply(lambda x: 'business consumer' if x == 'consumer' else x)\n",
    "fulldata['Sector'] = fulldata['Sector'].apply(lambda x: 'e-vehicle' if x == 'ev' else x)\n",
    "fulldata['Sector'] = fulldata['Sector'].apply(lambda x: 'tech' if x == 'it' else x)\n",
    "\n",
    "def sector_redistribution(sector):\n",
    "    if re.search('bank|fintech|finance|crypto|account|credit|venture|crowd|blockchain|fund|lending|financial|'\n",
    "                 'trading|wealth|insurance|remittance|money|wealth|equity|investment|mortgage|financial services|'\n",
    "                 'nft|payments', sector):\n",
    "        return 'Finance'\n",
    "    elif re.search(r'automotive|air transport|transport|logistics|vehicle|transportation|'\n",
    "                   r'aviation|vehicles|tyre|fleet|wheels|aero|mobility|aeorspace|wl & rac protection|'\n",
    "                   r'micro-mobiity|delivery service', sector):\n",
    "        return 'Transport'\n",
    "    elif re.search(r'clean energy|energy|boil &|\\boil\\b|solar|electricity|environment', sector):\n",
    "        return 'Energy'\n",
    "    elif re.search(r'analytics|consulting|human|career|\\berp\\b|advertising|advertisement|market research|'\n",
    "                   r'entrepre|recruit|\\bhr\\b|working|sultancy|advisory|work|job|management|skill|legal|'\n",
    "                   r'crm|specific domain to individuals|information services', sector):\n",
    "        return 'Business Intelligence'\n",
    "    elif re.search('beauty|cosmetic|skincare|fashion|wear|cosmetics|textiles|eyewear|jewellery|cloth|eyeglasses', \n",
    "                   sector):\n",
    "        return 'Beauty & Fashion'\n",
    "    elif re.search('decor|fitness|training|wellness|personal care|deisgn|craft|design|podcast|'\n",
    "                   'lifestyle|spiritual|matrimony|living|cultural|home', sector):\n",
    "        return 'LifeStyle'\n",
    "    elif re.search('edutech|education|learn|edtech', sector):\n",
    "        return 'Education'\n",
    "    elif re.search(r'beverage|catering|cook|food|restaurants', sector):\n",
    "        return 'Food & Beverages'\n",
    "    elif re.search('sports|esports|game|ball|player|manchester', sector):\n",
    "        return 'Sports'\n",
    "    elif re.search('customer|hospital|tourism|events|weedding|travel|hosts|booking|wedding|qsr', sector):\n",
    "        return 'Hospitality'\n",
    "    elif re.search('2|trade|enterpise|commerce|business|commercial|consumer goods|Marketplace|'\n",
    "                   'business consumer|marketing|retail|market|store|furniture|wholesale|wine & spirits|'\n",
    "                   'multinational|e-|packaging|sales|tplace|warehouse|fm|product|merchandise|reatil|'\n",
    "                   'conglomerates|invoice discounting|supply chain|car service|service industry|'\n",
    "                   'company-as-a-service|consumer service|facilities support services|'\n",
    "                   'facilities services', sector):\n",
    "        return 'Commerce'\n",
    "    elif re.search('dental|health|health insurance|medic|supplement|biopharma|veterinary|'\n",
    "                   'pharma|heathcare|nutrition|hygiene|care|sanitation|bio|cannabis|tobacco|sciences', sector):\n",
    "        return 'Health'\n",
    "    elif re.search('agri|biotechnology|Industrial|farming|fish|milk|diary|dairy|dairy startup', sector):\n",
    "        return 'Agriculture'\n",
    "    elif re.search('battery|manufacturing|electronics|industrial automation|aerospace|conductor|'\n",
    "                   'gaming|robotics|engineering|mechanical|appliance|automation|ev startup|'\n",
    "                   'startup laboratory|e-vehicle|luxury car', sector):\n",
    "        return 'Manufacturing'\n",
    "    elif re.search('communities|smart cities|government|classifieds|community|water|defense|'\n",
    "                   'pollution|translation & localization|taxation|maritime', sector):\n",
    "        return 'Government'\n",
    "    elif re.search('media|dating|music|audio|gaming|creative|entertainment|broadcasting|video|'\n",
    "                   'blogging|content|celebrity|ott', sector):\n",
    "        return 'Media & Entertainment'\n",
    "    elif re.search('apartment|real estate|home|interior|construction|rental|housing|accomodation|hauz', sector):\n",
    "        return 'Real Estate'\n",
    "    elif re.search('telecom|news|escrow|publication', sector):\n",
    "        return 'Telecommunications'\n",
    "    elif re.search(r'artificial intelligence|tech|cloud|artificial|data|internet|things|apps|android|software|'\n",
    "                r'computer|mobile|3d printing|funding platform|applications|file|embedded systems|'\n",
    "                r'portals|fraud detection|search engine|nanotechnology|security|saas|\\bit company\\b|'\n",
    "                r'augmented reality|drone|ar startup|]\\baas\\b|app|/|virtual|it startup|'\n",
    "                r'photonics|e tailor|\\bai\\b|ai & debt|ai company|ai chatbot|iot startup|ai startup|\\biot\\b|'\n",
    "                r'\\bsocial platform\\b|\\bar platform\\b|\\bapi platform\\b|\\bmlops platform\\b|online storytelling|'\n",
    "                r'\\bdigital platform\\b|paas startup|taas startup|digital assistant',sector):\n",
    "        return 'Technology'\n",
    "    else:\n",
    "        return sector\n",
    "    \n",
    "\n",
    "fulldata['Sector'] = fulldata['Sector'].apply(sector_redistribution)"
   ]
  },
  {
   "cell_type": "code",
   "execution_count": 98,
   "metadata": {},
   "outputs": [
    {
     "data": {
      "text/plain": [
       "array(['Commerce', 'Agriculture', 'Finance', 'Technology',\n",
       "       'Business Intelligence', 'Transport', 'Food & Beverages',\n",
       "       'Telecommunications', 'Education', 'Beauty & Fashion', 'Energy',\n",
       "       'LifeStyle', 'Hospitality', 'Media & Entertainment', 'Health',\n",
       "       'Sports', 'Government', 'Real Estate', 'Manufacturing'],\n",
       "      dtype=object)"
      ]
     },
     "execution_count": 98,
     "metadata": {},
     "output_type": "execute_result"
    }
   ],
   "source": [
    "fulldata['Sector'].unique()"
   ]
  },
  {
   "cell_type": "code",
   "execution_count": 99,
   "metadata": {},
   "outputs": [
    {
     "data": {
      "text/html": [
       "<div>\n",
       "<style scoped>\n",
       "    .dataframe tbody tr th:only-of-type {\n",
       "        vertical-align: middle;\n",
       "    }\n",
       "\n",
       "    .dataframe tbody tr th {\n",
       "        vertical-align: top;\n",
       "    }\n",
       "\n",
       "    .dataframe thead th {\n",
       "        text-align: right;\n",
       "    }\n",
       "</style>\n",
       "<table border=\"1\" class=\"dataframe\">\n",
       "  <thead>\n",
       "    <tr style=\"text-align: right;\">\n",
       "      <th></th>\n",
       "      <th>Company_Brand</th>\n",
       "      <th>Sector</th>\n",
       "      <th>Stage</th>\n",
       "      <th>Amount($)</th>\n",
       "      <th>HeadQuarter</th>\n",
       "      <th>Year</th>\n",
       "    </tr>\n",
       "  </thead>\n",
       "  <tbody>\n",
       "    <tr>\n",
       "      <th>0</th>\n",
       "      <td>TheCollegeFever</td>\n",
       "      <td>Commerce</td>\n",
       "      <td>Pre-series A</td>\n",
       "      <td>250000.0</td>\n",
       "      <td>Bangalore</td>\n",
       "      <td>2018</td>\n",
       "    </tr>\n",
       "    <tr>\n",
       "      <th>1</th>\n",
       "      <td>Happy Cow Dairy</td>\n",
       "      <td>Agriculture</td>\n",
       "      <td>Pre-series A</td>\n",
       "      <td>588000.0</td>\n",
       "      <td>Mumbai</td>\n",
       "      <td>2018</td>\n",
       "    </tr>\n",
       "    <tr>\n",
       "      <th>2</th>\n",
       "      <td>MyLoanCare</td>\n",
       "      <td>Finance</td>\n",
       "      <td>Series A</td>\n",
       "      <td>955500.0</td>\n",
       "      <td>Gurgaon</td>\n",
       "      <td>2018</td>\n",
       "    </tr>\n",
       "    <tr>\n",
       "      <th>3</th>\n",
       "      <td>PayMe India</td>\n",
       "      <td>Finance</td>\n",
       "      <td>Angel Round</td>\n",
       "      <td>2000000.0</td>\n",
       "      <td>Noida</td>\n",
       "      <td>2018</td>\n",
       "    </tr>\n",
       "    <tr>\n",
       "      <th>4</th>\n",
       "      <td>Hasura</td>\n",
       "      <td>Technology</td>\n",
       "      <td>Pre-series A</td>\n",
       "      <td>1600000.0</td>\n",
       "      <td>Bangalore</td>\n",
       "      <td>2018</td>\n",
       "    </tr>\n",
       "    <tr>\n",
       "      <th>5</th>\n",
       "      <td>Tripshelf</td>\n",
       "      <td>Commerce</td>\n",
       "      <td>Pre-series A</td>\n",
       "      <td>235200.0</td>\n",
       "      <td>New Delhi</td>\n",
       "      <td>2018</td>\n",
       "    </tr>\n",
       "    <tr>\n",
       "      <th>6</th>\n",
       "      <td>Hyperdata.IO</td>\n",
       "      <td>Business Intelligence</td>\n",
       "      <td>Angel Round</td>\n",
       "      <td>735000.0</td>\n",
       "      <td>Hyderabad</td>\n",
       "      <td>2018</td>\n",
       "    </tr>\n",
       "    <tr>\n",
       "      <th>7</th>\n",
       "      <td>Pitstop</td>\n",
       "      <td>Transport</td>\n",
       "      <td>Pre-series A</td>\n",
       "      <td>1470000.0</td>\n",
       "      <td>Bangalore</td>\n",
       "      <td>2018</td>\n",
       "    </tr>\n",
       "    <tr>\n",
       "      <th>8</th>\n",
       "      <td>Mihuru</td>\n",
       "      <td>Finance</td>\n",
       "      <td>Pre-series A</td>\n",
       "      <td>150000.0</td>\n",
       "      <td>Mumbai</td>\n",
       "      <td>2018</td>\n",
       "    </tr>\n",
       "    <tr>\n",
       "      <th>9</th>\n",
       "      <td>Fyle</td>\n",
       "      <td>Finance</td>\n",
       "      <td>Pre-series A</td>\n",
       "      <td>1100000.0</td>\n",
       "      <td>Bangalore</td>\n",
       "      <td>2018</td>\n",
       "    </tr>\n",
       "  </tbody>\n",
       "</table>\n",
       "</div>"
      ],
      "text/plain": [
       "     Company_Brand                 Sector         Stage  Amount($)  \\\n",
       "0  TheCollegeFever               Commerce  Pre-series A   250000.0   \n",
       "1  Happy Cow Dairy            Agriculture  Pre-series A   588000.0   \n",
       "2       MyLoanCare                Finance      Series A   955500.0   \n",
       "3      PayMe India                Finance   Angel Round  2000000.0   \n",
       "4           Hasura             Technology  Pre-series A  1600000.0   \n",
       "5        Tripshelf               Commerce  Pre-series A   235200.0   \n",
       "6     Hyperdata.IO  Business Intelligence   Angel Round   735000.0   \n",
       "7          Pitstop              Transport  Pre-series A  1470000.0   \n",
       "8           Mihuru                Finance  Pre-series A   150000.0   \n",
       "9             Fyle                Finance  Pre-series A  1100000.0   \n",
       "\n",
       "  HeadQuarter  Year  \n",
       "0   Bangalore  2018  \n",
       "1      Mumbai  2018  \n",
       "2     Gurgaon  2018  \n",
       "3       Noida  2018  \n",
       "4   Bangalore  2018  \n",
       "5   New Delhi  2018  \n",
       "6   Hyderabad  2018  \n",
       "7   Bangalore  2018  \n",
       "8      Mumbai  2018  \n",
       "9   Bangalore  2018  "
      ]
     },
     "execution_count": 99,
     "metadata": {},
     "output_type": "execute_result"
    }
   ],
   "source": [
    "fulldata.head(10)"
   ]
  },
  {
   "cell_type": "code",
   "execution_count": 100,
   "metadata": {},
   "outputs": [
    {
     "data": {
      "text/plain": [
       "array(['Pre-series A', 'Series A', 'Angel Round', 'Series B', 'Equity',\n",
       "       'Grant', 'Debt', 'Series H', 'Series C', 'Series E', 'Series D',\n",
       "       'Corporate Round', 'Series G', 'Bridge Round', 'Series F',\n",
       "       'Series I'], dtype=object)"
      ]
     },
     "execution_count": 100,
     "metadata": {},
     "output_type": "execute_result"
    }
   ],
   "source": [
    "fulldata['Stage'].unique()"
   ]
  },
  {
   "cell_type": "code",
   "execution_count": 101,
   "metadata": {},
   "outputs": [],
   "source": [
    "# to help us analyse the data well we shall drop Alteria Capital as it is an outlier\n",
    "value_to_drop1 = 'Alteria Capital'\n",
    "fulldata = fulldata[fulldata['Company_Brand'] != value_to_drop1]"
   ]
  },
  {
   "cell_type": "markdown",
   "metadata": {},
   "source": [
    "### Export Data to csv for further analysis in Power BI"
   ]
  },
  {
   "cell_type": "code",
   "execution_count": null,
   "metadata": {},
   "outputs": [],
   "source": [
    "fulldata.to_csv(r'C:\\Users\\user\\Desktop\\marakesh\\india_startup.csv')"
   ]
  },
  {
   "cell_type": "markdown",
   "metadata": {},
   "source": [
    "# Exploratory Data Analysis (EDA)"
   ]
  },
  {
   "cell_type": "markdown",
   "metadata": {},
   "source": [
    "Univariate Analysis (UV) - 'Year'"
   ]
  },
  {
   "cell_type": "code",
   "execution_count": 102,
   "metadata": {},
   "outputs": [
    {
     "data": {
      "text/plain": [
       "<Axes: >"
      ]
     },
     "execution_count": 102,
     "metadata": {},
     "output_type": "execute_result"
    },
    {
     "data": {
      "image/png": "[encoded data removed]",
      "text/plain": [
       "<Figure size 640x480 with 1 Axes>"
      ]
     },
     "metadata": {},
     "output_type": "display_data"
    }
   ],
   "source": [
    "# Univariate analysis for the 'Year' column\n",
    "year_data = fulldata['Year']\n",
    "year_data.describe()  # Summary statistics\n",
    "year_data.value_counts()  # Frequency counts\n",
    "year_data.hist()  # Histogram"
   ]
  },
  {
   "cell_type": "markdown",
   "metadata": {},
   "source": [
    "### Explanation \n",
    "The univariate analysis on the Year column shows that 2021 has the most \n",
    "amount of the data, followed by 2020, 2018, and then 2019. "
   ]
  },
  {
   "cell_type": "markdown",
   "metadata": {},
   "source": [
    "UV - 'Company_Brand'"
   ]
  },
  {
   "cell_type": "code",
   "execution_count": 103,
   "metadata": {},
   "outputs": [
    {
     "data": {
      "text/plain": [
       "Company_Brand\n",
       "BharatPe               7\n",
       "Vedantu                6\n",
       "Spinny                 5\n",
       "Licious                5\n",
       "Jumbotail              5\n",
       "                      ..\n",
       "Uni                    1\n",
       "Credit Wise Capital    1\n",
       "Chargebee              1\n",
       "Livve                  1\n",
       "WeRize                 1\n",
       "Name: count, Length: 1239, dtype: int64"
      ]
     },
     "execution_count": 103,
     "metadata": {},
     "output_type": "execute_result"
    }
   ],
   "source": [
    "# Univariate analysis for the 'Company_Brand' column\n",
    "company_data = fulldata['Company_Brand']\n",
    "company_data.value_counts()  # Frequency counts"
   ]
  },
  {
   "cell_type": "code",
   "execution_count": 104,
   "metadata": {},
   "outputs": [
    {
     "name": "stdout",
     "output_type": "stream",
     "text": [
      "Company_Brand\n",
      "BharatPe         7\n",
      "Vedantu          6\n",
      "Spinny           5\n",
      "Licious          5\n",
      "Jumbotail        5\n",
      "Teachmint        4\n",
      "Infra.Market     4\n",
      "Captain Fresh    4\n",
      "Zetwerk          4\n",
      "Eggoz            4\n",
      "Name: count, dtype: int64\n"
     ]
    }
   ],
   "source": [
    "# Univariate analysis for the 'Company_Brand' column by Top 10\n",
    "company_data = fulldata['Company_Brand']\n",
    "top_10_companies = company_data.value_counts().head(10)\n",
    "print(top_10_companies)"
   ]
  },
  {
   "cell_type": "code",
   "execution_count": 105,
   "metadata": {},
   "outputs": [
    {
     "name": "stdout",
     "output_type": "stream",
     "text": [
      "     Company_Brand   Sector     Stage    Amount($) HeadQuarter  Year\n",
      "725       BharatPe  Finance  Series C   75000000.0   New Delhi  2020\n",
      "850       BharatPe  Finance      Debt   20000000.0   New Delhi  2021\n",
      "868       BharatPe  Finance  Series E  370000000.0   New Delhi  2021\n",
      "960       BharatPe  Finance  Series D  100000000.0   New Delhi  2021\n",
      "997       BharatPe  Finance      Debt    6000000.0   New Delhi  2021\n",
      "1001      BharatPe  Finance      Debt   10000000.0   New Delhi  2021\n",
      "1023      BharatPe  Finance      Debt    8200000.0   New Delhi  2021\n"
     ]
    }
   ],
   "source": [
    "# Examine the rows for BharatPe for some insights\n",
    "bharatpe_rows = fulldata[fulldata['Company_Brand'] == 'BharatPe']\n",
    "print(bharatpe_rows)"
   ]
  },
  {
   "cell_type": "markdown",
   "metadata": {},
   "source": [
    "### Explanation\n",
    "The univariate analysis on the Company/Brand column shows that BharatPe appeared most in the start-ups that secured funding.\n",
    "\n",
    "The analysis also shows that BharatPe has its headquarter in New Delhi, and is in the Finance sector. \n",
    "\n",
    "The company also received various funding amounts at different stages."
   ]
  },
  {
   "cell_type": "markdown",
   "metadata": {},
   "source": [
    "UV - 'HeadQuarter'"
   ]
  },
  {
   "cell_type": "code",
   "execution_count": 106,
   "metadata": {},
   "outputs": [
    {
     "data": {
      "text/plain": [
       "HeadQuarter\n",
       "Bangalore      527\n",
       "Mumbai         237\n",
       "Gurgaon        189\n",
       "New Delhi      159\n",
       "Chennai         58\n",
       "              ... \n",
       "Riyadh           1\n",
       "Seoul            1\n",
       "Bangkok          1\n",
       "Bihar            1\n",
       "Gandhinagar      1\n",
       "Name: count, Length: 69, dtype: int64"
      ]
     },
     "execution_count": 106,
     "metadata": {},
     "output_type": "execute_result"
    }
   ],
   "source": [
    "# Univariate analysis for the 'HeadQuarter' column\n",
    "company_data = fulldata['HeadQuarter']\n",
    "company_data.value_counts()  # Frequency counts"
   ]
  },
  {
   "cell_type": "code",
   "execution_count": 107,
   "metadata": {},
   "outputs": [
    {
     "name": "stdout",
     "output_type": "stream",
     "text": [
      "HeadQuarter\n",
      "Bangalore    527\n",
      "Mumbai       237\n",
      "Gurgaon      189\n",
      "New Delhi    159\n",
      "Chennai       58\n",
      "Pune          52\n",
      "Noida         40\n",
      "Hyderabad     39\n",
      "Jaipur        21\n",
      "Haryana       18\n",
      "Name: count, dtype: int64\n"
     ]
    }
   ],
   "source": [
    "# Univariate analysis for the 'HeadQuarter' column by top 10\n",
    "company_data = fulldata['HeadQuarter']\n",
    "top_10_companies = company_data.value_counts().head(10)\n",
    "print(top_10_companies)"
   ]
  },
  {
   "cell_type": "markdown",
   "metadata": {},
   "source": [
    "### Explanation\n",
    "The univariate analysis for the HeadQuarter column shows that startups in Bangalore appeared most in the data. \n",
    "\n",
    "This is followed by Mumbai, New Delhi and Gurgaon"
   ]
  },
  {
   "cell_type": "markdown",
   "metadata": {},
   "source": [
    "UV - 'Sector'"
   ]
  },
  {
   "cell_type": "code",
   "execution_count": 108,
   "metadata": {},
   "outputs": [
    {
     "data": {
      "text/plain": [
       "Sector\n",
       "Finance                  281\n",
       "Technology               232\n",
       "Commerce                 156\n",
       "Education                153\n",
       "Transport                104\n",
       "Health                    86\n",
       "Business Intelligence     74\n",
       "Food & Beverages          68\n",
       "LifeStyle                 50\n",
       "Media & Entertainment     49\n",
       "Agriculture               48\n",
       "Hospitality               39\n",
       "Beauty & Fashion          39\n",
       "Manufacturing             36\n",
       "Energy                    16\n",
       "Real Estate               16\n",
       "Sports                    15\n",
       "Government                 8\n",
       "Telecommunications         4\n",
       "Name: count, dtype: int64"
      ]
     },
     "execution_count": 108,
     "metadata": {},
     "output_type": "execute_result"
    }
   ],
   "source": [
    "# Univariate analysis for the 'Sector' column\n",
    "company_data = fulldata['Sector']\n",
    "company_data.value_counts()  # Frequency counts"
   ]
  },
  {
   "cell_type": "code",
   "execution_count": 109,
   "metadata": {},
   "outputs": [
    {
     "name": "stdout",
     "output_type": "stream",
     "text": [
      "Sector\n",
      "Finance                  281\n",
      "Technology               232\n",
      "Commerce                 156\n",
      "Education                153\n",
      "Transport                104\n",
      "Health                    86\n",
      "Business Intelligence     74\n",
      "Food & Beverages          68\n",
      "LifeStyle                 50\n",
      "Media & Entertainment     49\n",
      "Name: count, dtype: int64\n"
     ]
    }
   ],
   "source": [
    "# Univariate analysis for the 'Sector' column by top 10\n",
    "company_data = fulldata['Sector']\n",
    "top_10_companies = company_data.value_counts().head(10)\n",
    "print(top_10_companies)"
   ]
  },
  {
   "cell_type": "markdown",
   "metadata": {},
   "source": [
    "### Explanation \n",
    "The univariate analysis for the sector column shows that the Finance sector appeared most in the dataset. \n",
    "\n",
    "This is followed by Technology, Commerce and Education "
   ]
  },
  {
   "cell_type": "markdown",
   "metadata": {},
   "source": [
    "UV - 'Amount($)'"
   ]
  },
  {
   "cell_type": "code",
   "execution_count": 110,
   "metadata": {},
   "outputs": [
    {
     "name": "stdout",
     "output_type": "stream",
     "text": [
      "count    1.474000e+03\n",
      "mean     1.939695e+07\n",
      "std      6.151674e+07\n",
      "min      8.820000e+02\n",
      "25%      9.738825e+05\n",
      "50%      3.000000e+06\n",
      "75%      1.042500e+07\n",
      "max      1.000000e+09\n",
      "Name: Amount($), dtype: float64\n"
     ]
    }
   ],
   "source": [
    "# Univariate analysis for the 'Amount($)' column\n",
    "summary_stats = fulldata['Amount($)'].describe()\n",
    "print(summary_stats)"
   ]
  },
  {
   "cell_type": "code",
   "execution_count": 111,
   "metadata": {},
   "outputs": [
    {
     "data": {
      "text/plain": [
       "19396954.018317502"
      ]
     },
     "execution_count": 111,
     "metadata": {},
     "output_type": "execute_result"
    }
   ],
   "source": [
    "fulldata['Amount($)'].mean()"
   ]
  },
  {
   "cell_type": "markdown",
   "metadata": {},
   "source": [
    "The figures are too huge, making the explanation difficult. \n",
    "We will divide by 1000000 to make the summary statistics easier to read. "
   ]
  },
  {
   "cell_type": "code",
   "execution_count": 112,
   "metadata": {},
   "outputs": [
    {
     "name": "stdout",
     "output_type": "stream",
     "text": [
      "count    1474.000000\n",
      "mean        1.939695\n",
      "std         6.151674\n",
      "min         0.000088\n",
      "25%         0.097388\n",
      "50%         0.300000\n",
      "75%         1.042500\n",
      "max       100.000000\n",
      "Name: Amount($), dtype: float64\n"
     ]
    }
   ],
   "source": [
    "# Divide the 'Amount($)' column by 1,000,000\n",
    "fulldata['Amount($)'] = fulldata['Amount($)']/10000000\n",
    "\n",
    "# Calculate summary statistics\n",
    "amount_stats = fulldata['Amount($)'].describe()\n",
    "print(amount_stats)"
   ]
  },
  {
   "cell_type": "code",
   "execution_count": 113,
   "metadata": {},
   "outputs": [
    {
     "data": {
      "image/png": "[encoded data removed]",
      "text/plain": [
       "<Figure size 640x480 with 1 Axes>"
      ]
     },
     "metadata": {},
     "output_type": "display_data"
    }
   ],
   "source": [
    "# Distribution of funding amounts using a boxplot\n",
    "# Create a new Figure and an Axes object\n",
    "fig, ax = plt.subplots()\n",
    "\n",
    "# Create the box plot and specify the Axes to use (ax=ax)\n",
    "sns.boxplot(x=fulldata['Amount($)'], ax=ax)\n",
    "\n",
    "# Set the x-axis limits on the 'ax' object\n",
    "ax.set_xlim([0, 50])\n",
    "\n",
    "# Add labels and title\n",
    "plt.xlabel('Amount($)')\n",
    "plt.title('Distribution of Funding Amounts')\n",
    "\n",
    "# Display the plot\n",
    "plt.show()"
   ]
  },
  {
   "cell_type": "markdown",
   "metadata": {},
   "source": [
    "UV - 'Stage'"
   ]
  },
  {
   "cell_type": "code",
   "execution_count": 114,
   "metadata": {},
   "outputs": [
    {
     "data": {
      "text/plain": [
       "Stage\n",
       "Pre-series A       766\n",
       "Series A           275\n",
       "Series B           127\n",
       "Series C           107\n",
       "Debt                57\n",
       "Series D            51\n",
       "Series E            29\n",
       "Angel Round         19\n",
       "Series F            12\n",
       "Equity              11\n",
       "Bridge Round         6\n",
       "Series H             4\n",
       "Grant                3\n",
       "Corporate Round      3\n",
       "Series G             3\n",
       "Series I             1\n",
       "Name: count, dtype: int64"
      ]
     },
     "execution_count": 114,
     "metadata": {},
     "output_type": "execute_result"
    }
   ],
   "source": [
    "# Univariate analysis for the 'Sector' column\n",
    "company_data = fulldata['Stage']\n",
    "company_data.value_counts()  # Frequency counts"
   ]
  },
  {
   "cell_type": "markdown",
   "metadata": {},
   "source": [
    "### Explanation \n",
    "The univariate analysis on the stage column shows that most of the data on the stage of funding was Pre-series A in the dataset. "
   ]
  },
  {
   "cell_type": "code",
   "execution_count": 115,
   "metadata": {},
   "outputs": [
    {
     "name": "stdout",
     "output_type": "stream",
     "text": [
      "Sector\n",
      "Finance                  281\n",
      "Technology               232\n",
      "Commerce                 156\n",
      "Education                153\n",
      "Transport                104\n",
      "Health                    86\n",
      "Business Intelligence     74\n",
      "Food & Beverages          68\n",
      "LifeStyle                 50\n",
      "Media & Entertainment     49\n",
      "Name: count, dtype: int64\n"
     ]
    }
   ],
   "source": [
    "# Univariate analysis for the 'Sector' column by top 10\n",
    "company_data = fulldata['Stage']\n",
    "top_10_companies_stage = company_data.value_counts().head(10)\n",
    "print(top_10_companies)"
   ]
  },
  {
   "cell_type": "markdown",
   "metadata": {},
   "source": [
    "## Multivariate Analysis"
   ]
  },
  {
   "cell_type": "markdown",
   "metadata": {},
   "source": [
    "### Pairwise correlation matrix of numerical columns (year and Amount)"
   ]
  },
  {
   "cell_type": "code",
   "execution_count": 116,
   "metadata": {},
   "outputs": [
    {
     "data": {
      "image/png": "[encoded data removed]",
      "text/plain": [
       "<Figure size 640x480 with 2 Axes>"
      ]
     },
     "metadata": {},
     "output_type": "display_data"
    }
   ],
   "source": [
    "vfulldata = fulldata[['Year','Amount($)']]\n",
    "\n",
    "# Pairwise correlation matrix\n",
    "correlation_matrix = vfulldata.corr()\n",
    "sns.heatmap(correlation_matrix, annot=True, cmap='coolwarm')\n",
    "plt.title('Correlation Matrix')\n",
    "plt.show()"
   ]
  },
  {
   "cell_type": "markdown",
   "metadata": {},
   "source": [
    "#### Scatter plot: Amount($) by year to compare distribution of amounts across different years"
   ]
  },
  {
   "cell_type": "code",
   "execution_count": 117,
   "metadata": {},
   "outputs": [
    {
     "data": {
      "image/png": "[encoded data removed]",
      "text/plain": [
       "<Figure size 640x480 with 1 Axes>"
      ]
     },
     "metadata": {},
     "output_type": "display_data"
    }
   ],
   "source": [
    "# Create a new Figure and an Axes object\n",
    "fig, ax = plt.subplots()\n",
    "\n",
    "# Create the box plot and specify the Axes to use (ax=ax)\n",
    "plt.scatter(x = fulldata['Year'], y=fulldata['Amount($)'])\n",
    "\n",
    "# Set the x-axis limits on the 'ax' object\n",
    "ax.set_ylim([0, 50])\n",
    "\n",
    "plt.xlabel('Year')\n",
    "plt.ylabel('Amount ($)')\n",
    "plt.title('Amount($) vs Year')\n",
    "plt.show()"
   ]
  },
  {
   "cell_type": "markdown",
   "metadata": {},
   "source": [
    "#### Box plot: Amount($) by Sector to compare distribution of amounts across different sectors"
   ]
  },
  {
   "cell_type": "code",
   "execution_count": 118,
   "metadata": {},
   "outputs": [
    {
     "data": {
      "image/png": "[encoded data removed]",
      "text/plain": [
       "<Figure size 640x480 with 1 Axes>"
      ]
     },
     "metadata": {},
     "output_type": "display_data"
    }
   ],
   "source": [
    "# Create a new Figure and an Axes object\n",
    "fig, ax = plt.subplots()\n",
    "\n",
    "# Box plot: Amount($) by Sector\n",
    "sns.boxplot(x=fulldata['Sector'], y=fulldata['Amount($)'])\n",
    "\n",
    "# Set the x-axis limits on the 'ax' object\n",
    "ax.set_ylim([0, 50])\n",
    "\n",
    "plt.xlabel('Sector')\n",
    "plt.ylabel('Amount ($)')\n",
    "plt.title('Amount($) by Sector')\n",
    "plt.xticks(rotation=90)\n",
    "plt.show()"
   ]
  },
  {
   "cell_type": "code",
   "execution_count": 119,
   "metadata": {},
   "outputs": [
    {
     "data": {
      "image/png": "[encoded data removed]",
      "text/plain": [
       "<Figure size 640x480 with 1 Axes>"
      ]
     },
     "metadata": {},
     "output_type": "display_data"
    }
   ],
   "source": [
    "## Box plot: Amount($) by top 10 Sectors  \n",
    "# Top 10 sectors\n",
    "top_10_sectors = fulldata['Sector'].value_counts().head(10)\n",
    "\n",
    "# Filter the dataset for top 10 sectors\n",
    "filtered_df = fulldata[fulldata['Sector'].isin(top_10_sectors.index)]\n",
    "\n",
    "# Create a new Figure and an Axes object\n",
    "fig, ax = plt.subplots()\n",
    "\n",
    "# Box plot: Amount($) by Sector (Top 10)\n",
    "sns.boxplot(x=filtered_df['Sector'], y=filtered_df['Amount($)'])\n",
    "\n",
    "# Set the x-axis limits on the 'ax' object\n",
    "ax.set_ylim([0, 50])\n",
    "\n",
    "plt.xlabel('Sector')\n",
    "plt.ylabel('Amount ($)')\n",
    "plt.title('Amount($) by Sector (Top 10)')\n",
    "plt.xticks(rotation=90)\n",
    "plt.show()"
   ]
  },
  {
   "cell_type": "markdown",
   "metadata": {},
   "source": [
    "### Bar plot: Funding Stage count"
   ]
  },
  {
   "cell_type": "code",
   "execution_count": 120,
   "metadata": {},
   "outputs": [
    {
     "data": {
      "image/png": "[encoded data removed]",
      "text/plain": [
       "<Figure size 640x480 with 1 Axes>"
      ]
     },
     "metadata": {},
     "output_type": "display_data"
    }
   ],
   "source": [
    "# Bar plot: Funding Stage count\n",
    "stage_count = fulldata['Stage'].value_counts()\n",
    "plt.bar(stage_count.index, stage_count.values)\n",
    "plt.xlabel('Funding Stage')\n",
    "plt.ylabel('Count')\n",
    "plt.title('Funding Stage Count')\n",
    "plt.xticks(rotation=90)\n",
    "plt.show()"
   ]
  },
  {
   "cell_type": "code",
   "execution_count": 121,
   "metadata": {},
   "outputs": [
    {
     "data": {
      "image/png": "[encoded data removed]",
      "text/plain": [
       "<Figure size 640x480 with 1 Axes>"
      ]
     },
     "metadata": {},
     "output_type": "display_data"
    }
   ],
   "source": [
    "# Bar graph: Top 10 Funding Stage count\n",
    "plt.bar(top_10_companies_stage.index, top_10_companies_stage.values)\n",
    "plt.xlabel('Funding Stage')\n",
    "plt.ylabel('Count')\n",
    "plt.title('Top 10 Funding Stage Count')\n",
    "plt.xticks(rotation=90)\n",
    "plt.show()"
   ]
  },
  {
   "cell_type": "markdown",
   "metadata": {},
   "source": [
    "### Funding Stage count by Top 10 sectors"
   ]
  },
  {
   "cell_type": "code",
   "execution_count": 122,
   "metadata": {},
   "outputs": [
    {
     "data": {
      "image/png": "[encoded data removed]",
      "text/plain": [
       "<Figure size 640x480 with 1 Axes>"
      ]
     },
     "metadata": {},
     "output_type": "display_data"
    }
   ],
   "source": [
    "## Funding Stage count by Top 10 sectors\n",
    "# Top 10 sectors\n",
    "top_10_sectors = fulldata['Sector'].value_counts().head(10)\n",
    "\n",
    "# Filter the dataset for top 10 sectors\n",
    "filtered_df = fulldata[fulldata['Sector'].isin(top_10_sectors.index)]\n",
    "\n",
    "# Grouped bar plot: Funding Stage count by Sector (Top 10)\n",
    "grouped_stage_sector = filtered_df.groupby(['Stage', 'Sector']).size().unstack()\n",
    "grouped_stage_sector.plot(kind='bar', stacked=True)\n",
    "\n",
    "plt.xlabel('Funding Stage')\n",
    "plt.ylabel('Count')\n",
    "plt.title('Funding Stage Count by Sector (Top 10)')\n",
    "plt.legend(title='Sector', loc='upper right')\n",
    "plt.show()"
   ]
  },
  {
   "cell_type": "markdown",
   "metadata": {},
   "source": [
    "The x-axis represents the funding stages, the y-axis represents the count, and each bar is stacked by sector.\n",
    "The figure shows that EdTech and FinTech were the most funded sectors across the various stages of funding. "
   ]
  },
  {
   "cell_type": "markdown",
   "metadata": {},
   "source": [
    "# Hypotheses and Questions"
   ]
  },
  {
   "cell_type": "markdown",
   "metadata": {},
   "source": [
    "Hypothesis\n",
    "\n",
    "Null hypothesis: There is no significant relationship between a startup's sector and amount of funding secured.\n",
    "\n",
    "Alternative hypothesis: There is a significant relationship between a startup's sector and amount of funding secured."
   ]
  },
  {
   "cell_type": "markdown",
   "metadata": {},
   "source": [
    "Since there are more than 2 sectors, the ANOVA test would be appropriate to determine if there are significant differences\n",
    "in the mean funding amounts across sectors\n",
    "\n",
    "The p-value indicates the probability of observing the data if the null hypothesis (no relationship between sector and funding) is true.\n",
    "If the p-value is below a predetermined significance level (e.g., 0.05), you can reject the null hypothesis in favor of the alternative \n",
    "hypothesis, suggesting a significant relationship between sector and funding."
   ]
  },
  {
   "cell_type": "markdown",
   "metadata": {},
   "source": [
    "## ANOVA Test"
   ]
  },
  {
   "cell_type": "code",
   "execution_count": 123,
   "metadata": {},
   "outputs": [
    {
     "name": "stdout",
     "output_type": "stream",
     "text": [
      "ANOVA Test Results:\n",
      "F-statistic: 0.8667069818668733\n",
      "p-value: 0.6202441125148725\n",
      "Fail to reject the null hypothesis. There is no significant relationship between sector and funding.\n"
     ]
    }
   ],
   "source": [
    "# Divide the dataset into groups based on the startup's sector\n",
    "grouped_data = fulldata.groupby('Sector')['Amount($)'].apply(list)\n",
    "\n",
    "# Perform ANOVA test\n",
    "f_statistic, p_value = stats.f_oneway(*grouped_data)\n",
    "\n",
    "# Print the results\n",
    "print(\"ANOVA Test Results:\")\n",
    "print(\"F-statistic:\", f_statistic)\n",
    "print(\"p-value:\", p_value)\n",
    "\n",
    "# Interpret the results\n",
    "if p_value < 0.05:\n",
    "    print(\"Reject the null hypothesis. There is a significant relationship between sector and funding.\")\n",
    "else:\n",
    "    print(\"Fail to reject the null hypothesis. There is no significant relationship between sector and funding.\")"
   ]
  },
  {
   "cell_type": "markdown",
   "metadata": {},
   "source": [
    "# Answering the Questions"
   ]
  },
  {
   "cell_type": "markdown",
   "metadata": {},
   "source": [
    "### 1. Which companies received the highest amount of funding? \n"
   ]
  },
  {
   "cell_type": "code",
   "execution_count": 124,
   "metadata": {},
   "outputs": [
    {
     "data": {
      "image/png": "[encoded data removed]",
      "text/plain": [
       "<Figure size 1000x600 with 1 Axes>"
      ]
     },
     "metadata": {},
     "output_type": "display_data"
    }
   ],
   "source": [
    "# Group the data by company_brand and calculate the total funding amount\n",
    "highest_fund_brand = fulldata.groupby('Company_Brand')['Amount($)'].sum()\n",
    "\n",
    "# Sort the locations by funding amount in descending order\n",
    "top_10_companies = highest_fund_brand.nlargest(5)\n",
    "\n",
    "# Plot the total funding amount for the top 10 locations\n",
    "plt.figure(figsize=(10, 6))\n",
    "sns.barplot(x=top_10_companies.index, y=top_10_companies.values, palette='viridis')\n",
    "plt.xlabel('Company/Brand')\n",
    "plt.ylabel('Total Funding (Amount)')\n",
    "plt.title('Top 5 companies with the Highest Total Funding Amount')\n",
    "plt.xticks(rotation=0)\n",
    "\n",
    "# Display the plot\n",
    "plt.show()"
   ]
  },
  {
   "cell_type": "markdown",
   "metadata": {},
   "source": [
    "### 2. What is the trend in startup funding in India over the years?"
   ]
  },
  {
   "cell_type": "code",
   "execution_count": 125,
   "metadata": {},
   "outputs": [
    {
     "data": {
      "image/png": "[encoded data removed]",
      "text/plain": [
       "<Figure size 1000x600 with 1 Axes>"
      ]
     },
     "metadata": {},
     "output_type": "display_data"
    }
   ],
   "source": [
    "# Plotting a line graph to show the startup funding trends in India across the years (2018-2021)\n",
    "# Filter the fulldata to include only the needed years\n",
    "needed_years = ['2018', '2019', '2020', '2021']\n",
    "filtered_data = fulldata[fulldata['Year'].isin(needed_years)]\n",
    "\n",
    "# Group the filtered data by year and calculate the total funding amount for each year\n",
    "funding_by_year = filtered_data.groupby('Year')['Amount($)'].sum()\n",
    "\n",
    "# Create a line plot\n",
    "plt.figure(figsize=(10, 6))\n",
    "plt.plot(funding_by_year.index, funding_by_year.values, marker='o', color='purple')\n",
    "\n",
    "# Set the labels and title\n",
    "plt.xlabel('Year')\n",
    "plt.ylabel('Total Funding (Amount)')\n",
    "plt.title('Trend in Startup Funding in India')\n",
    "\n",
    "# Set the x-axis ticks to only display the needed years\n",
    "plt.xticks(funding_by_year.index)\n",
    "\n",
    "# Display the plot\n",
    "plt.show()"
   ]
  },
  {
   "cell_type": "markdown",
   "metadata": {},
   "source": [
    "### 3. At what funding stage did investors fund the highest?"
   ]
  },
  {
   "cell_type": "code",
   "execution_count": 126,
   "metadata": {},
   "outputs": [
    {
     "data": {
      "image/png": "[encoded data removed]",
      "text/plain": [
       "<Figure size 1000x600 with 1 Axes>"
      ]
     },
     "metadata": {},
     "output_type": "display_data"
    }
   ],
   "source": [
    "# Group the data by company_brand and calculate the total funding amount\n",
    "highest_fund_stage = fulldata.groupby('Stage')['Amount($)'].sum()\n",
    "\n",
    "# Sort the locations by funding amount in descending order\n",
    "top_10_stages = highest_fund_stage.nlargest(5)\n",
    "\n",
    "# Plot the total funding amount for the top 10 locations\n",
    "plt.figure(figsize=(10, 6))\n",
    "sns.barplot(y=top_10_stages.index, x=top_10_stages.values, palette='viridis')\n",
    "plt.xlabel('Total Funding (Amount)')\n",
    "plt.ylabel('Stages of Funding')\n",
    "plt.title('Top 10 stages with the Highest Funding')\n",
    "plt.xticks(rotation=0)\n",
    "\n",
    "# Display the plot\n",
    "plt.show()"
   ]
  },
  {
   "cell_type": "markdown",
   "metadata": {},
   "source": [
    "### 4. Which cities received the highest amount of funding ?"
   ]
  },
  {
   "cell_type": "code",
   "execution_count": 127,
   "metadata": {},
   "outputs": [
    {
     "data": {
      "image/png": "[encoded data removed]",
      "text/plain": [
       "<Figure size 640x480 with 1 Axes>"
      ]
     },
     "metadata": {},
     "output_type": "display_data"
    }
   ],
   "source": [
    "# Do a count of the values for each headquarter in the merged_df\n",
    "top_5_cities = fulldata['HeadQuarter'].value_counts().head()\n",
    "\n",
    "# Group the data by company_brand and calculate the total funding amount\n",
    "highest_fund_stage = fulldata.groupby('HeadQuarter')['Amount($)'].sum()\n",
    "\n",
    "# Plot the total funding amount for the top 5 cities\n",
    "\n",
    "plt.bar(top_5_cities.index,top_5_cities.values)\n",
    "plt.xlabel('HeadQuarter')\n",
    "plt.ylabel('Count')\n",
    "plt.title('Top 5 Cities with the Highest Count of Companies')\n",
    "plt.xticks(rotation=0)\n",
    "\n",
    "# Display the plot\n",
    "plt.show()"
   ]
  },
  {
   "cell_type": "markdown",
   "metadata": {},
   "source": [
    "### 5. Which sectors received the highest amount of funding? "
   ]
  },
  {
   "cell_type": "code",
   "execution_count": 128,
   "metadata": {},
   "outputs": [
    {
     "data": {
      "image/png": "[encoded data removed]",
      "text/plain": [
       "<Figure size 640x480 with 1 Axes>"
      ]
     },
     "metadata": {},
     "output_type": "display_data"
    }
   ],
   "source": [
    "# Plotting a vertical bar graph showing the total funding amount for the top 10 sectors/industries in the Indian startup ecosystem.\n",
    "\n",
    "# Calculate the total funding amount per sector by grouping the data based on the 'Sector' column and then summing the 'Amount($)' column. \n",
    "# .head(10) sorts the sectors in descending order and displays the top 10 sectors with the highest funding amount.\n",
    "top_10_sectors = fulldata.groupby('Sector')['Amount($)'].sum().sort_values(ascending=False).head(10)\n",
    "\n",
    "plt.bar(top_10_sectors.index,top_10_sectors.values)\n",
    "plt.xlabel('Total Funding Amount ($)')\n",
    "plt.ylabel('Sectors')\n",
    "plt.title('Top 10 Sectors with Highest Funding')\n",
    "plt.xticks(rotation=60)\n",
    "\n",
    "# Display the plot\n",
    "plt.show()"
   ]
  },
  {
   "cell_type": "markdown",
   "metadata": {},
   "source": [
    "### Conclusion"
   ]
  },
  {
   "cell_type": "markdown",
   "metadata": {},
   "source": [
    "The Indian startup ecosystem offers immense opportunities for entrepreneurs seeking funding to realize their innovative ideas. By analyzing the funding trends and factors influencing success, we have gained valuable insights to enhance our chances of securing funding for our startup. Understanding the sectors and cities that attract significant investments and being aware of the market dynamics will guide our decision-making process."
   ]
  }
 ],
 "metadata": {
  "kernelspec": {
   "display_name": "pandas",
   "language": "python",
   "name": "python3"
  },
  "language_info": {
   "codemirror_mode": {
    "name": "ipython",
    "version": 3
   },
   "file_extension": ".py",
   "mimetype": "text/x-python",
   "name": "python",
   "nbconvert_exporter": "python",
   "pygments_lexer": "ipython3",
   "version": "3.10.11"
  },
  "orig_nbformat": 4
 },
 "nbformat": 4,
 "nbformat_minor": 2
}
